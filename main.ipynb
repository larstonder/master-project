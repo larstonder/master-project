{
 "cells": [
  {
   "cell_type": "markdown",
   "id": "dfff27a0",
   "metadata": {},
   "source": [
    "# Main simulator loop"
   ]
  },
  {
   "cell_type": "markdown",
   "id": "8b12c13c",
   "metadata": {},
   "source": [
    "## Imports, config"
   ]
  },
  {
   "cell_type": "code",
   "execution_count": 1,
   "id": "4d534ed7",
   "metadata": {},
   "outputs": [],
   "source": [
    "import os\n",
    "from pathlib import Path\n",
    "from path_utils import use_path\n",
    "\n",
    "base_dir = Path(__file__).resolve().parent if \"__file__\" in globals() else Path.cwd()\n",
    "\n",
    "# Use relative paths from the base directory\n",
    "config_path = str(base_dir / \"configs/datasets/nuplan/8cams_undistorted.yaml\")\n",
    "checkpoint_path = str(base_dir / \"output/master-project/run_omnire_undistorted_8cams_0\")\n",
    "n_steps = 100"
   ]
  },
  {
   "cell_type": "markdown",
   "id": "b72d48ea",
   "metadata": {},
   "source": [
    "## Initialize simulator, environment model and the random agent"
   ]
  },
  {
   "cell_type": "code",
   "execution_count": 52,
   "id": "3eef672f",
   "metadata": {},
   "outputs": [
    {
     "name": "stdout",
     "output_type": "stream",
     "text": [
      "Initializing NuPlan simulator...\n",
      "<nuplan.common.actor_state.ego_state.EgoState object at 0x7fcee6bd4a90>\n",
      "NuPlan initialized.\n"
     ]
    }
   ],
   "source": [
    "\"\"\"\n",
    "This script initializes a NuPlan simulator and\n",
    "provides methods to get the current state of the simulation\n",
    "and perform actions based on a given trajectory.\n",
    "It uses the NuPlan database and maps to create a simulation environment.\n",
    "It also includes a function to create a waypoint from a given point.\n",
    "\"\"\"\n",
    "\n",
    "import os\n",
    "from sim_types import State, Position\n",
    "from omegaconf import OmegaConf\n",
    "from nuplan.common.actor_state.oriented_box import OrientedBox\n",
    "from nuplan.common.actor_state.vehicle_parameters import get_pacifica_parameters\n",
    "from nuplan.common.actor_state.state_representation import StateSE2\n",
    "from nuplan.common.actor_state.waypoint import Waypoint\n",
    "from nuplan.planning.scenario_builder.nuplan_db.nuplan_scenario_builder import NuPlanScenarioBuilder\n",
    "from nuplan.planning.scenario_builder.scenario_filter import ScenarioFilter\n",
    "from nuplan.planning.simulation.observation.tracks_observation import TracksObservation\n",
    "from nuplan.planning.simulation.simulation_time_controller.step_simulation_time_controller import (\n",
    "    StepSimulationTimeController,\n",
    ")\n",
    "from nuplan.planning.simulation.simulation import Simulation\n",
    "from nuplan.planning.simulation.simulation_setup import SimulationSetup\n",
    "from nuplan.planning.script.builders.worker_pool_builder import build_worker\n",
    "from nuplan.planning.simulation.controller.perfect_tracking import PerfectTrackingController\n",
    "from nuplan.planning.simulation.trajectory.interpolated_trajectory import InterpolatedTrajectory\n",
    "from nuplan.common.actor_state.dynamic_car_state import DynamicCarState\n",
    "from nuplan.common.actor_state.state_representation import StateVector2D\n",
    "from nuplan.common.actor_state.ego_state import EgoState\n",
    "from nuplan.common.actor_state.ego_state import CarFootprint\n",
    "\n",
    "\n",
    "NUPLAN_DATA_ROOT = os.getenv('NUPLAN_DATA_ROOT', '/data/sets/nuplan')\n",
    "NUPLAN_MAPS_ROOT = os.getenv('NUPLAN_MAPS_ROOT', '/data/sets/nuplan/maps')\n",
    "NUPLAN_DB_FILES = os.getenv('NUPLAN_DB_FILES', '/data/sets/nuplan/nuplan-v1.1/splits/mini')\n",
    "NUPLAN_MAP_VERSION = os.getenv('NUPLAN_MAP_VERSION', 'nuplan-maps-v1.0')\n",
    "NUPLAN_SENSOR_ROOT = f\"{NUPLAN_DATA_ROOT}/nuplan-v1.1/sensor_blobs\"\n",
    "DB_FILE = f\"{NUPLAN_DATA_ROOT}/nuplan-v1.1/splits/mini/2021.05.12.22.28.35_veh-35_00620_01164.db\"\n",
    "MAP_NAME = \"us-nv-las-vegas\"\n",
    "\n",
    "class Simulator:\n",
    "    \"\"\"Base class for the simulator.\"\"\"\n",
    "    def __init__(self):\n",
    "        pass\n",
    "\n",
    "    def get_state(self):\n",
    "        \"\"\"Get the current state of the simulation.\"\"\"\n",
    "        raise NotImplementedError(\"This method should be overridden in subclasses.\")\n",
    "\n",
    "    def do_action(self, action):\n",
    "        \"\"\"Perform an action in the simulation.\"\"\"\n",
    "        raise NotImplementedError(\"This method should be overridden in subclasses.\")\n",
    "\n",
    "class NuPlan(Simulator):\n",
    "    \"\"\"\n",
    "    NuPlan simulator class that initializes the NuPlan simulation environment.\n",
    "    It uses the NuPlan database and maps to create a simulation environment.\n",
    "    It provides methods to get the current state of the simulation and perform\n",
    "    actions based on a given trajectory.\n",
    "    \"\"\"\n",
    "\n",
    "    def __init__(self):\n",
    "        super().__init__()\n",
    "        print(\"Initializing NuPlan simulator...\")\n",
    "        scenario_builder = NuPlanScenarioBuilder(\n",
    "            data_root=NUPLAN_DATA_ROOT,\n",
    "            map_root=NUPLAN_MAPS_ROOT,\n",
    "            sensor_root=NUPLAN_SENSOR_ROOT,\n",
    "            db_files=[DB_FILE],\n",
    "            map_version=NUPLAN_MAP_VERSION,\n",
    "            vehicle_parameters=get_pacifica_parameters(),\n",
    "            include_cameras=False,\n",
    "            verbose=True\n",
    "        )\n",
    "\n",
    "        scenario_filter = ScenarioFilter(\n",
    "            log_names = [\"2021.05.12.22.28.35_veh-35_00620_01164\"],\n",
    "            scenario_types = None,\n",
    "            scenario_tokens = None,\n",
    "            map_names = None,\n",
    "            num_scenarios_per_type = None,\n",
    "            limit_total_scenarios = None,\n",
    "            timestamp_threshold_s = None,\n",
    "            ego_displacement_minimum_m = None,\n",
    "            expand_scenarios = False,\n",
    "            remove_invalid_goals = False,\n",
    "            shuffle = False\n",
    "        )\n",
    "\n",
    "        worker_config = OmegaConf.create({\n",
    "            'worker': {\n",
    "                '_target_': 'nuplan.planning.utils.multithreading.worker_sequential.Sequential',\n",
    "            }\n",
    "        })\n",
    "\n",
    "        worker = build_worker(worker_config)\n",
    "        scenario = scenario_builder.get_scenarios(scenario_filter, worker)[0]\n",
    "\n",
    "        time_controller = StepSimulationTimeController(scenario)\n",
    "        observation = TracksObservation(scenario)\n",
    "        controller = PerfectTrackingController(scenario)\n",
    "\n",
    "        simulation_setup = SimulationSetup(\n",
    "            time_controller=time_controller,\n",
    "            observations=observation,\n",
    "            ego_controller=controller,\n",
    "            scenario=scenario\n",
    "        )\n",
    "\n",
    "        self.simulation = Simulation(\n",
    "            simulation_setup=simulation_setup,\n",
    "            callback=None,\n",
    "            simulation_history_buffer_duration=2.0\n",
    "        )\n",
    "\n",
    "        self.simulation.initialize()\n",
    "\n",
    "\n",
    "        planner_input = self.simulation.get_planner_input()\n",
    "        history = planner_input.history\n",
    "        self.original_ego_state, self.original_observation_state = history.current_state\n",
    "        \n",
    "        print(self.original_ego_state)\n",
    "\n",
    "        self.ego_vehicle_oriented_box = self.original_ego_state.waypoint.oriented_box\n",
    "\n",
    "        print(\"NuPlan initialized.\")\n",
    "\n",
    "    def get_state(self) -> State:\n",
    "        planner_input = self.simulation.get_planner_input()\n",
    "        history = planner_input.history\n",
    "        ego_state, observation_state = history.current_state\n",
    "\n",
    "        ego_pos: Position = Position(\n",
    "            x=ego_state.waypoint.center.x,\n",
    "            y=ego_state.waypoint.center.y,\n",
    "            # x=0,\n",
    "            # y=0,\n",
    "            z=606.740,  # height of camera\n",
    "            heading=ego_state.waypoint.heading\n",
    "        )\n",
    "        agent_pos_list: list[Position] = [\n",
    "            Position(\n",
    "                x=agent.center.x,\n",
    "                y=agent.center.y,\n",
    "                z=2,\n",
    "                heading=agent.center.heading\n",
    "            )\n",
    "            for agent in observation_state.tracked_objects.get_agents()\n",
    "        ]\n",
    "        state = State(\n",
    "            ego_pos=ego_pos,\n",
    "            vehicle_pos_list=agent_pos_list,\n",
    "            timestamp=ego_state.waypoint.time_point\n",
    "        )\n",
    "        return state\n",
    "\n",
    "    def do_action(self, action):\n",
    "        trajectory = action\n",
    "        interpolated_trajectory = self.create_interpolated_trajectory(trajectory)\n",
    "        self.simulation.propagate(interpolated_trajectory)\n",
    "\n",
    "    def create_interpolated_trajectory(self, trajectory):\n",
    "        \"\"\"\n",
    "        Create an interpolated trajectory from a given trajectory.\n",
    "        :param trajectory: The trajectory to create the interpolated trajectory from.\n",
    "        :return: The created interpolated trajectory.\n",
    "        \"\"\"\n",
    "        # Convert Waypoints to EgoStates\n",
    "        ego_states = []\n",
    "        vehicle_parameters = get_pacifica_parameters()\n",
    "        \n",
    "        for waypoint in trajectory:\n",
    "            # Extract data from the waypoint\n",
    "            time_point = waypoint.time_point\n",
    "            oriented_box = waypoint.oriented_box\n",
    "            velocity = waypoint.velocity\n",
    "            \n",
    "            # Create a dynamic car state with speed from velocity\n",
    "            speed = (velocity.x**2 + velocity.y**2)**0.5  # Calculate speed from velocity components\n",
    "            \n",
    "            car_footprint = CarFootprint(\n",
    "                center=oriented_box.center,\n",
    "                vehicle_parameters=vehicle_parameters,\n",
    "            )\n",
    "            \n",
    "            dynamic_car_state = DynamicCarState(\n",
    "                rear_axle_to_center_dist=vehicle_parameters.cog_position_from_rear_axle,\n",
    "                rear_axle_velocity_2d=StateVector2D(velocity.x, velocity.y),\n",
    "                rear_axle_acceleration_2d=StateVector2D(0, 0)  # Assuming no acceleration for simplicity\n",
    "            )\n",
    "            \n",
    "            # Create an EgoState\n",
    "            ego_state = EgoState(\n",
    "                time_point=time_point,\n",
    "                car_footprint=car_footprint,\n",
    "                dynamic_car_state=dynamic_car_state,\n",
    "                tire_steering_angle=0.0,  # Assuming no steering angle for simplicity\n",
    "                is_in_auto_mode=True,\n",
    "            )\n",
    "            \n",
    "            ego_states.append(ego_state)\n",
    "        \n",
    "        # Create an interpolated trajectory with EgoState objects\n",
    "        return InterpolatedTrajectory(ego_states)\n",
    "\n",
    "    def create_waypoint_from_point(self, point):\n",
    "        \"\"\"\n",
    "        Create a waypoint from a point.\n",
    "        :param point: The point to create the waypoint from.\n",
    "        :return: The created waypoint.\n",
    "        \"\"\"\n",
    "        pose = StateSE2(point.x, point.y, point.yaw)\n",
    "        oriented_box = OrientedBox(\n",
    "            pose,\n",
    "            width=self.ego_vehicle_oriented_box.width,\n",
    "            length=self.ego_vehicle_oriented_box.length,\n",
    "            height=self.ego_vehicle_oriented_box.height\n",
    "        )\n",
    "        return Waypoint(\n",
    "            time_point=point.time_point,\n",
    "            oriented_box=oriented_box,\n",
    "            velocity=point.velocity\n",
    "        )\n",
    "\n",
    "simulator = NuPlan()"
   ]
  },
  {
   "cell_type": "code",
   "execution_count": 45,
   "id": "673af314",
   "metadata": {},
   "outputs": [],
   "source": [
    "import numpy as np\n",
    "import torch\n",
    "\n",
    "from sim_types import State\n",
    "from environment_model import OmniReSetup\n",
    "\n",
    "class OmniReModel:\n",
    "    def __init__(self, setup: OmniReSetup):\n",
    "        self.data_cfg = setup.data_cfg\n",
    "        self.train_cfg = setup.train_cfg\n",
    "        self.trainer = setup.trainer\n",
    "        self.dataset = setup.dataset\n",
    "        self.device = setup.device\n",
    "        self.camera_matrix_cache = {}\n",
    "    \n",
    "    def render_single_frame(self, frame_data: dict) -> np.ndarray:\n",
    "        \"\"\"\n",
    "        Render a single frame based on provided frame data.\n",
    "        \n",
    "        Args:\n",
    "            frame_data (dict): Dictionary containing camera and image info for the frame\n",
    "            \n",
    "        Returns:\n",
    "            np.ndarray: The rendered RGB image as a numpy array\n",
    "        \"\"\"\n",
    "        self.trainer.set_eval()\n",
    "        \n",
    "        with torch.no_grad():\n",
    "            # Create copies of the dictionaries to avoid modifying originals\n",
    "            cam_infos = {}\n",
    "            image_infos = {}\n",
    "            \n",
    "            # Move camera info tensors to GPU\n",
    "            for key, value in frame_data[\"cam_infos\"].items():\n",
    "                if isinstance(value, torch.Tensor):\n",
    "                    cam_infos[key] = value.to(self.device)\n",
    "                else:\n",
    "                    cam_infos[key] = value\n",
    "            \n",
    "            # Move image info tensors to GPU\n",
    "            for key, value in frame_data[\"image_infos\"].items():\n",
    "                if isinstance(value, torch.Tensor):\n",
    "                    image_infos[key] = value.to(self.device)\n",
    "                else:\n",
    "                    image_infos[key] = value\n",
    "\n",
    "            # Perform rendering\n",
    "            outputs = self.trainer(\n",
    "                image_infos=image_infos,\n",
    "                camera_infos=cam_infos,\n",
    "                novel_view=True\n",
    "            )\n",
    "\n",
    "            # Clip RGB output to valid range, matching what's done in render()\n",
    "            if \"rgb\" in outputs:\n",
    "                outputs[\"rgb\"] = outputs[\"rgb\"].clamp(0., 1.)\n",
    "\n",
    "            # Extract RGB image and convert to numpy\n",
    "            rgb = outputs[\"rgb\"].cpu().numpy()\n",
    "\n",
    "            # If depth is needed, you can extract it too\n",
    "            if \"depth\" in outputs:\n",
    "                depth = outputs[\"depth\"].cpu().numpy()\n",
    "                return rgb, depth\n",
    "\n",
    "            return rgb\n",
    "\n",
    "    def get_sensor_output(self, state):\n",
    "        \"\"\"\n",
    "        Generate sensor output (RGB image) for the given simulation state.\n",
    "        \n",
    "        Args:\n",
    "            state (dict): Current state of the simulation containing:\n",
    "                - camera_position (np.ndarray): 3D position of the camera\n",
    "                - camera_rotation (np.ndarray): Rotation of the camera (e.g., quaternion)\n",
    "                - vehicle_positions (dict): Dictionary mapping vehicle IDs to positions\n",
    "                - vehicle_rotations (dict): Dictionary mapping vehicle IDs to rotations\n",
    "                - timestamp (float): Current simulation time\n",
    "                \n",
    "        Returns:\n",
    "            dict: Sensor outputs including rendered image\n",
    "        \"\"\"\n",
    "        # Prepare frame data for rendering based on current state\n",
    "        frame_data = self.prepare_frame_data(state)\n",
    "\n",
    "        # Render the image\n",
    "        rgb_image = self.render_single_frame(frame_data)\n",
    "\n",
    "        # Create sensor output dictionary\n",
    "        sensor_output = {\n",
    "            \"rgb_image\": rgb_image,\n",
    "            # Add other sensor outputs as needed\n",
    "        }\n",
    "\n",
    "        return sensor_output\n",
    "\n",
    "    def prepare_frame_data(self, state: State):\n",
    "        \"\"\"\n",
    "        Prepare the frame data needed for rendering based on simulation state.\n",
    "        \n",
    "        Args:\n",
    "            state (dict): Current state of the simulation\n",
    "            \n",
    "        Returns:\n",
    "            dict: Frame data dictionary with cam_infos and image_infos\n",
    "        \"\"\"\n",
    "        # Extract camera information\n",
    "        camera_position = torch.tensor([\n",
    "            state.ego_pos.x,\n",
    "            state.ego_pos.y,\n",
    "            state.ego_pos.z\n",
    "        ], dtype=torch.float32)\n",
    "        \n",
    "        # Assuming state.ego_pos.heading is a scalar representing the yaw angle\n",
    "        heading = torch.tensor(state.ego_pos.heading)\n",
    "        half_yaw = heading / 2\n",
    "        camera_rotation = torch.tensor([\n",
    "            0.0,                     # x (roll)\n",
    "            0.0,                     # y (pitch)\n",
    "            torch.sin(half_yaw),    # z\n",
    "            torch.cos(half_yaw)     # w\n",
    "        ])\n",
    "        \n",
    "        timestamp = state.timestamp.time_us\n",
    "\n",
    "        # Get camera matrix\n",
    "        c2w = self.compute_camera_matrix(camera_position, camera_rotation)\n",
    "        \n",
    "        # these are the intrinsics for the camera TODO: load from file\n",
    "        # 1.545000000000000000e+03\n",
    "        # 1.545000000000000000e+03\n",
    "        # 9.600000000000000000e+02\n",
    "        # 5.600000000000000000e+02\n",
    "        # -3.561230000000000229e-01\n",
    "        # 1.725450000000000039e-01\n",
    "        # -2.129999999999999949e-03\n",
    "        # 4.640000000000000027e-04\n",
    "        # -5.231000000000000233e-02\n",
    "        \n",
    "        intrinsics = torch.tensor([\n",
    "            1.545000000000000000e+03,  # fx\n",
    "            1.545000000000000000e+03,  # fy\n",
    "            9.600000000000000000e+02,  # cx\n",
    "            5.600000000000000000e+02,  # cy\n",
    "            -3.561230000000000229e-01, # skew_x\n",
    "            1.725450000000000039e-01,  # skew_y\n",
    "            -2.129999999999999949e-03, # skew_xy\n",
    "            4.640000000000000027e-04,  # skew_yx\n",
    "            -5.231000000000000233e-02   # skew_yy\n",
    "        ], dtype=torch.float32, device=self.device)\n",
    "        \n",
    "        # Reshape intrinsics to match the expected input shape [3,3]\n",
    "        intrinsics = intrinsics.view(3, 3).to(self.device)\n",
    "\n",
    "        # Create camera information dictionary\n",
    "        cam_infos = {\n",
    "            \"intrinsics\": intrinsics,  # Placeholder for intrinsics\n",
    "            \"width\": torch.tensor([1280], device=self.device),\n",
    "            \"height\": torch.tensor([720], device=self.device),\n",
    "            \"camera_to_world\": c2w,\n",
    "            # Add other camera parameters required by your model\n",
    "        }\n",
    "\n",
    "        # Vehicle information\n",
    "        vehicles = getattr(state, \"vehicle_pos_list\", {})\n",
    "        \n",
    "        # vehicles is on the form Position(x=664432.4584765462, y=3998282.198022293, z=0, heading=-1.5377766955975682\n",
    "        \n",
    "        vehicle_positions = {\n",
    "            vehicle_id: np.array([vehicle.x, vehicle.y, vehicle.z], dtype=np.float32)\n",
    "            for vehicle_id, vehicle in enumerate(vehicles)\n",
    "        }\n",
    "        vehicle_rotations = {\n",
    "            vehicle_id: np.array([0.0, 0.0, np.sin(vehicle.heading / 2), np.cos(vehicle.heading / 2)], dtype=np.float32)\n",
    "            for vehicle_id, vehicle in enumerate(vehicles)\n",
    "        }\n",
    "\n",
    "        # Create vehicle information for the renderer\n",
    "        # This depends on how your renderer expects vehicle data\n",
    "        # vehicle_data = {\n",
    "        #     vehicle_id: {\n",
    "        #         \"position\": torch.tensor(position, device=self.device),\n",
    "        #         \"rotation\": torch.tensor(vehicle_rotations.get(vehicle_id, np.array([1.0, 0.0, 0.0, 0.0])), device=self.device),\n",
    "        #     }\n",
    "        #     for vehicle_id, position in vehicle_positions.items()\n",
    "        # }\n",
    "        \n",
    "        vehicle_data = {\n",
    "            vehicle_id: {\n",
    "                \"position\": torch.tensor(position, device=self.device),\n",
    "                \"rotation\": torch.tensor(vehicle_rotations.get(vehicle_id, np.array([1.0, 0.0, 0.0, 0.0])), device=self.device),\n",
    "            }\n",
    "            for vehicle_id, position in vehicle_positions.items()\n",
    "        }\n",
    "\n",
    "        # Create image information dictionary\n",
    "        # This includes any additional data needed for rendering\n",
    "        \n",
    "        normalized_time = (timestamp - self.dataset.start_timestep) / (self.dataset.end_timestep - self.dataset.start_timestep)\n",
    "        \n",
    "        image_infos = {\n",
    "            \"timestamp\": torch.tensor([timestamp], device=self.device),\n",
    "            \"vehicles\": vehicle_data,\n",
    "            \"normed_time\": torch.tensor([normalized_time], device=self.device),\n",
    "            \"img_idx\": torch.tensor([0]),\n",
    "            \"viewdirs\": self.compute_viewdirs(\n",
    "                intrinsics=cam_infos[\"intrinsics\"],\n",
    "                H=cam_infos[\"height\"],\n",
    "                W=cam_infos[\"width\"],\n",
    "                device=self.device\n",
    "            )\n",
    "            # Add other required image information\n",
    "        }\n",
    "\n",
    "        return {\n",
    "            \"cam_infos\": cam_infos,\n",
    "            \"image_infos\": image_infos\n",
    "        }\n",
    "    \n",
    "    def compute_viewdirs(self, intrinsics, H, W, device):\n",
    "        \"\"\"Returns (H, W, 3) ray directions in camera coordinates\"\"\"\n",
    "        fx, fy = intrinsics[0, 0], intrinsics[1, 1]\n",
    "        cx, cy = intrinsics[0, 2], intrinsics[1, 2]\n",
    "        \n",
    "        W_val = W.item() if isinstance(W, torch.Tensor) else W\n",
    "        H_val = H.item() if isinstance(H, torch.Tensor) else H\n",
    "\n",
    "        i, j = torch.meshgrid(\n",
    "            torch.arange(W_val, device=device),\n",
    "            torch.arange(H_val, device=device),\n",
    "            indexing='xy'\n",
    "        )\n",
    "        dirs = torch.stack([\n",
    "            (i - cx) / fx,\n",
    "            (j - cy) / fy,\n",
    "            torch.ones_like(i)\n",
    "        ], dim=-1)  # [H, W, 3]\n",
    "        dirs = dirs / dirs.norm(dim=-1, keepdim=True)  # Normalize\n",
    "        return dirs\n",
    "\n",
    "    def compute_camera_matrix(self, position, rotation):\n",
    "        \"\"\"\n",
    "        Compute the camera-to-world transformation matrix from position and rotation.\n",
    "        \n",
    "        Args:\n",
    "            position (np.ndarray): 3D position vector [x, y, z]\n",
    "            rotation (np.ndarray): Rotation as quaternion [w, x, y, z]\n",
    "            \n",
    "        Returns:\n",
    "            torch.Tensor: 4x4 camera-to-world transformation matrix\n",
    "        \"\"\"\n",
    "        # Create a cache key for this position and rotation\n",
    "        cache_key = (tuple(position), tuple(rotation))\n",
    "\n",
    "        # Check if we've already computed this matrix\n",
    "        if cache_key in self.camera_matrix_cache:\n",
    "            return self.camera_matrix_cache[cache_key]\n",
    "\n",
    "        # Convert position to tensor\n",
    "        position_tensor = torch.tensor(position, dtype=torch.float32, device=self.device)\n",
    "\n",
    "        # Initialize transformation matrix\n",
    "        c2w = torch.eye(4, device=self.device)\n",
    "\n",
    "        # Set translation component\n",
    "        c2w[:3, 3] = position_tensor\n",
    "\n",
    "        # Convert quaternion to rotation matrix\n",
    "        # Assuming quaternion is [w, x, y, z]\n",
    "        w, x, y, z = rotation\n",
    "\n",
    "        # Construct rotation matrix from quaternion\n",
    "        rot_matrix = torch.tensor([\n",
    "            [1 - 2*y*y - 2*z*z, 2*x*y - 2*w*z, 2*x*z + 2*w*y],\n",
    "            [2*x*y + 2*w*z, 1 - 2*x*x - 2*z*z, 2*y*z - 2*w*x],\n",
    "            [2*x*z - 2*w*y, 2*y*z + 2*w*x, 1 - 2*x*x - 2*y*y]\n",
    "        ], dtype=torch.float32, device=self.device)\n",
    "\n",
    "        # Set rotation component of the transformation matrix\n",
    "        c2w[:3, :3] = rot_matrix\n",
    "\n",
    "        # Store in cache for future use\n",
    "        self.camera_matrix_cache[cache_key] = c2w\n",
    "\n",
    "        return c2w\n",
    "\n",
    "    def update_vehicle_positions(self, state, vehicle_id, new_position, new_rotation):\n",
    "        \"\"\"\n",
    "        Update the position and rotation of a specific vehicle in the state.\n",
    "        \n",
    "        Args:\n",
    "            state (dict): Current simulation state\n",
    "            vehicle_id (int): ID of the vehicle to update\n",
    "            new_position (np.ndarray): New 3D position\n",
    "            new_rotation (np.ndarray): New rotation (quaternion)\n",
    "            \n",
    "        Returns:\n",
    "            dict: Updated state dictionary\n",
    "        \"\"\"\n",
    "        # Create a copy of the state to avoid modifying the original\n",
    "        updated_state = state.copy()\n",
    "\n",
    "        # Initialize vehicle dictionaries if they don't exist\n",
    "        if \"vehicle_positions\" not in updated_state:\n",
    "            updated_state[\"vehicle_positions\"] = {}\n",
    "        if \"vehicle_rotations\" not in updated_state:\n",
    "            updated_state[\"vehicle_rotations\"] = {}\n",
    "\n",
    "        # Update vehicle position and rotation\n",
    "        updated_state[\"vehicle_positions\"][vehicle_id] = new_position\n",
    "        updated_state[\"vehicle_rotations\"][vehicle_id] = new_rotation\n",
    "\n",
    "        return updated_state\n",
    "\n",
    "    def create_trajectory(self, start_position, end_position, num_steps):\n",
    "        \"\"\"\n",
    "        Create a linear trajectory between two positions.\n",
    "        \n",
    "        Args:\n",
    "            start_position (np.ndarray): Starting position [x, y, z]\n",
    "            end_position (np.ndarray): Ending position [x, y, z]\n",
    "            num_steps (int): Number of steps in the trajectory\n",
    "            \n",
    "        Returns:\n",
    "            np.ndarray: Array of positions along the trajectory\n",
    "        \"\"\"\n",
    "        return np.linspace(start_position, end_position, num_steps)"
   ]
  },
  {
   "cell_type": "code",
   "execution_count": 4,
   "id": "440014d4",
   "metadata": {},
   "outputs": [
    {
     "name": "stdout",
     "output_type": "stream",
     "text": [
      "Added /cluster/home/larstond/master-project/drivestudio to sys.path\n",
      "Changed working directory to /cluster/home/larstond/master-project/drivestudio\n",
      "Working directory: /cluster/home/larstond/master-project/drivestudio\n",
      "Config path (relative to drivestudio): configs/datasets/nuplan/8cams_undistorted.yaml\n",
      "Absolute config path: /cluster/home/larstond/master-project/drivestudio/configs/datasets/nuplan/8cams_undistorted.yaml\n",
      "Loading config from: configs/datasets/nuplan/8cams_undistorted.yaml\n",
      "Loading checkpoint from: output/master-project/run_omnire_undistorted_8cams_0\n",
      "Loading dataset...\n"
     ]
    },
    {
     "name": "stderr",
     "output_type": "stream",
     "text": [
      "Loading images:   0%|          | 0/300 [00:00<?, ?it/s]"
     ]
    },
    {
     "name": "stdout",
     "output_type": "stream",
     "text": [
      "undistorting rgb\n"
     ]
    },
    {
     "name": "stderr",
     "output_type": "stream",
     "text": [
      "Loading images: 100%|██████████| 300/300 [00:12<00:00, 24.28it/s]\n",
      "Loading dynamic masks:   3%|▎         | 9/300 [00:00<00:06, 41.80it/s]"
     ]
    },
    {
     "name": "stdout",
     "output_type": "stream",
     "text": [
      "undistorting dynamic mask\n"
     ]
    },
    {
     "name": "stderr",
     "output_type": "stream",
     "text": [
      "Loading dynamic masks: 100%|██████████| 300/300 [00:07<00:00, 38.37it/s]\n",
      "Loading human masks:   2%|▏         | 6/300 [00:00<00:05, 54.19it/s]"
     ]
    },
    {
     "name": "stdout",
     "output_type": "stream",
     "text": [
      "undistorting human mask\n"
     ]
    },
    {
     "name": "stderr",
     "output_type": "stream",
     "text": [
      "Loading human masks: 100%|██████████| 300/300 [00:07<00:00, 41.48it/s]\n",
      "Loading vehicle masks:   1%|▏         | 4/300 [00:00<00:07, 37.50it/s]"
     ]
    },
    {
     "name": "stdout",
     "output_type": "stream",
     "text": [
      "undistorting vehicle mask\n"
     ]
    },
    {
     "name": "stderr",
     "output_type": "stream",
     "text": [
      "Loading vehicle masks: 100%|██████████| 300/300 [00:07<00:00, 39.66it/s]\n",
      "Loading sky masks:   2%|▏         | 7/300 [00:00<00:08, 35.75it/s]"
     ]
    },
    {
     "name": "stdout",
     "output_type": "stream",
     "text": [
      "undistorting sky mask\n"
     ]
    },
    {
     "name": "stderr",
     "output_type": "stream",
     "text": [
      "Loading sky masks: 100%|██████████| 300/300 [00:05<00:00, 54.08it/s]\n",
      "Loading images:   2%|▏         | 6/300 [00:00<00:10, 27.45it/s]"
     ]
    },
    {
     "name": "stdout",
     "output_type": "stream",
     "text": [
      "undistorting rgb\n"
     ]
    },
    {
     "name": "stderr",
     "output_type": "stream",
     "text": [
      "Loading images: 100%|██████████| 300/300 [00:11<00:00, 26.89it/s]\n",
      "Loading dynamic masks:   3%|▎         | 8/300 [00:00<00:08, 35.09it/s]"
     ]
    },
    {
     "name": "stdout",
     "output_type": "stream",
     "text": [
      "undistorting dynamic mask\n"
     ]
    },
    {
     "name": "stderr",
     "output_type": "stream",
     "text": [
      "Loading dynamic masks: 100%|██████████| 300/300 [00:06<00:00, 45.70it/s]\n",
      "Loading human masks:   1%|▏         | 4/300 [00:00<00:09, 32.07it/s]"
     ]
    },
    {
     "name": "stdout",
     "output_type": "stream",
     "text": [
      "undistorting human mask\n"
     ]
    },
    {
     "name": "stderr",
     "output_type": "stream",
     "text": [
      "Loading human masks: 100%|██████████| 300/300 [00:06<00:00, 43.50it/s]\n",
      "Loading vehicle masks:   3%|▎         | 9/300 [00:00<00:06, 42.07it/s]"
     ]
    },
    {
     "name": "stdout",
     "output_type": "stream",
     "text": [
      "undistorting vehicle mask\n"
     ]
    },
    {
     "name": "stderr",
     "output_type": "stream",
     "text": [
      "Loading vehicle masks: 100%|██████████| 300/300 [00:06<00:00, 47.25it/s]\n",
      "Loading sky masks:   2%|▏         | 6/300 [00:00<00:05, 51.15it/s]"
     ]
    },
    {
     "name": "stdout",
     "output_type": "stream",
     "text": [
      "undistorting sky mask\n"
     ]
    },
    {
     "name": "stderr",
     "output_type": "stream",
     "text": [
      "Loading sky masks: 100%|██████████| 300/300 [00:05<00:00, 59.61it/s]\n",
      "Loading images:   1%|          | 3/300 [00:00<00:13, 21.27it/s]"
     ]
    },
    {
     "name": "stdout",
     "output_type": "stream",
     "text": [
      "undistorting rgb\n"
     ]
    },
    {
     "name": "stderr",
     "output_type": "stream",
     "text": [
      "Loading images: 100%|██████████| 300/300 [00:11<00:00, 26.95it/s]\n",
      "Loading dynamic masks:   2%|▏         | 5/300 [00:00<00:06, 43.73it/s]"
     ]
    },
    {
     "name": "stdout",
     "output_type": "stream",
     "text": [
      "undistorting dynamic mask\n"
     ]
    },
    {
     "name": "stderr",
     "output_type": "stream",
     "text": [
      "Loading dynamic masks: 100%|██████████| 300/300 [00:06<00:00, 46.22it/s]\n",
      "Loading human masks:   1%|▏         | 4/300 [00:00<00:08, 35.66it/s]"
     ]
    },
    {
     "name": "stdout",
     "output_type": "stream",
     "text": [
      "undistorting human mask\n"
     ]
    },
    {
     "name": "stderr",
     "output_type": "stream",
     "text": [
      "Loading human masks: 100%|██████████| 300/300 [00:06<00:00, 48.33it/s]\n",
      "Loading vehicle masks:   2%|▏         | 7/300 [00:00<00:08, 33.70it/s]"
     ]
    },
    {
     "name": "stdout",
     "output_type": "stream",
     "text": [
      "undistorting vehicle mask\n"
     ]
    },
    {
     "name": "stderr",
     "output_type": "stream",
     "text": [
      "Loading vehicle masks: 100%|██████████| 300/300 [00:06<00:00, 49.71it/s]\n",
      "Loading sky masks:   2%|▏         | 6/300 [00:00<00:05, 51.10it/s]"
     ]
    },
    {
     "name": "stdout",
     "output_type": "stream",
     "text": [
      "undistorting sky mask\n"
     ]
    },
    {
     "name": "stderr",
     "output_type": "stream",
     "text": [
      "Loading sky masks: 100%|██████████| 300/300 [00:04<00:00, 60.48it/s]\n",
      "Loading images:   1%|          | 3/300 [00:00<00:15, 18.76it/s]"
     ]
    },
    {
     "name": "stdout",
     "output_type": "stream",
     "text": [
      "undistorting rgb\n"
     ]
    },
    {
     "name": "stderr",
     "output_type": "stream",
     "text": [
      "Loading images: 100%|██████████| 300/300 [00:11<00:00, 25.15it/s]\n",
      "Loading dynamic masks:   2%|▏         | 5/300 [00:00<00:06, 42.47it/s]"
     ]
    },
    {
     "name": "stdout",
     "output_type": "stream",
     "text": [
      "undistorting dynamic mask\n"
     ]
    },
    {
     "name": "stderr",
     "output_type": "stream",
     "text": [
      "Loading dynamic masks: 100%|██████████| 300/300 [00:06<00:00, 49.38it/s]\n",
      "Loading human masks:   1%|▏         | 4/300 [00:00<00:09, 31.11it/s]"
     ]
    },
    {
     "name": "stdout",
     "output_type": "stream",
     "text": [
      "undistorting human mask\n"
     ]
    },
    {
     "name": "stderr",
     "output_type": "stream",
     "text": [
      "Loading human masks: 100%|██████████| 300/300 [00:06<00:00, 48.11it/s]\n",
      "Loading vehicle masks:   3%|▎         | 8/300 [00:00<00:08, 34.95it/s]"
     ]
    },
    {
     "name": "stdout",
     "output_type": "stream",
     "text": [
      "undistorting vehicle mask\n"
     ]
    },
    {
     "name": "stderr",
     "output_type": "stream",
     "text": [
      "Loading vehicle masks: 100%|██████████| 300/300 [00:06<00:00, 48.20it/s]\n",
      "Loading sky masks:   2%|▏         | 5/300 [00:00<00:06, 42.52it/s]"
     ]
    },
    {
     "name": "stdout",
     "output_type": "stream",
     "text": [
      "undistorting sky mask\n"
     ]
    },
    {
     "name": "stderr",
     "output_type": "stream",
     "text": [
      "Loading sky masks: 100%|██████████| 300/300 [00:04<00:00, 63.55it/s]\n",
      "Loading images:   1%|          | 2/300 [00:00<00:20, 14.80it/s]"
     ]
    },
    {
     "name": "stdout",
     "output_type": "stream",
     "text": [
      "undistorting rgb\n"
     ]
    },
    {
     "name": "stderr",
     "output_type": "stream",
     "text": [
      "Loading images: 100%|██████████| 300/300 [00:11<00:00, 25.65it/s]\n",
      "Loading dynamic masks:   1%|▏         | 4/300 [00:00<00:08, 36.78it/s]"
     ]
    },
    {
     "name": "stdout",
     "output_type": "stream",
     "text": [
      "undistorting dynamic mask\n"
     ]
    },
    {
     "name": "stderr",
     "output_type": "stream",
     "text": [
      "Loading dynamic masks: 100%|██████████| 300/300 [00:05<00:00, 53.44it/s]\n",
      "Loading human masks:   3%|▎         | 10/300 [00:00<00:05, 49.58it/s]"
     ]
    },
    {
     "name": "stdout",
     "output_type": "stream",
     "text": [
      "undistorting human mask\n"
     ]
    },
    {
     "name": "stderr",
     "output_type": "stream",
     "text": [
      "Loading human masks: 100%|██████████| 300/300 [00:05<00:00, 54.03it/s]\n",
      "Loading vehicle masks:   2%|▏         | 5/300 [00:00<00:07, 39.07it/s]"
     ]
    },
    {
     "name": "stdout",
     "output_type": "stream",
     "text": [
      "undistorting vehicle mask\n"
     ]
    },
    {
     "name": "stderr",
     "output_type": "stream",
     "text": [
      "Loading vehicle masks: 100%|██████████| 300/300 [00:05<00:00, 52.72it/s]\n",
      "Loading sky masks:   2%|▏         | 5/300 [00:00<00:06, 42.85it/s]"
     ]
    },
    {
     "name": "stdout",
     "output_type": "stream",
     "text": [
      "undistorting sky mask\n"
     ]
    },
    {
     "name": "stderr",
     "output_type": "stream",
     "text": [
      "Loading sky masks: 100%|██████████| 300/300 [00:04<00:00, 70.04it/s]\n",
      "Loading images:   1%|▏         | 4/300 [00:00<00:09, 32.00it/s]"
     ]
    },
    {
     "name": "stdout",
     "output_type": "stream",
     "text": [
      "undistorting rgb\n"
     ]
    },
    {
     "name": "stderr",
     "output_type": "stream",
     "text": [
      "Loading images: 100%|██████████| 300/300 [00:11<00:00, 26.39it/s]\n",
      "Loading dynamic masks:   3%|▎         | 9/300 [00:00<00:07, 40.59it/s]"
     ]
    },
    {
     "name": "stdout",
     "output_type": "stream",
     "text": [
      "undistorting dynamic mask\n"
     ]
    },
    {
     "name": "stderr",
     "output_type": "stream",
     "text": [
      "Loading dynamic masks: 100%|██████████| 300/300 [00:05<00:00, 56.61it/s]\n",
      "Loading human masks:   1%|          | 3/300 [00:00<00:10, 27.63it/s]"
     ]
    },
    {
     "name": "stdout",
     "output_type": "stream",
     "text": [
      "undistorting human mask\n"
     ]
    },
    {
     "name": "stderr",
     "output_type": "stream",
     "text": [
      "Loading human masks: 100%|██████████| 300/300 [00:05<00:00, 52.57it/s]\n",
      "Loading vehicle masks:   3%|▎         | 9/300 [00:00<00:07, 38.69it/s]"
     ]
    },
    {
     "name": "stdout",
     "output_type": "stream",
     "text": [
      "undistorting vehicle mask\n"
     ]
    },
    {
     "name": "stderr",
     "output_type": "stream",
     "text": [
      "Loading vehicle masks: 100%|██████████| 300/300 [00:05<00:00, 56.56it/s]\n",
      "Loading sky masks:   2%|▏         | 5/300 [00:00<00:06, 43.29it/s]"
     ]
    },
    {
     "name": "stdout",
     "output_type": "stream",
     "text": [
      "undistorting sky mask\n"
     ]
    },
    {
     "name": "stderr",
     "output_type": "stream",
     "text": [
      "Loading sky masks: 100%|██████████| 300/300 [00:04<00:00, 69.28it/s]\n",
      "Loading images:   1%|          | 3/300 [00:00<00:11, 26.78it/s]"
     ]
    },
    {
     "name": "stdout",
     "output_type": "stream",
     "text": [
      "undistorting rgb\n"
     ]
    },
    {
     "name": "stderr",
     "output_type": "stream",
     "text": [
      "Loading images: 100%|██████████| 300/300 [00:11<00:00, 26.39it/s]\n",
      "Loading dynamic masks:   2%|▏         | 5/300 [00:00<00:07, 37.48it/s]"
     ]
    },
    {
     "name": "stdout",
     "output_type": "stream",
     "text": [
      "undistorting dynamic mask\n"
     ]
    },
    {
     "name": "stderr",
     "output_type": "stream",
     "text": [
      "Loading dynamic masks: 100%|██████████| 300/300 [00:05<00:00, 54.39it/s]\n",
      "Loading human masks:   3%|▎         | 9/300 [00:00<00:06, 42.69it/s]"
     ]
    },
    {
     "name": "stdout",
     "output_type": "stream",
     "text": [
      "undistorting human mask\n"
     ]
    },
    {
     "name": "stderr",
     "output_type": "stream",
     "text": [
      "Loading human masks: 100%|██████████| 300/300 [00:05<00:00, 56.55it/s]\n",
      "Loading vehicle masks:   3%|▎         | 9/300 [00:00<00:07, 41.11it/s]"
     ]
    },
    {
     "name": "stdout",
     "output_type": "stream",
     "text": [
      "undistorting vehicle mask\n"
     ]
    },
    {
     "name": "stderr",
     "output_type": "stream",
     "text": [
      "Loading vehicle masks: 100%|██████████| 300/300 [00:05<00:00, 54.91it/s]\n",
      "Loading sky masks:   3%|▎         | 9/300 [00:00<00:06, 42.26it/s]"
     ]
    },
    {
     "name": "stdout",
     "output_type": "stream",
     "text": [
      "undistorting sky mask\n"
     ]
    },
    {
     "name": "stderr",
     "output_type": "stream",
     "text": [
      "Loading sky masks: 100%|██████████| 300/300 [00:04<00:00, 69.43it/s]\n",
      "Loading images:   1%|          | 3/300 [00:00<00:11, 26.86it/s]"
     ]
    },
    {
     "name": "stdout",
     "output_type": "stream",
     "text": [
      "undistorting rgb\n"
     ]
    },
    {
     "name": "stderr",
     "output_type": "stream",
     "text": [
      "Loading images: 100%|██████████| 300/300 [00:11<00:00, 27.24it/s]\n",
      "Loading dynamic masks:   3%|▎         | 9/300 [00:00<00:07, 41.28it/s]"
     ]
    },
    {
     "name": "stdout",
     "output_type": "stream",
     "text": [
      "undistorting dynamic mask\n"
     ]
    },
    {
     "name": "stderr",
     "output_type": "stream",
     "text": [
      "Loading dynamic masks: 100%|██████████| 300/300 [00:05<00:00, 54.97it/s]\n",
      "Loading human masks:   1%|▏         | 4/300 [00:00<00:07, 37.51it/s]"
     ]
    },
    {
     "name": "stdout",
     "output_type": "stream",
     "text": [
      "undistorting human mask\n"
     ]
    },
    {
     "name": "stderr",
     "output_type": "stream",
     "text": [
      "Loading human masks: 100%|██████████| 300/300 [00:05<00:00, 59.35it/s]\n",
      "Loading vehicle masks:   2%|▏         | 6/300 [00:00<00:06, 48.24it/s]"
     ]
    },
    {
     "name": "stdout",
     "output_type": "stream",
     "text": [
      "undistorting vehicle mask\n"
     ]
    },
    {
     "name": "stderr",
     "output_type": "stream",
     "text": [
      "Loading vehicle masks: 100%|██████████| 300/300 [00:05<00:00, 53.34it/s]\n",
      "Loading sky masks:   1%|▏         | 4/300 [00:00<00:08, 36.50it/s]"
     ]
    },
    {
     "name": "stdout",
     "output_type": "stream",
     "text": [
      "undistorting sky mask\n"
     ]
    },
    {
     "name": "stderr",
     "output_type": "stream",
     "text": [
      "Loading sky masks: 100%|██████████| 300/300 [00:04<00:00, 64.09it/s]\n"
     ]
    },
    {
     "name": "stdout",
     "output_type": "stream",
     "text": [
      "End timestep: 300\n"
     ]
    },
    {
     "name": "stderr",
     "output_type": "stream",
     "text": [
      "Loading SMPL: 100%|██████████| 300/300 [00:01<00:00, 195.40it/s]\n",
      "Loading lidar:   0%|          | 0/300 [00:00<?, ?it/s]/cluster/home/larstond/master-project/drivestudio/datasets/nuplan/nuplan_sourceloader.py:417: UserWarning: The given NumPy array is not writable, and PyTorch does not support non-writable tensors. This means writing to this tensor will result in undefined behavior. You may want to copy the array to protect its data or make it writable before converting it to a tensor. This type of warning will be suppressed for the rest of this program. (Triggered internally at ../torch/csrc/utils/tensor_numpy.cpp:206.)\n",
      "  lidar_points = torch.from_numpy(lidar_info[:, :3]).float()\n",
      "Loading lidar: 100%|██████████| 300/300 [00:28<00:00, 10.50it/s]\n",
      "Projecting lidar pts on images for camera CAM_F0: 100%|██████████| 300/300 [01:00<00:00,  4.92it/s]\n",
      "Projecting lidar pts on images for camera CAM_L0: 100%|██████████| 300/300 [01:12<00:00,  4.15it/s]\n",
      "Projecting lidar pts on images for camera CAM_R0: 100%|██████████| 300/300 [01:11<00:00,  4.19it/s]\n",
      "Projecting lidar pts on images for camera CAM_L1: 100%|██████████| 300/300 [01:00<00:00,  4.94it/s]\n",
      "Projecting lidar pts on images for camera CAM_R1: 100%|██████████| 300/300 [01:06<00:00,  4.53it/s]\n",
      "Projecting lidar pts on images for camera CAM_L2: 100%|██████████| 300/300 [01:10<00:00,  4.24it/s]\n",
      "Projecting lidar pts on images for camera CAM_R2: 100%|██████████| 300/300 [01:04<00:00,  4.68it/s]\n",
      "Projecting lidar pts on images for camera CAM_B0: 100%|██████████| 300/300 [01:28<00:00,  3.40it/s]\n",
      "/cluster/home/larstond/.conda/envs/master/lib/python3.9/site-packages/torchvision/models/_utils.py:208: UserWarning: The parameter 'pretrained' is deprecated since 0.13 and may be removed in the future, please use 'weights' instead.\n",
      "  warnings.warn(\n",
      "/cluster/home/larstond/.conda/envs/master/lib/python3.9/site-packages/torchvision/models/_utils.py:223: UserWarning: Arguments other than a weight enum or `None` for 'weights' are deprecated since 0.13 and may be removed in the future. The current behavior is equivalent to passing `weights=AlexNet_Weights.IMAGENET1K_V1`. You can also use `weights=AlexNet_Weights.DEFAULT` to get the most up-to-date weights.\n",
      "  warnings.warn(msg)\n"
     ]
    },
    {
     "name": "stdout",
     "output_type": "stream",
     "text": [
      "Using predefined pose: da_pose\n",
      "OmniRe environment model initialized with checkpoint: output/master-project/run_omnire_undistorted_8cams_0/config.yaml\n",
      "Successfully initialized OmniRe environment model\n",
      "Restored original sys.path\n",
      "Restored working directory to /cluster/home/larstond/master-project\n"
     ]
    }
   ],
   "source": [
    "base_dir = Path.cwd()\n",
    "\n",
    "setup = None\n",
    "\n",
    "# Now use the context manager for clean path handling\n",
    "with use_path(\"drivestudio\", True):\n",
    "    # Define paths relative to the drivestudio directory\n",
    "    relative_config_path = \"configs/datasets/nuplan/8cams_undistorted.yaml\"\n",
    "    relative_checkpoint_path = \"output/master-project/run_omnire_undistorted_8cams_0\"\n",
    "    \n",
    "    print(f\"Working directory: {os.getcwd()}\")\n",
    "    print(f\"Config path (relative to drivestudio): {relative_config_path}\")\n",
    "    print(f\"Absolute config path: {os.path.abspath(relative_config_path)}\")\n",
    "    \n",
    "    # Check if these files exist in this context\n",
    "    if not os.path.exists(relative_config_path):\n",
    "        print(f\"ERROR: Config file not found at {os.path.abspath(relative_config_path)}\")\n",
    "    if not os.path.exists(relative_checkpoint_path):\n",
    "        print(f\"ERROR: Checkpoint directory not found at {os.path.abspath(relative_checkpoint_path)}\")\n",
    "    \n",
    "    # Only initialize if files exist\n",
    "    if os.path.exists(relative_config_path) and os.path.exists(relative_checkpoint_path):\n",
    "        setup = OmniReSetup(relative_config_path, relative_checkpoint_path)\n",
    "        print(\"Successfully initialized OmniRe environment model\")\n",
    "    else:\n",
    "        print(\"Failed to initialize environment model due to missing files\")"
   ]
  },
  {
   "cell_type": "code",
   "execution_count": 14,
   "id": "a62f189b",
   "metadata": {},
   "outputs": [],
   "source": [
    "environment_model = OmniReModel(setup)"
   ]
  },
  {
   "cell_type": "code",
   "execution_count": 20,
   "id": "35817117",
   "metadata": {},
   "outputs": [],
   "source": [
    "from agent import Agent\n",
    "from nuplan.common.actor_state.state_representation import StateSE2, TimePoint, StateVector2D\n",
    "from nuplan.common.actor_state.oriented_box import OrientedBox\n",
    "from nuplan.common.actor_state.waypoint import Waypoint\n",
    "\n",
    "class RandomAgent(Agent):\n",
    "    \"\"\"Random agent that selects random actions.\"\"\"\n",
    "    def __init__(self):\n",
    "        super().__init__()\n",
    "\n",
    "    def get_action(self, sensor_output, timestamp):\n",
    "        \"\"\"Select a random trajectory\"\"\"\n",
    "        trajectory = []\n",
    "        current_time = timestamp.time_us\n",
    "        \n",
    "        for i in range(10):\n",
    "            # Create proper TimePoint object (microseconds)\n",
    "            time_point = TimePoint(current_time + i * 100000) \n",
    "            \n",
    "            # Create position and heading\n",
    "            x = i * 10\n",
    "            y = i * 10\n",
    "            heading = 0.0\n",
    "            \n",
    "            # Create StateSE2 for position and heading\n",
    "            center = StateSE2(x, y, heading)\n",
    "            \n",
    "            # Create oriented box\n",
    "            # Parameters: center, length, width, height\n",
    "            oriented_box = OrientedBox(center, length=1.0, width=1.0, height=1.0)\n",
    "            \n",
    "            # Create velocity vector\n",
    "            velocity = StateVector2D(1.0, 0.0)  # x-velocity=1.0, y-velocity=0.0\n",
    "            \n",
    "            # Create waypoint with all required components\n",
    "            waypoint = Waypoint(time_point, oriented_box, velocity)\n",
    "            trajectory.append(waypoint)\n",
    "            \n",
    "        return trajectory\n",
    "\n",
    "agent = RandomAgent()"
   ]
  },
  {
   "cell_type": "markdown",
   "id": "b2a2316c",
   "metadata": {},
   "source": [
    "## Do the simulation loop"
   ]
  },
  {
   "cell_type": "code",
   "execution_count": 53,
   "id": "19f669a9",
   "metadata": {},
   "outputs": [
    {
     "name": "stdout",
     "output_type": "stream",
     "text": [
      "Step 0\n",
      "State: State(ego_pos=Position(x=664431.9236408463, y=3998294.590372303, z=606.74, heading=-1.5198627795173558), vehicle_pos_list=[Position(x=664422.5570504119, y=3998309.3846771335, z=2, heading=1.733215541888221), Position(x=664423.7599747309, y=3998268.577127495, z=2, heading=1.5062136582435661), Position(x=664424.5395844373, y=3998268.583540849, z=2, heading=1.5079579995470231), Position(x=664468.3598091461, y=3998276.961045393, z=2, heading=0.258067205873723), Position(x=664461.631625464, y=3998271.4511934896, z=2, heading=-0.4706281990888126), Position(x=664472.6115219904, y=3998287.6956278323, z=2, heading=1.4541531039513345), Position(x=664470.088211532, y=3998289.242112613, z=2, heading=-1.7241838904547802), Position(x=664470.7588204624, y=3998289.0440087807, z=2, heading=-1.6947511037617258), Position(x=664473.9159569874, y=3998286.755611721, z=2, heading=-1.6207103923900616), Position(x=664471.3524717097, y=3998291.868014317, z=2, heading=-1.7813553723794062), Position(x=664470.5951468239, y=3998292.332294778, z=2, heading=-1.8051075349431285), Position(x=664474.6409280654, y=3998290.7775379233, z=2, heading=-1.6822422914690032), Position(x=664471.7523780154, y=3998291.561675541, z=2, heading=-1.7230422019642675), Position(x=664472.4528774396, y=3998293.270750527, z=2, heading=-1.7602926095752764), Position(x=664471.2415420031, y=3998293.7842966137, z=2, heading=-1.759688532314425), Position(x=664474.750803354, y=3998293.4444678277, z=2, heading=-1.7103722703288915), Position(x=664474.1988906912, y=3998293.864247124, z=2, heading=-1.7636932860654104), Position(x=664476.0881044994, y=3998292.6979705375, z=2, heading=-1.6896335795528694), Position(x=664421.473100458, y=3998310.0144120604, z=2, heading=-0.5187341703183543), Position(x=664438.5050303246, y=3998314.5224041995, z=2, heading=-1.5879339880504761), Position(x=664468.1173888296, y=3998276.958456158, z=2, heading=0.1738370313348172), Position(x=664432.4584765462, y=3998282.198022293, z=2, heading=-1.5377766955975682), Position(x=664438.425620431, y=3998306.6408696123, z=2, heading=-1.5434145676967925), Position(x=664432.1554017817, y=3998303.139741001, z=2, heading=-1.5438279201428842), Position(x=664436.0770676751, y=3998259.412252363, z=2, heading=-1.5477904447007016), Position(x=664434.7409027779, y=3998315.027184247, z=2, heading=-1.5247656058886465), Position(x=664435.6665348336, y=3998272.1124533936, z=2, heading=-1.5403016169397084), Position(x=664435.3695302595, y=3998289.816608686, z=2, heading=-1.549085518179389), Position(x=664436.269636178, y=3998244.3896602774, z=2, heading=-1.549125736049079), Position(x=664438.4953346563, y=3998295.3202505927, z=2, heading=-1.54149478926509), Position(x=664438.9452588785, y=3998272.274500362, z=2, heading=-1.5536314203182116), Position(x=664426.4037140119, y=3998238.425653318, z=2, heading=-1.983949747775), Position(x=664431.8523810075, y=3998315.1918440377, z=2, heading=-1.5101991958958563), Position(x=664435.0114519602, y=3998305.9185239426, z=2, heading=-1.550755927600836), Position(x=664445.1667741769, y=3998272.6239123847, z=2, heading=-1.5419165354546325), Position(x=664434.1837211148, y=3998323.6645064997, z=2, heading=-1.5463425996936795), Position(x=664432.6205262375, y=3998265.293963126, z=2, heading=-1.5486079451944907), Position(x=664432.868471579, y=3998248.2995843235, z=2, heading=-1.547475436929528), Position(x=664442.221875363, y=3998264.8862426137, z=2, heading=-1.5563877494288052), Position(x=664440.1052337083, y=3998225.8265528884, z=2, heading=-1.5128970547012186), Position(x=664439.340147713, y=3998259.6612870074, z=2, heading=-1.5571477807862026), Position(x=664442.3698108561, y=3998256.295327759, z=2, heading=-1.5464003181946226), Position(x=664430.7657867665, y=3998348.2325585634, z=2, heading=-1.5356063625980454), Position(x=664429.0654361661, y=3998264.5493675014, z=2, heading=-1.5251374798723452), Position(x=664431.2225391571, y=3998332.0965879266, z=2, heading=-1.524369499561098), Position(x=664428.6259635721, y=3998311.3400337775, z=2, heading=-1.5346578703515052), Position(x=664439.421753769, y=3998244.5387965306, z=2, heading=-1.5323043460263548), Position(x=664460.6409749449, y=3998285.07576592, z=2, heading=0.494354913681223), Position(x=664454.6380280225, y=3998322.2389684785, z=2, heading=1.6161431541198534), Position(x=664427.5452045402, y=3998349.986382991, z=2, heading=-1.5199889652191814), Position(x=664454.8523908379, y=3998302.197940366, z=2, heading=1.5981061060589552), Position(x=664427.9777579679, y=3998331.4420740497, z=2, heading=-1.5478562488616887), Position(x=664442.964133798, y=3998245.0294244452, z=2, heading=-1.5221823346754708), Position(x=664455.7182357137, y=3998284.8960390915, z=2, heading=1.5871121829343204), Position(x=664455.7744088963, y=3998266.7170342365, z=2, heading=1.5944386009787799), Position(x=664433.0013462981, y=3998373.328759333, z=2, heading=-1.5192187832762243)], timestamp=TimePoint(time_us=1620859497750432), image_idx=0)\n"
     ]
    },
    {
     "name": "stderr",
     "output_type": "stream",
     "text": [
      "/tmp/ipykernel_1017087/1436191402.py:256: UserWarning: To copy construct from a tensor, it is recommended to use sourceTensor.clone().detach() or sourceTensor.clone().detach().requires_grad_(True), rather than torch.tensor(sourceTensor).\n",
      "  position_tensor = torch.tensor(position, dtype=torch.float32, device=self.device)\n"
     ]
    },
    {
     "name": "stdout",
     "output_type": "stream",
     "text": [
      "Sensor Output: {'rgb_image': (array([[[4.9589241e-01, 4.9650559e-01, 4.9437195e-01],\n",
      "        [4.9589241e-01, 4.9650559e-01, 4.9437195e-01],\n",
      "        [4.9589241e-01, 4.9650559e-01, 4.9437195e-01],\n",
      "        ...,\n",
      "        [4.9589241e-01, 4.9650559e-01, 4.9437195e-01],\n",
      "        [4.9589241e-01, 4.9650559e-01, 4.9437195e-01],\n",
      "        [4.9589241e-01, 4.9650559e-01, 4.9437195e-01]],\n",
      "\n",
      "       [[4.9589241e-01, 4.9650559e-01, 4.9437195e-01],\n",
      "        [4.9589241e-01, 4.9650559e-01, 4.9437195e-01],\n",
      "        [4.9589241e-01, 4.9650559e-01, 4.9437195e-01],\n",
      "        ...,\n",
      "        [4.9589241e-01, 4.9650559e-01, 4.9437195e-01],\n",
      "        [4.9589241e-01, 4.9650559e-01, 4.9437195e-01],\n",
      "        [4.9589241e-01, 4.9650559e-01, 4.9437195e-01]],\n",
      "\n",
      "       [[9.9999899e-01, 9.9999899e-01, 9.9999899e-01],\n",
      "        [9.9999899e-01, 9.9999899e-01, 9.9999899e-01],\n",
      "        [9.9999899e-01, 9.9999899e-01, 9.9999899e-01],\n",
      "        ...,\n",
      "        [1.0000000e-06, 1.0000000e-06, 1.0000000e-06],\n",
      "        [1.0000000e-06, 1.0000000e-06, 1.0000000e-06],\n",
      "        [1.0000000e-06, 1.0000000e-06, 1.0000000e-06]],\n",
      "\n",
      "       ...,\n",
      "\n",
      "       [[1.0000000e-06, 1.0000000e-06, 1.0000000e-06],\n",
      "        [1.0000000e-06, 1.0000000e-06, 1.0000000e-06],\n",
      "        [1.0000000e-06, 1.0000000e-06, 1.0000000e-06],\n",
      "        ...,\n",
      "        [1.0000000e-06, 1.0000000e-06, 1.0000000e-06],\n",
      "        [1.0000000e-06, 1.0000000e-06, 1.0000000e-06],\n",
      "        [1.0000000e-06, 1.0000000e-06, 1.0000000e-06]],\n",
      "\n",
      "       [[1.0000000e-06, 1.0000000e-06, 1.0000000e-06],\n",
      "        [1.0000000e-06, 1.0000000e-06, 1.0000000e-06],\n",
      "        [1.0000000e-06, 1.0000000e-06, 1.0000000e-06],\n",
      "        ...,\n",
      "        [1.0000000e-06, 1.0000000e-06, 1.0000000e-06],\n",
      "        [1.0000000e-06, 1.0000000e-06, 1.0000000e-06],\n",
      "        [1.0000000e-06, 1.0000000e-06, 1.0000000e-06]],\n",
      "\n",
      "       [[1.0000000e-06, 1.0000000e-06, 1.0000000e-06],\n",
      "        [1.0000000e-06, 1.0000000e-06, 1.0000000e-06],\n",
      "        [1.0000000e-06, 1.0000000e-06, 1.0000000e-06],\n",
      "        ...,\n",
      "        [1.0000000e-06, 1.0000000e-06, 1.0000000e-06],\n",
      "        [1.0000000e-06, 1.0000000e-06, 1.0000000e-06],\n",
      "        [1.0000000e-06, 1.0000000e-06, 1.0000000e-06]]], dtype=float32), array([[[0.],\n",
      "        [0.],\n",
      "        [0.],\n",
      "        ...,\n",
      "        [0.],\n",
      "        [0.],\n",
      "        [0.]],\n",
      "\n",
      "       [[0.],\n",
      "        [0.],\n",
      "        [0.],\n",
      "        ...,\n",
      "        [0.],\n",
      "        [0.],\n",
      "        [0.]],\n",
      "\n",
      "       [[0.],\n",
      "        [0.],\n",
      "        [0.],\n",
      "        ...,\n",
      "        [0.],\n",
      "        [0.],\n",
      "        [0.]],\n",
      "\n",
      "       ...,\n",
      "\n",
      "       [[0.],\n",
      "        [0.],\n",
      "        [0.],\n",
      "        ...,\n",
      "        [0.],\n",
      "        [0.],\n",
      "        [0.]],\n",
      "\n",
      "       [[0.],\n",
      "        [0.],\n",
      "        [0.],\n",
      "        ...,\n",
      "        [0.],\n",
      "        [0.],\n",
      "        [0.]],\n",
      "\n",
      "       [[0.],\n",
      "        [0.],\n",
      "        [0.],\n",
      "        ...,\n",
      "        [0.],\n",
      "        [0.],\n",
      "        [0.]]], dtype=float32))}\n",
      "Action: [Waypoint(_time_point=TimePoint(time_us=1620859497750432), _oriented_box=<nuplan.common.actor_state.oriented_box.OrientedBox object at 0x7fce79da4070>, _velocity=x: 1.0, y: 0.0), Waypoint(_time_point=TimePoint(time_us=1620859497850432), _oriented_box=<nuplan.common.actor_state.oriented_box.OrientedBox object at 0x7fce79da41f0>, _velocity=x: 1.0, y: 0.0), Waypoint(_time_point=TimePoint(time_us=1620859497950432), _oriented_box=<nuplan.common.actor_state.oriented_box.OrientedBox object at 0x7fce79da4370>, _velocity=x: 1.0, y: 0.0), Waypoint(_time_point=TimePoint(time_us=1620859498050432), _oriented_box=<nuplan.common.actor_state.oriented_box.OrientedBox object at 0x7fce79da4430>, _velocity=x: 1.0, y: 0.0), Waypoint(_time_point=TimePoint(time_us=1620859498150432), _oriented_box=<nuplan.common.actor_state.oriented_box.OrientedBox object at 0x7fce79da4550>, _velocity=x: 1.0, y: 0.0), Waypoint(_time_point=TimePoint(time_us=1620859498250432), _oriented_box=<nuplan.common.actor_state.oriented_box.OrientedBox object at 0x7fce79da4670>, _velocity=x: 1.0, y: 0.0), Waypoint(_time_point=TimePoint(time_us=1620859498350432), _oriented_box=<nuplan.common.actor_state.oriented_box.OrientedBox object at 0x7fce79da4790>, _velocity=x: 1.0, y: 0.0), Waypoint(_time_point=TimePoint(time_us=1620859498450432), _oriented_box=<nuplan.common.actor_state.oriented_box.OrientedBox object at 0x7fce79da48b0>, _velocity=x: 1.0, y: 0.0), Waypoint(_time_point=TimePoint(time_us=1620859498550432), _oriented_box=<nuplan.common.actor_state.oriented_box.OrientedBox object at 0x7fce79da49d0>, _velocity=x: 1.0, y: 0.0), Waypoint(_time_point=TimePoint(time_us=1620859498650432), _oriented_box=<nuplan.common.actor_state.oriented_box.OrientedBox object at 0x7fce79da4af0>, _velocity=x: 1.0, y: 0.0)]\n",
      "Step 1\n",
      "State: State(ego_pos=Position(x=5.0022, y=5.0022, z=606.74, heading=0.0), vehicle_pos_list=[Position(x=664422.5593115862, y=3998309.424734662, z=2, heading=1.7094703874230355), Position(x=664423.764684957, y=3998268.6489267554, z=2, heading=1.5091229849923566), Position(x=664424.5579639032, y=3998268.648966477, z=2, heading=1.5081568307326823), Position(x=664468.3605116513, y=3998276.958892721, z=2, heading=0.258067205873723), Position(x=664461.6282695335, y=3998271.4544841833, z=2, heading=-0.4637871331438732), Position(x=664472.6210918239, y=3998287.7515070117, z=2, heading=1.4564624644130717), Position(x=664470.1065349649, y=3998289.181196984, z=2, heading=-1.7159020897585902), Position(x=664470.7537023165, y=3998288.987312182, z=2, heading=-1.6947511037617258), Position(x=664473.9181759715, y=3998286.680949405, z=2, heading=-1.620206745413129), Position(x=664471.3505361109, y=3998291.7887882357, z=2, heading=-1.782507010111047), Position(x=664470.583636238, y=3998292.26590402, z=2, heading=-1.809186413634288), Position(x=664474.6501804192, y=3998290.6927888547, z=2, heading=-1.665928498423756), Position(x=664471.7407435824, y=3998291.5026417268, z=2, heading=-1.7230422019642675), Position(x=664472.4391667306, y=3998293.206786111, z=2, heading=-1.7630142525026467), Position(x=664471.2426740607, y=3998293.721994567, z=2, heading=-1.767056856418353), Position(x=664474.7826524044, y=3998293.39734218, z=2, heading=-1.685298243934013), Position(x=664474.2042020661, y=3998293.7866886775, z=2, heading=-1.7551485727062315), Position(x=664476.0984900832, y=3998292.613937551, z=2, heading=-1.6738297159443583), Position(x=664421.4987262241, y=3998310.0184937464, z=2, heading=-0.4652043392216525), Position(x=664438.5050871042, y=3998314.52514198, z=2, heading=-1.5879339880504761), Position(x=664468.1175718603, y=3998276.85878524, z=2, heading=-0.46658263447308634), Position(x=664432.4511298583, y=3998281.97003495, z=2, heading=-1.5386113614817365), Position(x=664438.4371353996, y=3998306.6148256073, z=2, heading=-1.547993107720813), Position(x=664432.1545339022, y=3998303.063018894, z=2, heading=-1.5429382229036956), Position(x=664436.0951069846, y=3998259.0491624796, z=2, heading=-1.5505798206968922), Position(x=664434.7396938774, y=3998314.976063781, z=2, heading=-1.526452656118088), Position(x=664435.6844278425, y=3998271.767926022, z=2, heading=-1.5415864643890849), Position(x=664435.3845709832, y=3998289.6468704073, z=2, heading=-1.5475665021725382), Position(x=664436.3190526796, y=3998244.012325859, z=2, heading=-1.5456801438672445), Position(x=664438.5012945075, y=3998295.13176927, z=2, heading=-1.5426737983106846), Position(x=664438.9368024569, y=3998271.953218601, z=2, heading=-1.5523928993644407), Position(x=664426.1613120309, y=3998238.2471175715, z=2, heading=-2.0118586921478965), Position(x=664431.8525199025, y=3998315.127846997, z=2, heading=-1.512617770918321), Position(x=664435.0058749643, y=3998305.870063698, z=2, heading=-1.5511285444206775), Position(x=664445.1698474935, y=3998272.459233329, z=2, heading=-1.5418367924325842), Position(x=664434.1902609563, y=3998323.665028723, z=2, heading=-1.545367505702526), Position(x=664432.6284610645, y=3998264.997289553, z=2, heading=-1.544549994316302), Position(x=664432.829512912, y=3998247.8836736856, z=2, heading=-1.5474723484098827), Position(x=664442.2300466358, y=3998264.8721658248, z=2, heading=-1.557284158403245), Position(x=664440.1526925269, y=3998225.366974324, z=2, heading=-1.5216156467309414), Position(x=664439.3468701905, y=3998259.2943769814, z=2, heading=-1.5557837221738575), Position(x=664442.3643898098, y=3998256.2895386373, z=2, heading=-1.543357369852122), Position(x=664430.7739371539, y=3998348.2389229196, z=2, heading=-1.5372666430261812), Position(x=664429.0840089722, y=3998264.159347332, z=2, heading=-1.5266196669709706), Position(x=664431.2183276773, y=3998332.1206571767, z=2, heading=-1.520925616138674), Position(x=664428.643245542, y=3998311.077111902, z=2, heading=-1.5385507558212765), Position(x=664460.6327291909, y=3998285.0651829634, z=2, heading=0.49408174603247546), Position(x=664454.6112651299, y=3998322.565646148, z=2, heading=1.6148384719492745), Position(x=664427.5868873317, y=3998349.761020836, z=2, heading=-1.5151477794917514), Position(x=664454.8516893268, y=3998302.7862723917, z=2, heading=1.5984697111558923), Position(x=664427.9035691033, y=3998331.2164744367, z=2, heading=-1.5488162097097573), Position(x=664442.9769737233, y=3998245.0459016073, z=2, heading=-1.522396177792403), Position(x=664455.7160239501, y=3998285.2832300602, z=2, heading=1.589726585186956), Position(x=664455.7744842981, y=3998266.900822657, z=2, heading=1.5907788398089104), Position(x=664433.0292114627, y=3998372.772849255, z=2, heading=-1.5230580534314087)], timestamp=TimePoint(time_us=1620859497800454), image_idx=0)\n",
      "Sensor Output: {'rgb_image': (array([[[4.9589241e-01, 4.9650559e-01, 4.9437195e-01],\n",
      "        [4.9589241e-01, 4.9650559e-01, 4.9437195e-01],\n",
      "        [4.9589241e-01, 4.9650559e-01, 4.9437195e-01],\n",
      "        ...,\n",
      "        [4.9589241e-01, 4.9650559e-01, 4.9437195e-01],\n",
      "        [4.9589241e-01, 4.9650559e-01, 4.9437195e-01],\n",
      "        [4.9589241e-01, 4.9650559e-01, 4.9437195e-01]],\n",
      "\n",
      "       [[4.9589241e-01, 4.9650559e-01, 4.9437195e-01],\n",
      "        [4.9589241e-01, 4.9650559e-01, 4.9437195e-01],\n",
      "        [4.9589241e-01, 4.9650559e-01, 4.9437195e-01],\n",
      "        ...,\n",
      "        [4.9589241e-01, 4.9650559e-01, 4.9437195e-01],\n",
      "        [4.9589241e-01, 4.9650559e-01, 4.9437195e-01],\n",
      "        [4.9589241e-01, 4.9650559e-01, 4.9437195e-01]],\n",
      "\n",
      "       [[9.9999899e-01, 9.9999899e-01, 9.9999899e-01],\n",
      "        [9.9999899e-01, 9.9999899e-01, 9.9999899e-01],\n",
      "        [9.9999899e-01, 9.9999899e-01, 9.9999899e-01],\n",
      "        ...,\n",
      "        [1.0000000e-06, 1.0000000e-06, 1.0000000e-06],\n",
      "        [1.0000000e-06, 1.0000000e-06, 1.0000000e-06],\n",
      "        [1.0000000e-06, 1.0000000e-06, 1.0000000e-06]],\n",
      "\n",
      "       ...,\n",
      "\n",
      "       [[1.0000000e-06, 1.0000000e-06, 1.0000000e-06],\n",
      "        [1.0000000e-06, 1.0000000e-06, 1.0000000e-06],\n",
      "        [1.0000000e-06, 1.0000000e-06, 1.0000000e-06],\n",
      "        ...,\n",
      "        [1.0000000e-06, 1.0000000e-06, 1.0000000e-06],\n",
      "        [1.0000000e-06, 1.0000000e-06, 1.0000000e-06],\n",
      "        [1.0000000e-06, 1.0000000e-06, 1.0000000e-06]],\n",
      "\n",
      "       [[1.0000000e-06, 1.0000000e-06, 1.0000000e-06],\n",
      "        [1.0000000e-06, 1.0000000e-06, 1.0000000e-06],\n",
      "        [1.0000000e-06, 1.0000000e-06, 1.0000000e-06],\n",
      "        ...,\n",
      "        [1.0000000e-06, 1.0000000e-06, 1.0000000e-06],\n",
      "        [1.0000000e-06, 1.0000000e-06, 1.0000000e-06],\n",
      "        [1.0000000e-06, 1.0000000e-06, 1.0000000e-06]],\n",
      "\n",
      "       [[1.0000000e-06, 1.0000000e-06, 1.0000000e-06],\n",
      "        [1.0000000e-06, 1.0000000e-06, 1.0000000e-06],\n",
      "        [1.0000000e-06, 1.0000000e-06, 1.0000000e-06],\n",
      "        ...,\n",
      "        [1.0000000e-06, 1.0000000e-06, 1.0000000e-06],\n",
      "        [1.0000000e-06, 1.0000000e-06, 1.0000000e-06],\n",
      "        [1.0000000e-06, 1.0000000e-06, 1.0000000e-06]]], dtype=float32), array([[[0.],\n",
      "        [0.],\n",
      "        [0.],\n",
      "        ...,\n",
      "        [0.],\n",
      "        [0.],\n",
      "        [0.]],\n",
      "\n",
      "       [[0.],\n",
      "        [0.],\n",
      "        [0.],\n",
      "        ...,\n",
      "        [0.],\n",
      "        [0.],\n",
      "        [0.]],\n",
      "\n",
      "       [[0.],\n",
      "        [0.],\n",
      "        [0.],\n",
      "        ...,\n",
      "        [0.],\n",
      "        [0.],\n",
      "        [0.]],\n",
      "\n",
      "       ...,\n",
      "\n",
      "       [[0.],\n",
      "        [0.],\n",
      "        [0.],\n",
      "        ...,\n",
      "        [0.],\n",
      "        [0.],\n",
      "        [0.]],\n",
      "\n",
      "       [[0.],\n",
      "        [0.],\n",
      "        [0.],\n",
      "        ...,\n",
      "        [0.],\n",
      "        [0.],\n",
      "        [0.]],\n",
      "\n",
      "       [[0.],\n",
      "        [0.],\n",
      "        [0.],\n",
      "        ...,\n",
      "        [0.],\n",
      "        [0.],\n",
      "        [0.]]], dtype=float32))}\n",
      "Action: [Waypoint(_time_point=TimePoint(time_us=1620859497800454), _oriented_box=<nuplan.common.actor_state.oriented_box.OrientedBox object at 0x7fcee6775190>, _velocity=x: 1.0, y: 0.0), Waypoint(_time_point=TimePoint(time_us=1620859497900454), _oriented_box=<nuplan.common.actor_state.oriented_box.OrientedBox object at 0x7fce7bfe8820>, _velocity=x: 1.0, y: 0.0), Waypoint(_time_point=TimePoint(time_us=1620859498000454), _oriented_box=<nuplan.common.actor_state.oriented_box.OrientedBox object at 0x7fce7bfe8340>, _velocity=x: 1.0, y: 0.0), Waypoint(_time_point=TimePoint(time_us=1620859498100454), _oriented_box=<nuplan.common.actor_state.oriented_box.OrientedBox object at 0x7fce7a1a7730>, _velocity=x: 1.0, y: 0.0), Waypoint(_time_point=TimePoint(time_us=1620859498200454), _oriented_box=<nuplan.common.actor_state.oriented_box.OrientedBox object at 0x7fce7a1a75e0>, _velocity=x: 1.0, y: 0.0), Waypoint(_time_point=TimePoint(time_us=1620859498300454), _oriented_box=<nuplan.common.actor_state.oriented_box.OrientedBox object at 0x7fce7c19c670>, _velocity=x: 1.0, y: 0.0), Waypoint(_time_point=TimePoint(time_us=1620859498400454), _oriented_box=<nuplan.common.actor_state.oriented_box.OrientedBox object at 0x7fce7c33a5e0>, _velocity=x: 1.0, y: 0.0), Waypoint(_time_point=TimePoint(time_us=1620859498500454), _oriented_box=<nuplan.common.actor_state.oriented_box.OrientedBox object at 0x7fce79da4fd0>, _velocity=x: 1.0, y: 0.0), Waypoint(_time_point=TimePoint(time_us=1620859498600454), _oriented_box=<nuplan.common.actor_state.oriented_box.OrientedBox object at 0x7fce79da4f10>, _velocity=x: 1.0, y: 0.0), Waypoint(_time_point=TimePoint(time_us=1620859498700454), _oriented_box=<nuplan.common.actor_state.oriented_box.OrientedBox object at 0x7fce79da4d60>, _velocity=x: 1.0, y: 0.0)]\n",
      "Step 2\n",
      "State: State(ego_pos=Position(x=5.002000000000001, y=5.002000000000001, z=606.74, heading=0.0), vehicle_pos_list=[Position(x=664422.5573554159, y=3998309.4573414857, z=2, heading=1.6984544638762742), Position(x=664423.768226147, y=3998268.7185844514, z=2, heading=1.5145824462988244), Position(x=664424.5652472667, y=3998268.717698274, z=2, heading=1.5161969820146366), Position(x=664468.3612141283, y=3998276.956740136, z=2, heading=0.258067205873723), Position(x=664461.6324881485, y=3998271.47619533, z=2, heading=-0.4550969996592231), Position(x=664472.6265144612, y=3998287.808570311, z=2, heading=1.4662785738262354), Position(x=664470.1263220856, y=3998289.1201987267, z=2, heading=-1.701739025379353), Position(x=664470.7485843754, y=3998288.93061785, z=2, heading=-1.6947511037617258), Position(x=664473.9244749981, y=3998286.606218789, z=2, heading=-1.6108952683313515), Position(x=664471.3467600554, y=3998291.7251467146, z=2, heading=-1.779666884921929), Position(x=664470.5733345394, y=3998292.199701467, z=2, heading=-1.8075147939661758), Position(x=664474.6749261993, y=3998290.613963318, z=2, heading=-1.6438405006667585), Position(x=664471.7291096145, y=3998291.443610273, z=2, heading=-1.7230422019642675), Position(x=664472.4287855757, y=3998293.1499709967, z=2, heading=-1.7557966781546357), Position(x=664471.2467546565, y=3998293.6690565506, z=2, heading=-1.765671654290638), Position(x=664474.7821802167, y=3998293.3401794033, z=2, heading=-1.685298243934013), Position(x=664474.1973450283, y=3998293.7279653708, z=2, heading=-1.7551485727062315), Position(x=664476.1093632306, y=3998292.538686676, z=2, heading=-1.6582415807300612), Position(x=664421.526914549, y=3998310.021095604, z=2, heading=-0.40823145634317815), Position(x=664438.518751012, y=3998314.522967821, z=2, heading=-1.5277033463684), Position(x=664468.1325488812, y=3998276.88867858, z=2, heading=-0.43404194649021566), Position(x=664432.4600907833, y=3998281.7399052624, z=2, heading=-1.5385137159216002), Position(x=664438.4319468314, y=3998306.5413503335, z=2, heading=-1.546098232765761), Position(x=664432.1606664731, y=3998302.991786254, z=2, heading=-1.5408121558323815), Position(x=664436.0976703702, y=3998258.671540164, z=2, heading=-1.5489549803586347), Position(x=664434.7397162223, y=3998314.936239005, z=2, heading=-1.5254388518700135), Position(x=664435.6846764508, y=3998271.438065197, z=2, heading=-1.5446853527406674), Position(x=664435.3966123478, y=3998289.4810037934, z=2, heading=-1.547679633945649), Position(x=664436.3016871774, y=3998243.6591536724, z=2, heading=-1.5492001243130635), Position(x=664438.5036792544, y=3998294.9723106013, z=2, heading=-1.5417289176276776), Position(x=664438.9408069083, y=3998271.6333898357, z=2, heading=-1.5567293525189303), Position(x=664431.8593839541, y=3998315.089505034, z=2, heading=-1.5143606482670444), Position(x=664435.0057691074, y=3998305.7768620835, z=2, heading=-1.548259930191562), Position(x=664445.1718811493, y=3998272.3101593107, z=2, heading=-1.543497470546269), Position(x=664434.1879823924, y=3998323.6646467806, z=2, heading=-1.5467234790548485), Position(x=664432.6296635551, y=3998264.687513132, z=2, heading=-1.5456865046654022), Position(x=664432.7807790576, y=3998247.5669805864, z=2, heading=-1.547976816975092), Position(x=664442.2404541573, y=3998264.8825402367, z=2, heading=-1.5562953178724606), Position(x=664440.1660400291, y=3998224.921445512, z=2, heading=-1.5275695258804254), Position(x=664439.3500555645, y=3998258.99351678, z=2, heading=-1.554548723560524), Position(x=664442.3817370211, y=3998256.2731118253, z=2, heading=-1.541636318782263), Position(x=664430.7652488328, y=3998348.230455905, z=2, heading=-1.5388754156519238), Position(x=664429.1007891727, y=3998263.804910002, z=2, heading=-1.5275820608921613), Position(x=664431.222761977, y=3998332.044850685, z=2, heading=-1.517274728767652), Position(x=664428.6539819333, y=3998310.89109462, z=2, heading=-1.5377733287921862), Position(x=664460.6064510661, y=3998285.057202766, z=2, heading=0.4877194465702956), Position(x=664454.5952149091, y=3998323.113073149, z=2, heading=1.6167194334196355), Position(x=664427.6098902049, y=3998349.5650015646, z=2, heading=-1.513697449951149), Position(x=664454.8696003895, y=3998303.035794262, z=2, heading=1.5952852568268696), Position(x=664427.8971850008, y=3998331.036691969, z=2, heading=-1.546795018058158), Position(x=664442.9802137462, y=3998245.0769996024, z=2, heading=-1.5235378608237398), Position(x=664455.6974300679, y=3998285.6293891175, z=2, heading=1.5850184431150018), Position(x=664455.7675110182, y=3998267.112619851, z=2, heading=1.592689531226991), Position(x=664433.0424038867, y=3998372.415943243, z=2, heading=-1.5223225494519184)], timestamp=TimePoint(time_us=1620859497850474), image_idx=0)\n",
      "Sensor Output: {'rgb_image': (array([[[4.9589241e-01, 4.9650559e-01, 4.9437195e-01],\n",
      "        [4.9589241e-01, 4.9650559e-01, 4.9437195e-01],\n",
      "        [4.9589241e-01, 4.9650559e-01, 4.9437195e-01],\n",
      "        ...,\n",
      "        [4.9589241e-01, 4.9650559e-01, 4.9437195e-01],\n",
      "        [4.9589241e-01, 4.9650559e-01, 4.9437195e-01],\n",
      "        [4.9589241e-01, 4.9650559e-01, 4.9437195e-01]],\n",
      "\n",
      "       [[4.9589241e-01, 4.9650559e-01, 4.9437195e-01],\n",
      "        [4.9589241e-01, 4.9650559e-01, 4.9437195e-01],\n",
      "        [4.9589241e-01, 4.9650559e-01, 4.9437195e-01],\n",
      "        ...,\n",
      "        [4.9589241e-01, 4.9650559e-01, 4.9437195e-01],\n",
      "        [4.9589241e-01, 4.9650559e-01, 4.9437195e-01],\n",
      "        [4.9589241e-01, 4.9650559e-01, 4.9437195e-01]],\n",
      "\n",
      "       [[9.9999899e-01, 9.9999899e-01, 9.9999899e-01],\n",
      "        [9.9999899e-01, 9.9999899e-01, 9.9999899e-01],\n",
      "        [9.9999899e-01, 9.9999899e-01, 9.9999899e-01],\n",
      "        ...,\n",
      "        [1.0000000e-06, 1.0000000e-06, 1.0000000e-06],\n",
      "        [1.0000000e-06, 1.0000000e-06, 1.0000000e-06],\n",
      "        [1.0000000e-06, 1.0000000e-06, 1.0000000e-06]],\n",
      "\n",
      "       ...,\n",
      "\n",
      "       [[1.0000000e-06, 1.0000000e-06, 1.0000000e-06],\n",
      "        [1.0000000e-06, 1.0000000e-06, 1.0000000e-06],\n",
      "        [1.0000000e-06, 1.0000000e-06, 1.0000000e-06],\n",
      "        ...,\n",
      "        [1.0000000e-06, 1.0000000e-06, 1.0000000e-06],\n",
      "        [1.0000000e-06, 1.0000000e-06, 1.0000000e-06],\n",
      "        [1.0000000e-06, 1.0000000e-06, 1.0000000e-06]],\n",
      "\n",
      "       [[1.0000000e-06, 1.0000000e-06, 1.0000000e-06],\n",
      "        [1.0000000e-06, 1.0000000e-06, 1.0000000e-06],\n",
      "        [1.0000000e-06, 1.0000000e-06, 1.0000000e-06],\n",
      "        ...,\n",
      "        [1.0000000e-06, 1.0000000e-06, 1.0000000e-06],\n",
      "        [1.0000000e-06, 1.0000000e-06, 1.0000000e-06],\n",
      "        [1.0000000e-06, 1.0000000e-06, 1.0000000e-06]],\n",
      "\n",
      "       [[1.0000000e-06, 1.0000000e-06, 1.0000000e-06],\n",
      "        [1.0000000e-06, 1.0000000e-06, 1.0000000e-06],\n",
      "        [1.0000000e-06, 1.0000000e-06, 1.0000000e-06],\n",
      "        ...,\n",
      "        [1.0000000e-06, 1.0000000e-06, 1.0000000e-06],\n",
      "        [1.0000000e-06, 1.0000000e-06, 1.0000000e-06],\n",
      "        [1.0000000e-06, 1.0000000e-06, 1.0000000e-06]]], dtype=float32), array([[[0.],\n",
      "        [0.],\n",
      "        [0.],\n",
      "        ...,\n",
      "        [0.],\n",
      "        [0.],\n",
      "        [0.]],\n",
      "\n",
      "       [[0.],\n",
      "        [0.],\n",
      "        [0.],\n",
      "        ...,\n",
      "        [0.],\n",
      "        [0.],\n",
      "        [0.]],\n",
      "\n",
      "       [[0.],\n",
      "        [0.],\n",
      "        [0.],\n",
      "        ...,\n",
      "        [0.],\n",
      "        [0.],\n",
      "        [0.]],\n",
      "\n",
      "       ...,\n",
      "\n",
      "       [[0.],\n",
      "        [0.],\n",
      "        [0.],\n",
      "        ...,\n",
      "        [0.],\n",
      "        [0.],\n",
      "        [0.]],\n",
      "\n",
      "       [[0.],\n",
      "        [0.],\n",
      "        [0.],\n",
      "        ...,\n",
      "        [0.],\n",
      "        [0.],\n",
      "        [0.]],\n",
      "\n",
      "       [[0.],\n",
      "        [0.],\n",
      "        [0.],\n",
      "        ...,\n",
      "        [0.],\n",
      "        [0.],\n",
      "        [0.]]], dtype=float32))}\n",
      "Action: [Waypoint(_time_point=TimePoint(time_us=1620859497850474), _oriented_box=<nuplan.common.actor_state.oriented_box.OrientedBox object at 0x7fce737749d0>, _velocity=x: 1.0, y: 0.0), Waypoint(_time_point=TimePoint(time_us=1620859497950474), _oriented_box=<nuplan.common.actor_state.oriented_box.OrientedBox object at 0x7fce73774340>, _velocity=x: 1.0, y: 0.0), Waypoint(_time_point=TimePoint(time_us=1620859498050474), _oriented_box=<nuplan.common.actor_state.oriented_box.OrientedBox object at 0x7fce73774970>, _velocity=x: 1.0, y: 0.0), Waypoint(_time_point=TimePoint(time_us=1620859498150474), _oriented_box=<nuplan.common.actor_state.oriented_box.OrientedBox object at 0x7fce737746a0>, _velocity=x: 1.0, y: 0.0), Waypoint(_time_point=TimePoint(time_us=1620859498250474), _oriented_box=<nuplan.common.actor_state.oriented_box.OrientedBox object at 0x7fce73774b80>, _velocity=x: 1.0, y: 0.0), Waypoint(_time_point=TimePoint(time_us=1620859498350474), _oriented_box=<nuplan.common.actor_state.oriented_box.OrientedBox object at 0x7fce73774b50>, _velocity=x: 1.0, y: 0.0), Waypoint(_time_point=TimePoint(time_us=1620859498450474), _oriented_box=<nuplan.common.actor_state.oriented_box.OrientedBox object at 0x7fce73774df0>, _velocity=x: 1.0, y: 0.0), Waypoint(_time_point=TimePoint(time_us=1620859498550474), _oriented_box=<nuplan.common.actor_state.oriented_box.OrientedBox object at 0x7fce73774460>, _velocity=x: 1.0, y: 0.0), Waypoint(_time_point=TimePoint(time_us=1620859498650474), _oriented_box=<nuplan.common.actor_state.oriented_box.OrientedBox object at 0x7fce737742e0>, _velocity=x: 1.0, y: 0.0), Waypoint(_time_point=TimePoint(time_us=1620859498750474), _oriented_box=<nuplan.common.actor_state.oriented_box.OrientedBox object at 0x7fce73774610>, _velocity=x: 1.0, y: 0.0)]\n"
     ]
    }
   ],
   "source": [
    "\n",
    "error_history = []\n",
    "sensor_outputs = []\n",
    "\n",
    "# print(simulator.get_state().ego_pos)\n",
    "\n",
    "for i in range(3):\n",
    "    print(\"Step\", i)\n",
    "    state = simulator.get_state()\n",
    "    print(\"State:\", state)\n",
    "    sensor_output = environment_model.get_sensor_output(state)\n",
    "    sensor_outputs.append(sensor_output)\n",
    "    print(\"Sensor Output:\", sensor_output)\n",
    "    action = agent.get_action(sensor_output, state.timestamp)\n",
    "    print(\"Action:\", action)\n",
    "    simulator.do_action(action)\n",
    "    error_history.append(simulator.get_state())\n",
    "\n",
    "# print(\"Error History:\", error_history)\n"
   ]
  },
  {
   "cell_type": "code",
   "execution_count": 54,
   "id": "d70f32e2",
   "metadata": {},
   "outputs": [
    {
     "name": "stdout",
     "output_type": "stream",
     "text": [
      "Input is a tuple, extracting array...\n",
      "Image shape: (720, 1280, 3), dtype: float32\n"
     ]
    },
    {
     "data": {
      "image/png": "[encoded data removed]",
      "text/plain": [
       "<Figure size 1000x600 with 1 Axes>"
      ]
     },
     "metadata": {},
     "output_type": "display_data"
    },
    {
     "name": "stdout",
     "output_type": "stream",
     "text": [
      "Input is a tuple, extracting array...\n",
      "Image shape: (720, 1280, 3), dtype: float32\n"
     ]
    },
    {
     "data": {
      "image/png": "[encoded data removed]",
      "text/plain": [
       "<Figure size 1000x600 with 1 Axes>"
      ]
     },
     "metadata": {},
     "output_type": "display_data"
    },
    {
     "name": "stdout",
     "output_type": "stream",
     "text": [
      "Input is a tuple, extracting array...\n",
      "Image shape: (720, 1280, 3), dtype: float32\n"
     ]
    },
    {
     "data": {
      "image/png": "[encoded data removed]",
      "text/plain": [
       "<Figure size 1000x600 with 1 Axes>"
      ]
     },
     "metadata": {},
     "output_type": "display_data"
    }
   ],
   "source": [
    "def print_rgb_image(rgb_image):\n",
    "    \"\"\"\n",
    "    Print the RGB image to the console.\n",
    "    \n",
    "    Args:\n",
    "        rgb_image (np.ndarray or tuple): The RGB image to print\n",
    "    \"\"\"\n",
    "    import matplotlib.pyplot as plt\n",
    "    import numpy as np\n",
    "    \n",
    "    # Handle different input formats first\n",
    "    if isinstance(rgb_image, tuple):\n",
    "        # If it's a tuple, take the first element (array)\n",
    "        print(\"Input is a tuple, extracting array...\")\n",
    "        rgb_image = rgb_image[0]\n",
    "    \n",
    "    # Now that we've handled the tuple case, we can safely check shape\n",
    "    print(f\"Image shape: {rgb_image.shape}, dtype: {rgb_image.dtype}\")\n",
    "    \n",
    "    # Ensure 3D array with shape (H, W, 3)\n",
    "    if rgb_image.ndim == 4:\n",
    "        # If we have a batch dimension, take the first image\n",
    "        print(\"Input has batch dimension, taking first image...\")\n",
    "        rgb_image = rgb_image[0]\n",
    "    \n",
    "    # Ensure RGB values are normalized properly\n",
    "    if rgb_image.dtype == np.float32 or rgb_image.dtype == np.float64:\n",
    "        rgb_image = np.clip(rgb_image, 0.0, 1.0)\n",
    "    \n",
    "    # Create a figure with a specific size\n",
    "    plt.figure(figsize=(10, 6))\n",
    "    \n",
    "    # Display the image\n",
    "    plt.imshow(rgb_image)\n",
    "    plt.axis('off')  # Hide axes\n",
    "    plt.show()\n",
    "\n",
    "for sensor_output in sensor_outputs:\n",
    "    rgb_image = sensor_output[\"rgb_image\"]\n",
    "    print_rgb_image(rgb_image)"
   ]
  }
 ],
 "metadata": {
  "kernelspec": {
   "display_name": "Python 3",
   "language": "python",
   "name": "python3"
  },
  "language_info": {
   "codemirror_mode": {
    "name": "ipython",
    "version": 3
   },
   "file_extension": ".py",
   "mimetype": "text/x-python",
   "name": "python",
   "nbconvert_exporter": "python",
   "pygments_lexer": "ipython3",
   "version": "3.9.21"
  }
 },
 "nbformat": 4,
 "nbformat_minor": 5
}
