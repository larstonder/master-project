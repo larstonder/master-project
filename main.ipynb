{
 "cells": [
  {
   "cell_type": "markdown",
   "id": "dfff27a0",
   "metadata": {},
   "source": [
    "# Main simulator loop"
   ]
  },
  {
   "cell_type": "markdown",
   "id": "8b12c13c",
   "metadata": {},
   "source": [
    "## Imports, config"
   ]
  },
  {
   "cell_type": "code",
   "execution_count": 1,
   "id": "4d534ed7",
   "metadata": {},
   "outputs": [],
   "source": [
    "import os\n",
    "from pathlib import Path\n",
    "from path_utils import use_path\n",
    "\n",
    "base_dir = Path(__file__).resolve().parent if \"__file__\" in globals() else Path.cwd()\n",
    "\n",
    "# Use relative paths from the base directory\n",
    "config_path = str(base_dir / \"configs/datasets/nuplan/8cams_undistorted.yaml\")\n",
    "checkpoint_path = str(base_dir / \"output/master-project/run_omnire_undistorted_8cams_0\")\n",
    "n_steps = 100"
   ]
  },
  {
   "cell_type": "markdown",
   "id": "b72d48ea",
   "metadata": {},
   "source": [
    "## Initialize simulator, environment model and the random agent"
   ]
  },
  {
   "cell_type": "code",
   "execution_count": 50,
   "id": "3eef672f",
   "metadata": {},
   "outputs": [
    {
     "name": "stdout",
     "output_type": "stream",
     "text": [
      "Initializing NuPlan simulator...\n",
      "<nuplan.common.actor_state.ego_state.EgoState object at 0x7fe36ec945b0>\n",
      "NuPlan initialized.\n"
     ]
    }
   ],
   "source": [
    "\"\"\"\n",
    "This script initializes a NuPlan simulator and\n",
    "provides methods to get the current state of the simulation\n",
    "and perform actions based on a given trajectory.\n",
    "It uses the NuPlan database and maps to create a simulation environment.\n",
    "It also includes a function to create a waypoint from a given point.\n",
    "\"\"\"\n",
    "\n",
    "import os\n",
    "from sim_types import State, Position\n",
    "from omegaconf import OmegaConf\n",
    "from nuplan.common.actor_state.oriented_box import OrientedBox\n",
    "from nuplan.common.actor_state.vehicle_parameters import get_pacifica_parameters\n",
    "from nuplan.common.actor_state.state_representation import StateSE2\n",
    "from nuplan.common.actor_state.waypoint import Waypoint\n",
    "from nuplan.planning.scenario_builder.nuplan_db.nuplan_scenario_builder import NuPlanScenarioBuilder\n",
    "from nuplan.planning.scenario_builder.scenario_filter import ScenarioFilter\n",
    "from nuplan.planning.simulation.observation.tracks_observation import TracksObservation\n",
    "from nuplan.planning.simulation.simulation_time_controller.step_simulation_time_controller import (\n",
    "    StepSimulationTimeController,\n",
    ")\n",
    "from nuplan.planning.simulation.simulation import Simulation\n",
    "from nuplan.planning.simulation.simulation_setup import SimulationSetup\n",
    "from nuplan.planning.script.builders.worker_pool_builder import build_worker\n",
    "from nuplan.planning.simulation.controller.perfect_tracking import PerfectTrackingController\n",
    "from nuplan.planning.simulation.trajectory.interpolated_trajectory import InterpolatedTrajectory\n",
    "from nuplan.common.actor_state.dynamic_car_state import DynamicCarState\n",
    "from nuplan.common.actor_state.state_representation import StateVector2D\n",
    "from nuplan.common.actor_state.ego_state import EgoState\n",
    "from nuplan.common.actor_state.ego_state import CarFootprint\n",
    "\n",
    "\n",
    "NUPLAN_DATA_ROOT = os.getenv('NUPLAN_DATA_ROOT', '/data/sets/nuplan')\n",
    "NUPLAN_MAPS_ROOT = os.getenv('NUPLAN_MAPS_ROOT', '/data/sets/nuplan/maps')\n",
    "NUPLAN_DB_FILES = os.getenv('NUPLAN_DB_FILES', '/data/sets/nuplan/nuplan-v1.1/splits/mini')\n",
    "NUPLAN_MAP_VERSION = os.getenv('NUPLAN_MAP_VERSION', 'nuplan-maps-v1.0')\n",
    "NUPLAN_SENSOR_ROOT = f\"{NUPLAN_DATA_ROOT}/nuplan-v1.1/sensor_blobs\"\n",
    "DB_FILE = f\"{NUPLAN_DATA_ROOT}/nuplan-v1.1/splits/mini/2021.05.12.22.28.35_veh-35_00620_01164.db\"\n",
    "MAP_NAME = \"us-nv-las-vegas\"\n",
    "\n",
    "class Simulator:\n",
    "    \"\"\"Base class for the simulator.\"\"\"\n",
    "    def __init__(self):\n",
    "        pass\n",
    "\n",
    "    def get_state(self):\n",
    "        \"\"\"Get the current state of the simulation.\"\"\"\n",
    "        raise NotImplementedError(\"This method should be overridden in subclasses.\")\n",
    "\n",
    "    def do_action(self, action):\n",
    "        \"\"\"Perform an action in the simulation.\"\"\"\n",
    "        raise NotImplementedError(\"This method should be overridden in subclasses.\")\n",
    "\n",
    "class NuPlan(Simulator):\n",
    "    \"\"\"\n",
    "    NuPlan simulator class that initializes the NuPlan simulation environment.\n",
    "    It uses the NuPlan database and maps to create a simulation environment.\n",
    "    It provides methods to get the current state of the simulation and perform\n",
    "    actions based on a given trajectory.\n",
    "    \"\"\"\n",
    "\n",
    "    def __init__(self):\n",
    "        super().__init__()\n",
    "        print(\"Initializing NuPlan simulator...\")\n",
    "        scenario_builder = NuPlanScenarioBuilder(\n",
    "            data_root=NUPLAN_DATA_ROOT,\n",
    "            map_root=NUPLAN_MAPS_ROOT,\n",
    "            sensor_root=NUPLAN_SENSOR_ROOT,\n",
    "            db_files=[DB_FILE],\n",
    "            map_version=NUPLAN_MAP_VERSION,\n",
    "            vehicle_parameters=get_pacifica_parameters(),\n",
    "            include_cameras=False,\n",
    "            verbose=True\n",
    "        )\n",
    "\n",
    "        scenario_filter = ScenarioFilter(\n",
    "            log_names = [\"2021.05.12.22.28.35_veh-35_00620_01164\"],\n",
    "            scenario_types = None,\n",
    "            scenario_tokens = None,\n",
    "            map_names = None,\n",
    "            num_scenarios_per_type = None,\n",
    "            limit_total_scenarios = None,\n",
    "            timestamp_threshold_s = None,\n",
    "            ego_displacement_minimum_m = None,\n",
    "            expand_scenarios = False,\n",
    "            remove_invalid_goals = False,\n",
    "            shuffle = False\n",
    "        )\n",
    "\n",
    "        worker_config = OmegaConf.create({\n",
    "            'worker': {\n",
    "                '_target_': 'nuplan.planning.utils.multithreading.worker_sequential.Sequential',\n",
    "            }\n",
    "        })\n",
    "\n",
    "        worker = build_worker(worker_config)\n",
    "        scenario = scenario_builder.get_scenarios(scenario_filter, worker)[0]\n",
    "\n",
    "        time_controller = StepSimulationTimeController(scenario)\n",
    "        observation = TracksObservation(scenario)\n",
    "        controller = PerfectTrackingController(scenario)\n",
    "\n",
    "        simulation_setup = SimulationSetup(\n",
    "            time_controller=time_controller,\n",
    "            observations=observation,\n",
    "            ego_controller=controller,\n",
    "            scenario=scenario\n",
    "        )\n",
    "\n",
    "        self.simulation = Simulation(\n",
    "            simulation_setup=simulation_setup,\n",
    "            callback=None,\n",
    "            simulation_history_buffer_duration=2.0\n",
    "        )\n",
    "\n",
    "        self.simulation.initialize()\n",
    "\n",
    "\n",
    "        planner_input = self.simulation.get_planner_input()\n",
    "        history = planner_input.history\n",
    "        self.original_ego_state, self.original_observation_state = history.current_state\n",
    "        \n",
    "        print(self.original_ego_state)\n",
    "\n",
    "        self.ego_vehicle_oriented_box = self.original_ego_state.waypoint.oriented_box\n",
    "\n",
    "        print(\"NuPlan initialized.\")\n",
    "\n",
    "    def get_state(self) -> State:\n",
    "        planner_input = self.simulation.get_planner_input()\n",
    "        history = planner_input.history\n",
    "        ego_state, observation_state = history.current_state\n",
    "\n",
    "        ego_pos: Position = Position(\n",
    "            x=ego_state.waypoint.center.x,\n",
    "            y=ego_state.waypoint.center.y,\n",
    "            z=0,\n",
    "            heading=ego_state.waypoint.heading\n",
    "        )\n",
    "        agent_pos_list: list[Position] = [\n",
    "            Position(\n",
    "                x=agent.center.x,\n",
    "                y=agent.center.y,\n",
    "                z=0,\n",
    "                heading=agent.center.heading\n",
    "            )\n",
    "            for agent in observation_state.tracked_objects.get_agents()\n",
    "        ]\n",
    "        state = State(\n",
    "            ego_pos=ego_pos,\n",
    "            vehicle_pos_list=agent_pos_list,\n",
    "            timestamp=ego_state.waypoint.time_point\n",
    "        )\n",
    "        return state\n",
    "\n",
    "    def do_action(self, action):\n",
    "        trajectory = action\n",
    "        interpolated_trajectory = self.create_interpolated_trajectory(trajectory)\n",
    "        self.simulation.propagate(interpolated_trajectory)\n",
    "\n",
    "    def create_interpolated_trajectory(self, trajectory):\n",
    "        \"\"\"\n",
    "        Create an interpolated trajectory from a given trajectory.\n",
    "        :param trajectory: The trajectory to create the interpolated trajectory from.\n",
    "        :return: The created interpolated trajectory.\n",
    "        \"\"\"\n",
    "        # Convert Waypoints to EgoStates\n",
    "        ego_states = []\n",
    "        vehicle_parameters = get_pacifica_parameters()\n",
    "        \n",
    "        for waypoint in trajectory:\n",
    "            # Extract data from the waypoint\n",
    "            time_point = waypoint.time_point\n",
    "            oriented_box = waypoint.oriented_box\n",
    "            velocity = waypoint.velocity\n",
    "            \n",
    "            # Create a dynamic car state with speed from velocity\n",
    "            speed = (velocity.x**2 + velocity.y**2)**0.5  # Calculate speed from velocity components\n",
    "            \n",
    "            car_footprint = CarFootprint(\n",
    "                center=oriented_box.center,\n",
    "                vehicle_parameters=vehicle_parameters,\n",
    "            )\n",
    "            \n",
    "            dynamic_car_state = DynamicCarState(\n",
    "                rear_axle_to_center_dist=vehicle_parameters.cog_position_from_rear_axle,\n",
    "                rear_axle_velocity_2d=StateVector2D(velocity.x, velocity.y),\n",
    "                rear_axle_acceleration_2d=StateVector2D(0, 0)  # Assuming no acceleration for simplicity\n",
    "            )\n",
    "            \n",
    "            # Create an EgoState\n",
    "            ego_state = EgoState(\n",
    "                time_point=time_point,\n",
    "                car_footprint=car_footprint,\n",
    "                dynamic_car_state=dynamic_car_state,\n",
    "                tire_steering_angle=0.0,  # Assuming no steering angle for simplicity\n",
    "                is_in_auto_mode=True,\n",
    "            )\n",
    "            \n",
    "            ego_states.append(ego_state)\n",
    "        \n",
    "        # Create an interpolated trajectory with EgoState objects\n",
    "        return InterpolatedTrajectory(ego_states)\n",
    "\n",
    "    def create_waypoint_from_point(self, point):\n",
    "        \"\"\"\n",
    "        Create a waypoint from a point.\n",
    "        :param point: The point to create the waypoint from.\n",
    "        :return: The created waypoint.\n",
    "        \"\"\"\n",
    "        pose = StateSE2(point.x, point.y, point.yaw)\n",
    "        oriented_box = OrientedBox(\n",
    "            pose,\n",
    "            width=self.ego_vehicle_oriented_box.width,\n",
    "            length=self.ego_vehicle_oriented_box.length,\n",
    "            height=self.ego_vehicle_oriented_box.height\n",
    "        )\n",
    "        return Waypoint(\n",
    "            time_point=point.time_point,\n",
    "            oriented_box=oriented_box,\n",
    "            velocity=point.velocity\n",
    "        )\n",
    "\n",
    "simulator = NuPlan()"
   ]
  },
  {
   "cell_type": "code",
   "execution_count": 8,
   "id": "673af314",
   "metadata": {},
   "outputs": [],
   "source": [
    "import numpy as np\n",
    "import torch\n",
    "\n",
    "from sim_types import State\n",
    "from environment_model import OmniReSetup\n",
    "\n",
    "class OmniReModel:\n",
    "    def __init__(self, setup: OmniReSetup):\n",
    "        self.data_cfg = setup.data_cfg\n",
    "        self.train_cfg = setup.train_cfg\n",
    "        self.trainer = setup.trainer\n",
    "        self.dataset = setup.dataset\n",
    "        self.device = setup.device\n",
    "        self.camera_matrix_cache = {}\n",
    "    \n",
    "    def render_single_frame(self, frame_data: dict) -> np.ndarray:\n",
    "        \"\"\"\n",
    "        Render a single frame based on provided frame data.\n",
    "        \n",
    "        Args:\n",
    "            frame_data (dict): Dictionary containing camera and image info for the frame\n",
    "            \n",
    "        Returns:\n",
    "            np.ndarray: The rendered RGB image as a numpy array\n",
    "        \"\"\"\n",
    "        with torch.no_grad():\n",
    "            # Create copies of the dictionaries to avoid modifying originals\n",
    "            cam_infos = {}\n",
    "            image_infos = {}\n",
    "            \n",
    "            # Move camera info tensors to GPU\n",
    "            for key, value in frame_data[\"cam_infos\"].items():\n",
    "                if isinstance(value, torch.Tensor):\n",
    "                    cam_infos[key] = value.cuda(non_blocking=True)\n",
    "                else:\n",
    "                    cam_infos[key] = value\n",
    "            \n",
    "            # Move image info tensors to GPU\n",
    "            for key, value in frame_data[\"image_infos\"].items():\n",
    "                if isinstance(value, torch.Tensor):\n",
    "                    image_infos[key] = value.cuda(non_blocking=True)\n",
    "                else:\n",
    "                    image_infos[key] = value\n",
    "\n",
    "            # Perform rendering\n",
    "            outputs = self.trainer(\n",
    "                image_infos=image_infos,\n",
    "                camera_infos=cam_infos,\n",
    "                novel_view=True\n",
    "            )\n",
    "\n",
    "            # Extract RGB image and return\n",
    "            rgb = outputs[\"rgb\"].cpu().numpy().clip(\n",
    "                min=1.e-6, max=1-1.e-6\n",
    "            )\n",
    "\n",
    "            # If depth is needed, you can extract it too\n",
    "            if \"depth\" in outputs:\n",
    "                depth = outputs[\"depth\"].cpu().numpy()\n",
    "                return rgb, depth\n",
    "\n",
    "            return rgb\n",
    "\n",
    "    def get_sensor_output(self, state):\n",
    "        \"\"\"\n",
    "        Generate sensor output (RGB image) for the given simulation state.\n",
    "        \n",
    "        Args:\n",
    "            state (dict): Current state of the simulation containing:\n",
    "                - camera_position (np.ndarray): 3D position of the camera\n",
    "                - camera_rotation (np.ndarray): Rotation of the camera (e.g., quaternion)\n",
    "                - vehicle_positions (dict): Dictionary mapping vehicle IDs to positions\n",
    "                - vehicle_rotations (dict): Dictionary mapping vehicle IDs to rotations\n",
    "                - timestamp (float): Current simulation time\n",
    "                \n",
    "        Returns:\n",
    "            dict: Sensor outputs including rendered image\n",
    "        \"\"\"\n",
    "        # Prepare frame data for rendering based on current state\n",
    "        frame_data = self.prepare_frame_data(state)\n",
    "\n",
    "        # Render the image\n",
    "        rgb_image = self.render_single_frame(frame_data)\n",
    "\n",
    "        # Create sensor output dictionary\n",
    "        sensor_output = {\n",
    "            \"rgb_image\": rgb_image,\n",
    "            # Add other sensor outputs as needed\n",
    "        }\n",
    "\n",
    "        return sensor_output\n",
    "\n",
    "    def prepare_frame_data(self, state: State):\n",
    "        \"\"\"\n",
    "        Prepare the frame data needed for rendering based on simulation state.\n",
    "        \n",
    "        Args:\n",
    "            state (dict): Current state of the simulation\n",
    "            \n",
    "        Returns:\n",
    "            dict: Frame data dictionary with cam_infos and image_infos\n",
    "        \"\"\"\n",
    "        # Extract camera information\n",
    "        camera_position = torch.tensor([\n",
    "            state.ego_pos.x,\n",
    "            state.ego_pos.y,\n",
    "            state.ego_pos.z\n",
    "        ], dtype=torch.float32)\n",
    "        \n",
    "        # Assuming state.ego_pos.heading is a scalar representing the yaw angle\n",
    "        heading = torch.tensor(state.ego_pos.heading)\n",
    "        half_yaw = heading / 2\n",
    "        camera_rotation = torch.tensor([\n",
    "            0.0,                     # x (roll)\n",
    "            0.0,                     # y (pitch)\n",
    "            torch.sin(half_yaw),    # z\n",
    "            torch.cos(half_yaw)     # w\n",
    "        ])\n",
    "        \n",
    "        timestamp = state.timestamp.time_us\n",
    "\n",
    "        # Get camera matrix\n",
    "        c2w = self.compute_camera_matrix(camera_position, camera_rotation)\n",
    "        \n",
    "        # these are the intrinsics for the camera TODO: load from file\n",
    "        # 1.545000000000000000e+03\n",
    "        # 1.545000000000000000e+03\n",
    "        # 9.600000000000000000e+02\n",
    "        # 5.600000000000000000e+02\n",
    "        # -3.561230000000000229e-01\n",
    "        # 1.725450000000000039e-01\n",
    "        # -2.129999999999999949e-03\n",
    "        # 4.640000000000000027e-04\n",
    "        # -5.231000000000000233e-02\n",
    "        \n",
    "        intrinsics = torch.tensor([\n",
    "            1.545000000000000000e+03,  # fx\n",
    "            1.545000000000000000e+03,  # fy\n",
    "            9.600000000000000000e+02,  # cx\n",
    "            5.600000000000000000e+02,  # cy\n",
    "            -3.561230000000000229e-01, # skew_x\n",
    "            1.725450000000000039e-01,  # skew_y\n",
    "            -2.129999999999999949e-03, # skew_xy\n",
    "            4.640000000000000027e-04,  # skew_yx\n",
    "            -5.231000000000000233e-02   # skew_yy\n",
    "        ], dtype=torch.float32, device=self.device)\n",
    "        \n",
    "        # Reshape intrinsics to match the expected input shape [3,3]\n",
    "        intrinsics = intrinsics.view(3, 3).to(self.device)\n",
    "\n",
    "        # Create camera information dictionary\n",
    "        cam_infos = {\n",
    "            \"intrinsics\": intrinsics,  # Placeholder for intrinsics\n",
    "            \"width\": torch.tensor([1280], device=self.device),\n",
    "            \"height\": torch.tensor([720], device=self.device),\n",
    "            \"camera_to_world\": c2w,\n",
    "            # Add other camera parameters required by your model\n",
    "        }\n",
    "\n",
    "        # Vehicle information\n",
    "        vehicles = getattr(state, \"vehicle_pos_list\", {})\n",
    "        \n",
    "        # vehicles is on the form Position(x=664432.4584765462, y=3998282.198022293, z=0, heading=-1.5377766955975682\n",
    "        \n",
    "        vehicle_positions = {\n",
    "            vehicle_id: np.array([vehicle.x, vehicle.y, vehicle.z], dtype=np.float32)\n",
    "            for vehicle_id, vehicle in enumerate(vehicles)\n",
    "        }\n",
    "        vehicle_rotations = {\n",
    "            vehicle_id: np.array([0.0, 0.0, np.sin(vehicle.heading / 2), np.cos(vehicle.heading / 2)], dtype=np.float32)\n",
    "            for vehicle_id, vehicle in enumerate(vehicles)\n",
    "        }\n",
    "\n",
    "        # Create vehicle information for the renderer\n",
    "        # This depends on how your renderer expects vehicle data\n",
    "        # vehicle_data = {\n",
    "        #     vehicle_id: {\n",
    "        #         \"position\": torch.tensor(position, device=self.device),\n",
    "        #         \"rotation\": torch.tensor(vehicle_rotations.get(vehicle_id, np.array([1.0, 0.0, 0.0, 0.0])), device=self.device),\n",
    "        #     }\n",
    "        #     for vehicle_id, position in vehicle_positions.items()\n",
    "        # }\n",
    "        \n",
    "        vehicle_data = {\n",
    "            vehicle_id: {\n",
    "                \"position\": torch.tensor(position, device=self.device),\n",
    "                \"rotation\": torch.tensor(vehicle_rotations.get(vehicle_id, np.array([1.0, 0.0, 0.0, 0.0])), device=self.device),\n",
    "            }\n",
    "            for vehicle_id, position in vehicle_positions.items()\n",
    "        }\n",
    "\n",
    "        # Create image information dictionary\n",
    "        # This includes any additional data needed for rendering\n",
    "        \n",
    "        normalized_time = (timestamp - self.dataset.start_timestep) / (self.dataset.end_timestep - self.dataset.start_timestep)\n",
    "        \n",
    "        image_infos = {\n",
    "            \"timestamp\": torch.tensor([timestamp], device=self.device),\n",
    "            \"vehicles\": vehicle_data,\n",
    "            \"normed_time\": torch.tensor([normalized_time], device=self.device),\n",
    "            \"img_idx\": torch.tensor([0]),\n",
    "            \"viewdirs\": self.compute_viewdirs(\n",
    "                intrinsics=cam_infos[\"intrinsics\"],\n",
    "                H=cam_infos[\"height\"],\n",
    "                W=cam_infos[\"width\"],\n",
    "                device=self.device\n",
    "            )\n",
    "            # Add other required image information\n",
    "        }\n",
    "\n",
    "        return {\n",
    "            \"cam_infos\": cam_infos,\n",
    "            \"image_infos\": image_infos\n",
    "        }\n",
    "    \n",
    "    def compute_viewdirs(self, intrinsics, H, W, device):\n",
    "        \"\"\"Returns (H, W, 3) ray directions in camera coordinates\"\"\"\n",
    "        fx, fy = intrinsics[0, 0], intrinsics[1, 1]\n",
    "        cx, cy = intrinsics[0, 2], intrinsics[1, 2]\n",
    "        \n",
    "        W_val = W.item() if isinstance(W, torch.Tensor) else W\n",
    "        H_val = H.item() if isinstance(H, torch.Tensor) else H\n",
    "\n",
    "        i, j = torch.meshgrid(\n",
    "            torch.arange(W_val, device=device),\n",
    "            torch.arange(H_val, device=device),\n",
    "            indexing='xy'\n",
    "        )\n",
    "        dirs = torch.stack([\n",
    "            (i - cx) / fx,\n",
    "            (j - cy) / fy,\n",
    "            torch.ones_like(i)\n",
    "        ], dim=-1)  # [H, W, 3]\n",
    "        dirs = dirs / dirs.norm(dim=-1, keepdim=True)  # Normalize\n",
    "        return dirs\n",
    "\n",
    "    def compute_camera_matrix(self, position, rotation):\n",
    "        \"\"\"\n",
    "        Compute the camera-to-world transformation matrix from position and rotation.\n",
    "        \n",
    "        Args:\n",
    "            position (np.ndarray): 3D position vector [x, y, z]\n",
    "            rotation (np.ndarray): Rotation as quaternion [w, x, y, z]\n",
    "            \n",
    "        Returns:\n",
    "            torch.Tensor: 4x4 camera-to-world transformation matrix\n",
    "        \"\"\"\n",
    "        # Create a cache key for this position and rotation\n",
    "        cache_key = (tuple(position), tuple(rotation))\n",
    "\n",
    "        # Check if we've already computed this matrix\n",
    "        if cache_key in self.camera_matrix_cache:\n",
    "            return self.camera_matrix_cache[cache_key]\n",
    "\n",
    "        # Convert position to tensor\n",
    "        position_tensor = torch.tensor(position, dtype=torch.float32, device=self.device)\n",
    "\n",
    "        # Initialize transformation matrix\n",
    "        c2w = torch.eye(4, device=self.device)\n",
    "\n",
    "        # Set translation component\n",
    "        c2w[:3, 3] = position_tensor\n",
    "\n",
    "        # Convert quaternion to rotation matrix\n",
    "        # Assuming quaternion is [w, x, y, z]\n",
    "        w, x, y, z = rotation\n",
    "\n",
    "        # Construct rotation matrix from quaternion\n",
    "        rot_matrix = torch.tensor([\n",
    "            [1 - 2*y*y - 2*z*z, 2*x*y - 2*w*z, 2*x*z + 2*w*y],\n",
    "            [2*x*y + 2*w*z, 1 - 2*x*x - 2*z*z, 2*y*z - 2*w*x],\n",
    "            [2*x*z - 2*w*y, 2*y*z + 2*w*x, 1 - 2*x*x - 2*y*y]\n",
    "        ], dtype=torch.float32, device=self.device)\n",
    "\n",
    "        # Set rotation component of the transformation matrix\n",
    "        c2w[:3, :3] = rot_matrix\n",
    "\n",
    "        # Store in cache for future use\n",
    "        self.camera_matrix_cache[cache_key] = c2w\n",
    "\n",
    "        return c2w\n",
    "\n",
    "    def update_vehicle_positions(self, state, vehicle_id, new_position, new_rotation):\n",
    "        \"\"\"\n",
    "        Update the position and rotation of a specific vehicle in the state.\n",
    "        \n",
    "        Args:\n",
    "            state (dict): Current simulation state\n",
    "            vehicle_id (int): ID of the vehicle to update\n",
    "            new_position (np.ndarray): New 3D position\n",
    "            new_rotation (np.ndarray): New rotation (quaternion)\n",
    "            \n",
    "        Returns:\n",
    "            dict: Updated state dictionary\n",
    "        \"\"\"\n",
    "        # Create a copy of the state to avoid modifying the original\n",
    "        updated_state = state.copy()\n",
    "\n",
    "        # Initialize vehicle dictionaries if they don't exist\n",
    "        if \"vehicle_positions\" not in updated_state:\n",
    "            updated_state[\"vehicle_positions\"] = {}\n",
    "        if \"vehicle_rotations\" not in updated_state:\n",
    "            updated_state[\"vehicle_rotations\"] = {}\n",
    "\n",
    "        # Update vehicle position and rotation\n",
    "        updated_state[\"vehicle_positions\"][vehicle_id] = new_position\n",
    "        updated_state[\"vehicle_rotations\"][vehicle_id] = new_rotation\n",
    "\n",
    "        return updated_state\n",
    "\n",
    "    def create_trajectory(self, start_position, end_position, num_steps):\n",
    "        \"\"\"\n",
    "        Create a linear trajectory between two positions.\n",
    "        \n",
    "        Args:\n",
    "            start_position (np.ndarray): Starting position [x, y, z]\n",
    "            end_position (np.ndarray): Ending position [x, y, z]\n",
    "            num_steps (int): Number of steps in the trajectory\n",
    "            \n",
    "        Returns:\n",
    "            np.ndarray: Array of positions along the trajectory\n",
    "        \"\"\"\n",
    "        return np.linspace(start_position, end_position, num_steps)"
   ]
  },
  {
   "cell_type": "code",
   "execution_count": 4,
   "id": "440014d4",
   "metadata": {},
   "outputs": [
    {
     "name": "stdout",
     "output_type": "stream",
     "text": [
      "Added /cluster/home/larstond/master-project/drivestudio to sys.path\n",
      "Changed working directory to /cluster/home/larstond/master-project/drivestudio\n",
      "Working directory: /cluster/home/larstond/master-project/drivestudio\n",
      "Config path (relative to drivestudio): configs/datasets/nuplan/8cams_undistorted.yaml\n",
      "Absolute config path: /cluster/home/larstond/master-project/drivestudio/configs/datasets/nuplan/8cams_undistorted.yaml\n",
      "Loading config from: configs/datasets/nuplan/8cams_undistorted.yaml\n",
      "Loading checkpoint from: output/master-project/run_omnire_undistorted_8cams_0\n",
      "Loading dataset...\n"
     ]
    },
    {
     "name": "stderr",
     "output_type": "stream",
     "text": [
      "Loading images:   1%|          | 2/300 [00:00<00:23, 12.95it/s]"
     ]
    },
    {
     "name": "stdout",
     "output_type": "stream",
     "text": [
      "undistorting rgb\n"
     ]
    },
    {
     "name": "stderr",
     "output_type": "stream",
     "text": [
      "Loading images: 100%|██████████| 300/300 [00:10<00:00, 28.05it/s]\n",
      "Loading dynamic masks:   2%|▏         | 7/300 [00:00<00:04, 59.37it/s]"
     ]
    },
    {
     "name": "stdout",
     "output_type": "stream",
     "text": [
      "undistorting dynamic mask\n"
     ]
    },
    {
     "name": "stderr",
     "output_type": "stream",
     "text": [
      "Loading dynamic masks: 100%|██████████| 300/300 [00:06<00:00, 42.92it/s]\n",
      "Loading human masks:   6%|▌         | 17/300 [00:00<00:03, 85.35it/s]"
     ]
    },
    {
     "name": "stdout",
     "output_type": "stream",
     "text": [
      "undistorting human mask\n"
     ]
    },
    {
     "name": "stderr",
     "output_type": "stream",
     "text": [
      "Loading human masks: 100%|██████████| 300/300 [00:07<00:00, 41.21it/s]\n",
      "Loading vehicle masks:   6%|▌         | 18/300 [00:00<00:03, 86.09it/s]"
     ]
    },
    {
     "name": "stdout",
     "output_type": "stream",
     "text": [
      "undistorting vehicle mask\n"
     ]
    },
    {
     "name": "stderr",
     "output_type": "stream",
     "text": [
      "Loading vehicle masks: 100%|██████████| 300/300 [00:07<00:00, 42.36it/s]\n",
      "Loading sky masks:   2%|▏         | 7/300 [00:00<00:06, 42.47it/s]"
     ]
    },
    {
     "name": "stdout",
     "output_type": "stream",
     "text": [
      "undistorting sky mask\n"
     ]
    },
    {
     "name": "stderr",
     "output_type": "stream",
     "text": [
      "Loading sky masks: 100%|██████████| 300/300 [00:04<00:00, 62.71it/s] \n",
      "Loading images:   2%|▏         | 5/300 [00:00<00:12, 23.82it/s]"
     ]
    },
    {
     "name": "stdout",
     "output_type": "stream",
     "text": [
      "undistorting rgb\n"
     ]
    },
    {
     "name": "stderr",
     "output_type": "stream",
     "text": [
      "Loading images: 100%|██████████| 300/300 [00:12<00:00, 23.94it/s]\n",
      "Loading dynamic masks:   1%|          | 3/300 [00:00<00:13, 22.35it/s]"
     ]
    },
    {
     "name": "stdout",
     "output_type": "stream",
     "text": [
      "undistorting dynamic mask\n"
     ]
    },
    {
     "name": "stderr",
     "output_type": "stream",
     "text": [
      "Loading dynamic masks: 100%|██████████| 300/300 [00:07<00:00, 40.29it/s]\n",
      "Loading human masks:   2%|▏         | 5/300 [00:00<00:06, 45.62it/s]"
     ]
    },
    {
     "name": "stdout",
     "output_type": "stream",
     "text": [
      "undistorting human mask\n"
     ]
    },
    {
     "name": "stderr",
     "output_type": "stream",
     "text": [
      "Loading human masks: 100%|██████████| 300/300 [00:08<00:00, 35.28it/s]\n",
      "Loading vehicle masks:   1%|▏         | 4/300 [00:00<00:07, 39.11it/s]"
     ]
    },
    {
     "name": "stdout",
     "output_type": "stream",
     "text": [
      "undistorting vehicle mask\n"
     ]
    },
    {
     "name": "stderr",
     "output_type": "stream",
     "text": [
      "Loading vehicle masks: 100%|██████████| 300/300 [00:07<00:00, 39.98it/s]\n",
      "Loading sky masks:   2%|▏         | 5/300 [00:00<00:07, 38.52it/s]"
     ]
    },
    {
     "name": "stdout",
     "output_type": "stream",
     "text": [
      "undistorting sky mask\n"
     ]
    },
    {
     "name": "stderr",
     "output_type": "stream",
     "text": [
      "Loading sky masks: 100%|██████████| 300/300 [00:05<00:00, 51.91it/s]\n",
      "Loading images:   1%|          | 3/300 [00:00<00:10, 28.15it/s]"
     ]
    },
    {
     "name": "stdout",
     "output_type": "stream",
     "text": [
      "undistorting rgb\n"
     ]
    },
    {
     "name": "stderr",
     "output_type": "stream",
     "text": [
      "Loading images: 100%|██████████| 300/300 [00:13<00:00, 22.05it/s]\n",
      "Loading dynamic masks:   1%|          | 2/300 [00:00<00:20, 14.75it/s]"
     ]
    },
    {
     "name": "stdout",
     "output_type": "stream",
     "text": [
      "undistorting dynamic mask\n"
     ]
    },
    {
     "name": "stderr",
     "output_type": "stream",
     "text": [
      "Loading dynamic masks: 100%|██████████| 300/300 [00:08<00:00, 35.50it/s]\n",
      "Loading human masks:   3%|▎         | 8/300 [00:00<00:03, 76.15it/s]"
     ]
    },
    {
     "name": "stdout",
     "output_type": "stream",
     "text": [
      "undistorting human mask\n"
     ]
    },
    {
     "name": "stderr",
     "output_type": "stream",
     "text": [
      "Loading human masks: 100%|██████████| 300/300 [00:08<00:00, 37.35it/s]\n",
      "Loading vehicle masks:   1%|          | 3/300 [00:00<00:12, 23.74it/s]"
     ]
    },
    {
     "name": "stdout",
     "output_type": "stream",
     "text": [
      "undistorting vehicle mask\n"
     ]
    },
    {
     "name": "stderr",
     "output_type": "stream",
     "text": [
      "Loading vehicle masks: 100%|██████████| 300/300 [00:08<00:00, 33.89it/s]\n",
      "Loading sky masks:   2%|▏         | 7/300 [00:00<00:04, 63.74it/s]"
     ]
    },
    {
     "name": "stdout",
     "output_type": "stream",
     "text": [
      "undistorting sky mask\n"
     ]
    },
    {
     "name": "stderr",
     "output_type": "stream",
     "text": [
      "Loading sky masks: 100%|██████████| 300/300 [00:06<00:00, 44.62it/s]\n",
      "Loading images:   2%|▏         | 5/300 [00:00<00:12, 24.28it/s]"
     ]
    },
    {
     "name": "stdout",
     "output_type": "stream",
     "text": [
      "undistorting rgb\n"
     ]
    },
    {
     "name": "stderr",
     "output_type": "stream",
     "text": [
      "Loading images: 100%|██████████| 300/300 [00:12<00:00, 24.83it/s]\n",
      "Loading dynamic masks:   3%|▎         | 8/300 [00:00<00:07, 38.91it/s]"
     ]
    },
    {
     "name": "stdout",
     "output_type": "stream",
     "text": [
      "undistorting dynamic mask\n"
     ]
    },
    {
     "name": "stderr",
     "output_type": "stream",
     "text": [
      "Loading dynamic masks: 100%|██████████| 300/300 [00:07<00:00, 40.94it/s]\n",
      "Loading human masks:   2%|▏         | 5/300 [00:00<00:06, 46.45it/s]"
     ]
    },
    {
     "name": "stdout",
     "output_type": "stream",
     "text": [
      "undistorting human mask\n"
     ]
    },
    {
     "name": "stderr",
     "output_type": "stream",
     "text": [
      "Loading human masks: 100%|██████████| 300/300 [00:06<00:00, 49.23it/s]\n",
      "Loading vehicle masks:   2%|▏         | 6/300 [00:00<00:05, 57.78it/s]"
     ]
    },
    {
     "name": "stdout",
     "output_type": "stream",
     "text": [
      "undistorting vehicle mask\n"
     ]
    },
    {
     "name": "stderr",
     "output_type": "stream",
     "text": [
      "Loading vehicle masks: 100%|██████████| 300/300 [00:07<00:00, 40.74it/s]\n",
      "Loading sky masks:   2%|▏         | 7/300 [00:00<00:04, 61.96it/s]"
     ]
    },
    {
     "name": "stdout",
     "output_type": "stream",
     "text": [
      "undistorting sky mask\n"
     ]
    },
    {
     "name": "stderr",
     "output_type": "stream",
     "text": [
      "Loading sky masks: 100%|██████████| 300/300 [00:05<00:00, 54.41it/s]\n",
      "Loading images:   1%|          | 3/300 [00:00<00:13, 22.17it/s]"
     ]
    },
    {
     "name": "stdout",
     "output_type": "stream",
     "text": [
      "undistorting rgb\n"
     ]
    },
    {
     "name": "stderr",
     "output_type": "stream",
     "text": [
      "Loading images: 100%|██████████| 300/300 [00:11<00:00, 27.20it/s]\n",
      "Loading dynamic masks:   1%|          | 2/300 [00:00<00:16, 17.92it/s]"
     ]
    },
    {
     "name": "stdout",
     "output_type": "stream",
     "text": [
      "undistorting dynamic mask\n"
     ]
    },
    {
     "name": "stderr",
     "output_type": "stream",
     "text": [
      "Loading dynamic masks: 100%|██████████| 300/300 [00:07<00:00, 38.13it/s]\n",
      "Loading human masks:   2%|▏         | 5/300 [00:00<00:07, 37.78it/s]"
     ]
    },
    {
     "name": "stdout",
     "output_type": "stream",
     "text": [
      "undistorting human mask\n"
     ]
    },
    {
     "name": "stderr",
     "output_type": "stream",
     "text": [
      "Loading human masks: 100%|██████████| 300/300 [00:05<00:00, 56.01it/s]\n",
      "Loading vehicle masks:   3%|▎         | 8/300 [00:00<00:04, 72.31it/s]"
     ]
    },
    {
     "name": "stdout",
     "output_type": "stream",
     "text": [
      "undistorting vehicle mask\n"
     ]
    },
    {
     "name": "stderr",
     "output_type": "stream",
     "text": [
      "Loading vehicle masks: 100%|██████████| 300/300 [00:05<00:00, 58.25it/s]\n",
      "Loading sky masks:   3%|▎         | 8/300 [00:00<00:03, 78.66it/s]"
     ]
    },
    {
     "name": "stdout",
     "output_type": "stream",
     "text": [
      "undistorting sky mask\n"
     ]
    },
    {
     "name": "stderr",
     "output_type": "stream",
     "text": [
      "Loading sky masks: 100%|██████████| 300/300 [00:02<00:00, 117.25it/s]\n",
      "Loading images:   3%|▎         | 10/300 [00:00<00:06, 46.09it/s]"
     ]
    },
    {
     "name": "stdout",
     "output_type": "stream",
     "text": [
      "undistorting rgb\n"
     ]
    },
    {
     "name": "stderr",
     "output_type": "stream",
     "text": [
      "Loading images: 100%|██████████| 300/300 [00:09<00:00, 31.53it/s]\n",
      "Loading dynamic masks:   6%|▌         | 17/300 [00:00<00:03, 83.35it/s]"
     ]
    },
    {
     "name": "stdout",
     "output_type": "stream",
     "text": [
      "undistorting dynamic mask\n"
     ]
    },
    {
     "name": "stderr",
     "output_type": "stream",
     "text": [
      "Loading dynamic masks: 100%|██████████| 300/300 [00:04<00:00, 63.75it/s]\n",
      "Loading human masks:   2%|▏         | 5/300 [00:00<00:07, 40.23it/s]"
     ]
    },
    {
     "name": "stdout",
     "output_type": "stream",
     "text": [
      "undistorting human mask\n"
     ]
    },
    {
     "name": "stderr",
     "output_type": "stream",
     "text": [
      "Loading human masks: 100%|██████████| 300/300 [00:05<00:00, 51.60it/s]\n",
      "Loading vehicle masks:   2%|▏         | 5/300 [00:00<00:06, 44.07it/s]"
     ]
    },
    {
     "name": "stdout",
     "output_type": "stream",
     "text": [
      "undistorting vehicle mask\n"
     ]
    },
    {
     "name": "stderr",
     "output_type": "stream",
     "text": [
      "Loading vehicle masks: 100%|██████████| 300/300 [00:06<00:00, 48.17it/s]\n",
      "Loading sky masks:   3%|▎         | 8/300 [00:00<00:04, 63.76it/s]"
     ]
    },
    {
     "name": "stdout",
     "output_type": "stream",
     "text": [
      "undistorting sky mask\n"
     ]
    },
    {
     "name": "stderr",
     "output_type": "stream",
     "text": [
      "Loading sky masks: 100%|██████████| 300/300 [00:02<00:00, 111.15it/s]\n",
      "Loading images:   2%|▏         | 5/300 [00:00<00:06, 46.19it/s]"
     ]
    },
    {
     "name": "stdout",
     "output_type": "stream",
     "text": [
      "undistorting rgb\n"
     ]
    },
    {
     "name": "stderr",
     "output_type": "stream",
     "text": [
      "Loading images: 100%|██████████| 300/300 [00:09<00:00, 30.57it/s]\n",
      "Loading dynamic masks:   6%|▋         | 19/300 [00:00<00:03, 91.70it/s]"
     ]
    },
    {
     "name": "stdout",
     "output_type": "stream",
     "text": [
      "undistorting dynamic mask\n"
     ]
    },
    {
     "name": "stderr",
     "output_type": "stream",
     "text": [
      "Loading dynamic masks: 100%|██████████| 300/300 [00:03<00:00, 80.98it/s]\n",
      "Loading human masks:   3%|▎         | 10/300 [00:00<00:03, 92.33it/s]"
     ]
    },
    {
     "name": "stdout",
     "output_type": "stream",
     "text": [
      "undistorting human mask\n"
     ]
    },
    {
     "name": "stderr",
     "output_type": "stream",
     "text": [
      "Loading human masks: 100%|██████████| 300/300 [00:03<00:00, 79.53it/s]\n",
      "Loading vehicle masks:   6%|▌         | 18/300 [00:00<00:03, 88.46it/s]"
     ]
    },
    {
     "name": "stdout",
     "output_type": "stream",
     "text": [
      "undistorting vehicle mask\n"
     ]
    },
    {
     "name": "stderr",
     "output_type": "stream",
     "text": [
      "Loading vehicle masks: 100%|██████████| 300/300 [00:03<00:00, 89.84it/s]\n",
      "Loading sky masks:   4%|▎         | 11/300 [00:00<00:02, 102.63it/s]"
     ]
    },
    {
     "name": "stdout",
     "output_type": "stream",
     "text": [
      "undistorting sky mask\n"
     ]
    },
    {
     "name": "stderr",
     "output_type": "stream",
     "text": [
      "Loading sky masks: 100%|██████████| 300/300 [00:02<00:00, 128.45it/s]\n",
      "Loading images:   2%|▏         | 5/300 [00:00<00:06, 42.32it/s]"
     ]
    },
    {
     "name": "stdout",
     "output_type": "stream",
     "text": [
      "undistorting rgb\n"
     ]
    },
    {
     "name": "stderr",
     "output_type": "stream",
     "text": [
      "Loading images: 100%|██████████| 300/300 [00:06<00:00, 44.55it/s]\n",
      "Loading dynamic masks:   6%|▌         | 18/300 [00:00<00:03, 88.68it/s]"
     ]
    },
    {
     "name": "stdout",
     "output_type": "stream",
     "text": [
      "undistorting dynamic mask\n"
     ]
    },
    {
     "name": "stderr",
     "output_type": "stream",
     "text": [
      "Loading dynamic masks: 100%|██████████| 300/300 [00:03<00:00, 88.27it/s]\n",
      "Loading human masks:   3%|▎         | 10/300 [00:00<00:03, 93.21it/s]"
     ]
    },
    {
     "name": "stdout",
     "output_type": "stream",
     "text": [
      "undistorting human mask\n"
     ]
    },
    {
     "name": "stderr",
     "output_type": "stream",
     "text": [
      "Loading human masks: 100%|██████████| 300/300 [00:03<00:00, 87.43it/s]\n",
      "Loading vehicle masks:   2%|▏         | 7/300 [00:00<00:04, 61.41it/s]"
     ]
    },
    {
     "name": "stdout",
     "output_type": "stream",
     "text": [
      "undistorting vehicle mask\n"
     ]
    },
    {
     "name": "stderr",
     "output_type": "stream",
     "text": [
      "Loading vehicle masks: 100%|██████████| 300/300 [00:03<00:00, 82.43it/s]\n",
      "Loading sky masks:   6%|▌         | 18/300 [00:00<00:03, 93.87it/s]"
     ]
    },
    {
     "name": "stdout",
     "output_type": "stream",
     "text": [
      "undistorting sky mask\n"
     ]
    },
    {
     "name": "stderr",
     "output_type": "stream",
     "text": [
      "Loading sky masks: 100%|██████████| 300/300 [00:02<00:00, 123.92it/s]\n"
     ]
    },
    {
     "name": "stdout",
     "output_type": "stream",
     "text": [
      "End timestep: 300\n"
     ]
    },
    {
     "name": "stderr",
     "output_type": "stream",
     "text": [
      "Loading SMPL: 100%|██████████| 300/300 [00:01<00:00, 264.34it/s]\n",
      "Loading lidar:   0%|          | 0/300 [00:00<?, ?it/s]/cluster/home/larstond/master-project/drivestudio/datasets/nuplan/nuplan_sourceloader.py:417: UserWarning: The given NumPy array is not writable, and PyTorch does not support non-writable tensors. This means writing to this tensor will result in undefined behavior. You may want to copy the array to protect its data or make it writable before converting it to a tensor. This type of warning will be suppressed for the rest of this program. (Triggered internally at ../torch/csrc/utils/tensor_numpy.cpp:206.)\n",
      "  lidar_points = torch.from_numpy(lidar_info[:, :3]).float()\n",
      "Loading lidar: 100%|██████████| 300/300 [00:48<00:00,  6.20it/s]\n",
      "Projecting lidar pts on images for camera CAM_F0: 100%|██████████| 300/300 [02:01<00:00,  2.47it/s]\n",
      "Projecting lidar pts on images for camera CAM_L0: 100%|██████████| 300/300 [01:51<00:00,  2.68it/s]\n",
      "Projecting lidar pts on images for camera CAM_R0: 100%|██████████| 300/300 [02:15<00:00,  2.21it/s]\n",
      "Projecting lidar pts on images for camera CAM_L1: 100%|██████████| 300/300 [01:59<00:00,  2.51it/s]\n",
      "Projecting lidar pts on images for camera CAM_R1: 100%|██████████| 300/300 [02:24<00:00,  2.08it/s]\n",
      "Projecting lidar pts on images for camera CAM_L2: 100%|██████████| 300/300 [01:31<00:00,  3.30it/s]\n",
      "Projecting lidar pts on images for camera CAM_R2: 100%|██████████| 300/300 [01:58<00:00,  2.54it/s]\n",
      "Projecting lidar pts on images for camera CAM_B0: 100%|██████████| 300/300 [02:14<00:00,  2.23it/s]\n",
      "/cluster/home/larstond/.conda/envs/master/lib/python3.9/site-packages/torchvision/models/_utils.py:208: UserWarning: The parameter 'pretrained' is deprecated since 0.13 and may be removed in the future, please use 'weights' instead.\n",
      "  warnings.warn(\n",
      "/cluster/home/larstond/.conda/envs/master/lib/python3.9/site-packages/torchvision/models/_utils.py:223: UserWarning: Arguments other than a weight enum or `None` for 'weights' are deprecated since 0.13 and may be removed in the future. The current behavior is equivalent to passing `weights=AlexNet_Weights.IMAGENET1K_V1`. You can also use `weights=AlexNet_Weights.DEFAULT` to get the most up-to-date weights.\n",
      "  warnings.warn(msg)\n"
     ]
    },
    {
     "name": "stdout",
     "output_type": "stream",
     "text": [
      "Using predefined pose: da_pose\n",
      "OmniRe environment model initialized with checkpoint: output/master-project/run_omnire_undistorted_8cams_0/config.yaml\n",
      "Successfully initialized OmniRe environment model\n",
      "Restored original sys.path\n",
      "Restored working directory to /cluster/home/larstond/master-project\n"
     ]
    }
   ],
   "source": [
    "base_dir = Path.cwd()\n",
    "\n",
    "setup = None\n",
    "\n",
    "# Now use the context manager for clean path handling\n",
    "with use_path(\"drivestudio\", True):\n",
    "    # Define paths relative to the drivestudio directory\n",
    "    relative_config_path = \"configs/datasets/nuplan/8cams_undistorted.yaml\"\n",
    "    relative_checkpoint_path = \"output/master-project/run_omnire_undistorted_8cams_0\"\n",
    "    \n",
    "    print(f\"Working directory: {os.getcwd()}\")\n",
    "    print(f\"Config path (relative to drivestudio): {relative_config_path}\")\n",
    "    print(f\"Absolute config path: {os.path.abspath(relative_config_path)}\")\n",
    "    \n",
    "    # Check if these files exist in this context\n",
    "    if not os.path.exists(relative_config_path):\n",
    "        print(f\"ERROR: Config file not found at {os.path.abspath(relative_config_path)}\")\n",
    "    if not os.path.exists(relative_checkpoint_path):\n",
    "        print(f\"ERROR: Checkpoint directory not found at {os.path.abspath(relative_checkpoint_path)}\")\n",
    "    \n",
    "    # Only initialize if files exist\n",
    "    if os.path.exists(relative_config_path) and os.path.exists(relative_checkpoint_path):\n",
    "        setup = OmniReSetup(relative_config_path, relative_checkpoint_path)\n",
    "        print(\"Successfully initialized OmniRe environment model\")\n",
    "    else:\n",
    "        print(\"Failed to initialize environment model due to missing files\")"
   ]
  },
  {
   "cell_type": "code",
   "execution_count": 9,
   "id": "a62f189b",
   "metadata": {},
   "outputs": [],
   "source": [
    "environment_model = OmniReModel(setup)"
   ]
  },
  {
   "cell_type": "code",
   "execution_count": 23,
   "id": "35817117",
   "metadata": {},
   "outputs": [],
   "source": [
    "from nuplan.common.actor_state.state_representation import StateSE2, TimePoint, StateVector2D\n",
    "from nuplan.common.actor_state.oriented_box import OrientedBox\n",
    "from nuplan.common.actor_state.waypoint import Waypoint\n",
    "\n",
    "class RandomAgent(Agent):\n",
    "    \"\"\"Random agent that selects random actions.\"\"\"\n",
    "    def __init__(self):\n",
    "        super().__init__()\n",
    "\n",
    "    def get_action(self, sensor_output, timestamp):\n",
    "        \"\"\"Select a random trajectory\"\"\"\n",
    "        trajectory = []\n",
    "        current_time = timestamp.time_us\n",
    "        \n",
    "        for i in range(10):\n",
    "            # Create proper TimePoint object (microseconds)\n",
    "            time_point = TimePoint(current_time + i * 100000) \n",
    "            \n",
    "            # Create position and heading\n",
    "            x = i * 0.1\n",
    "            y = i * 0.1\n",
    "            heading = 0.0\n",
    "            \n",
    "            # Create StateSE2 for position and heading\n",
    "            center = StateSE2(x, y, heading)\n",
    "            \n",
    "            # Create oriented box\n",
    "            # Parameters: center, length, width, height\n",
    "            oriented_box = OrientedBox(center, length=1.0, width=1.0, height=1.0)\n",
    "            \n",
    "            # Create velocity vector\n",
    "            velocity = StateVector2D(1.0, 0.0)  # x-velocity=1.0, y-velocity=0.0\n",
    "            \n",
    "            # Create waypoint with all required components\n",
    "            waypoint = Waypoint(time_point, oriented_box, velocity)\n",
    "            trajectory.append(waypoint)\n",
    "            \n",
    "        return trajectory\n",
    "\n",
    "agent = RandomAgent()"
   ]
  },
  {
   "cell_type": "markdown",
   "id": "b2a2316c",
   "metadata": {},
   "source": [
    "## Do the simulation loop"
   ]
  },
  {
   "cell_type": "code",
   "execution_count": 53,
   "id": "19f669a9",
   "metadata": {},
   "outputs": [
    {
     "name": "stdout",
     "output_type": "stream",
     "text": [
      "Step 0\n",
      "State: State(ego_pos=Position(x=0.05000899999999997, y=0.050009, z=0, heading=0.0), vehicle_pos_list=[Position(x=664422.5578196221, y=3998309.5687599913, z=0, heading=1.664751793441841), Position(x=664423.7800730007, y=3998268.9177489597, z=0, heading=1.519970667413502), Position(x=664424.5847680498, y=3998268.919828844, z=0, heading=1.525813231833843), Position(x=664468.2743763807, y=3998276.9207328185, z=0, heading=0.23865416013631702), Position(x=664461.6427583325, y=3998271.4930904093, z=0, heading=-0.493682857044468), Position(x=664472.6431427809, y=3998287.979437564, z=0, heading=1.4842703105195731), Position(x=664470.1088065113, y=3998288.982829045, z=0, heading=-1.6922624119815526), Position(x=664470.753116522, y=3998288.77551687, z=0, heading=-1.686632146221038), Position(x=664473.9501112534, y=3998286.3503967533, z=0, heading=-1.591229531490952), Position(x=664471.3389890003, y=3998291.5359799983, z=0, heading=-1.7683316702626115), Position(x=664470.554354723, y=3998291.9891451797, z=0, heading=-1.8050136295797266), Position(x=664474.734933294, y=3998290.3952010265, z=0, heading=-1.602800468930342), Position(x=664471.6942123625, y=3998291.266539514, z=0, heading=-1.7230422019642675), Position(x=664472.4007421596, y=3998292.940324865, z=0, heading=-1.7488818967247615), Position(x=664471.2489093405, y=3998293.4870955315, z=0, heading=-1.7640299396483123), Position(x=664474.8633489968, y=3998293.1625006986, z=0, heading=-1.6655251968136477), Position(x=664474.1951244896, y=3998293.5557140624, z=0, heading=-1.754074627628042), Position(x=664476.1298704605, y=3998292.294645453, z=0, heading=-1.6249277700370983), Position(x=664421.612080836, y=3998310.01830342, z=0, heading=-0.3418913761705853), Position(x=664425.0033995882, y=3998281.8410183503, z=0, heading=1.7495150787415765), Position(x=664432.4845056615, y=3998281.086523107, z=0, heading=-1.5379531614830164), Position(x=664438.4412620743, y=3998306.3890851503, z=0, heading=-1.5472993401729211), Position(x=664432.1700396496, y=3998302.759531807, z=0, heading=-1.5394042261357965), Position(x=664436.1651763244, y=3998257.364969526, z=0, heading=-1.5506115137666603), Position(x=664434.7415233762, y=3998314.7974391086, z=0, heading=-1.520033415234434), Position(x=664435.7100406518, y=3998270.311387889, z=0, heading=-1.5500843900906789), Position(x=664435.3959956401, y=3998288.8716911674, z=0, heading=-1.5509901126072325), Position(x=664436.3124911943, y=3998242.6565002576, z=0, heading=-1.5521338733983092), Position(x=664438.5097716296, y=3998294.5154274516, z=0, heading=-1.542693543908266), Position(x=664438.9526117203, y=3998270.6853847764, z=0, heading=-1.5520416300864455), Position(x=664431.8630300116, y=3998314.920881732, z=0, heading=-1.5089842242303098), Position(x=664435.0119986463, y=3998305.5224915775, z=0, heading=-1.555481711853705), Position(x=664445.1877026351, y=3998271.8627118384, z=0, heading=-1.5453923946315407), Position(x=664434.2018867893, y=3998323.6516205, z=0, heading=-1.5573224970023198), Position(x=664432.6566666833, y=3998263.7512279428, z=0, heading=-1.5405881097513645), Position(x=664432.7936134042, y=3998246.0873372406, z=0, heading=-1.5480508986148998), Position(x=664442.2236187095, y=3998264.858678591, z=0, heading=-1.5562628804999155), Position(x=664440.1690081299, y=3998223.8838385623, z=0, heading=-1.5160059746740022), Position(x=664439.3583267737, y=3998258.1210019514, z=0, heading=-1.556990586835655), Position(x=664442.3823839828, y=3998256.298140163, z=0, heading=-1.5553664662415523), Position(x=664430.8096778212, y=3998348.2352252016, z=0, heading=-1.5389820842895705), Position(x=664429.1733730779, y=3998262.8779400955, z=0, heading=-1.52967414826333), Position(x=664431.2098477364, y=3998331.9828255596, z=0, heading=-1.511865474368008), Position(x=664428.6791496787, y=3998310.2050310946, z=0, heading=-1.5376167822898463), Position(x=664460.6496807655, y=3998285.0795930643, z=0, heading=0.4780164412126466), Position(x=664454.5264956978, y=3998324.5225656973, z=0, heading=1.613548355641283), Position(x=664427.6903759153, y=3998348.841730802, z=0, heading=-1.5059916541348661), Position(x=664454.8329308715, y=3998304.5733082765, z=0, heading=1.5941563124780602), Position(x=664427.8926351118, y=3998330.1859973785, z=0, heading=-1.5402102505014168), Position(x=664442.8592446884, y=3998245.1307888646, z=0, heading=-1.5314641139372704), Position(x=664455.6825530482, y=3998286.74848606, z=0, heading=1.5884243277937102), Position(x=664455.7188710684, y=3998267.7921850113, z=0, heading=1.5934575112936302), Position(x=664433.1064587677, y=3998371.164130261, z=0, heading=-1.5154825354285797), Position(x=664438.5264573863, y=3998314.534846727, z=0, heading=-1.5580012897376425), Position(x=664468.2351210155, y=3998276.9002192914, z=0, heading=0.8352172570774483)], timestamp=TimePoint(time_us=1620859498000514), image_idx=0)\n",
      "Sensor Output: {'rgb_image': (array([[[0.49035603, 0.4866547 , 0.37553912],\n",
      "        [0.490771  , 0.48706898, 0.37576833],\n",
      "        [0.49118578, 0.48748294, 0.37599748],\n",
      "        ...,\n",
      "        [0.58223355, 0.5734038 , 0.44088492],\n",
      "        [0.5820394 , 0.57319224, 0.44078654],\n",
      "        [0.58184564, 0.5729812 , 0.44068867]],\n",
      "\n",
      "       [[0.49066612, 0.4869593 , 0.37580347],\n",
      "        [0.49108076, 0.48737323, 0.37603232],\n",
      "        [0.49149522, 0.4877869 , 0.37626126],\n",
      "        ...,\n",
      "        [0.5824293 , 0.57350016, 0.4410198 ],\n",
      "        [0.58223647, 0.5732899 , 0.4409224 ],\n",
      "        [0.58204335, 0.57307965, 0.4408248 ]],\n",
      "\n",
      "       [[0.49113926, 0.4874435 , 0.37636843],\n",
      "        [0.49150294, 0.4878125 , 0.37655357],\n",
      "        [0.49191993, 0.48823112, 0.37678337],\n",
      "        ...,\n",
      "        [0.5821619 , 0.57310706, 0.44072   ],\n",
      "        [0.5819339 , 0.5728641 , 0.4406032 ],\n",
      "        [0.5817045 , 0.5726257 , 0.44050092]],\n",
      "\n",
      "       ...,\n",
      "\n",
      "       [[0.35115775, 0.34683272, 0.26555765],\n",
      "        [0.3510807 , 0.3467566 , 0.26550514],\n",
      "        [0.35100353, 0.34668034, 0.2654525 ],\n",
      "        ...,\n",
      "        [0.21927391, 0.22029741, 0.19485068],\n",
      "        [0.21924241, 0.22027193, 0.19484788],\n",
      "        [0.21921115, 0.22024663, 0.19484532]],\n",
      "\n",
      "       [[0.3504107 , 0.34604636, 0.26502907],\n",
      "        [0.3503335 , 0.3459701 , 0.26497656],\n",
      "        [0.35025623, 0.34589374, 0.2649237 ],\n",
      "        ...,\n",
      "        [0.21885078, 0.2198066 , 0.19447109],\n",
      "        [0.21881941, 0.21978119, 0.19446833],\n",
      "        [0.21878828, 0.21975611, 0.19446579]],\n",
      "\n",
      "       [[0.34966427, 0.34526014, 0.26450053],\n",
      "        [0.349587  , 0.345184  , 0.264448  ],\n",
      "        [0.34950963, 0.34510747, 0.26439512],\n",
      "        ...,\n",
      "        [0.21842855, 0.21931674, 0.19409221],\n",
      "        [0.21839711, 0.21929133, 0.19408919],\n",
      "        [0.21836628, 0.2192664 , 0.19408685]]], dtype=float32), array([[[0.10424239],\n",
      "        [0.10424363],\n",
      "        [0.10424484],\n",
      "        ...,\n",
      "        [0.10942517],\n",
      "        [0.10942879],\n",
      "        [0.10943259]],\n",
      "\n",
      "       [[0.10423842],\n",
      "        [0.10423964],\n",
      "        [0.10424083],\n",
      "        ...,\n",
      "        [0.1094151 ],\n",
      "        [0.10941877],\n",
      "        [0.1094225 ]],\n",
      "\n",
      "       [[0.1042337 ],\n",
      "        [0.10423569],\n",
      "        [0.10423689],\n",
      "        ...,\n",
      "        [0.10940518],\n",
      "        [0.10940886],\n",
      "        [0.10941257]],\n",
      "\n",
      "       ...,\n",
      "\n",
      "       [[0.14027165],\n",
      "        [0.14028724],\n",
      "        [0.14030278],\n",
      "        ...,\n",
      "        [0.15572585],\n",
      "        [0.15571485],\n",
      "        [0.15570417]],\n",
      "\n",
      "       [[0.14038435],\n",
      "        [0.14039986],\n",
      "        [0.14041537],\n",
      "        ...,\n",
      "        [0.15583766],\n",
      "        [0.15582657],\n",
      "        [0.15581596]],\n",
      "\n",
      "       [[0.14049692],\n",
      "        [0.14051242],\n",
      "        [0.14052798],\n",
      "        ...,\n",
      "        [0.15594915],\n",
      "        [0.15593801],\n",
      "        [0.15592735]]], dtype=float32))}\n",
      "Action: [Waypoint(_time_point=TimePoint(time_us=1620859498000514), _oriented_box=<nuplan.common.actor_state.oriented_box.OrientedBox object at 0x7fe2fb375520>, _velocity=x: 1.0, y: 0.0), Waypoint(_time_point=TimePoint(time_us=1620859498100514), _oriented_box=<nuplan.common.actor_state.oriented_box.OrientedBox object at 0x7fe2fb3751c0>, _velocity=x: 1.0, y: 0.0), Waypoint(_time_point=TimePoint(time_us=1620859498200514), _oriented_box=<nuplan.common.actor_state.oriented_box.OrientedBox object at 0x7fe2fb3752e0>, _velocity=x: 1.0, y: 0.0), Waypoint(_time_point=TimePoint(time_us=1620859498300514), _oriented_box=<nuplan.common.actor_state.oriented_box.OrientedBox object at 0x7fe2fb375400>, _velocity=x: 1.0, y: 0.0), Waypoint(_time_point=TimePoint(time_us=1620859498400514), _oriented_box=<nuplan.common.actor_state.oriented_box.OrientedBox object at 0x7fe2fb6fdfd0>, _velocity=x: 1.0, y: 0.0), Waypoint(_time_point=TimePoint(time_us=1620859498500514), _oriented_box=<nuplan.common.actor_state.oriented_box.OrientedBox object at 0x7fe36e7716a0>, _velocity=x: 1.0, y: 0.0), Waypoint(_time_point=TimePoint(time_us=1620859498600514), _oriented_box=<nuplan.common.actor_state.oriented_box.OrientedBox object at 0x7fe36e771760>, _velocity=x: 1.0, y: 0.0), Waypoint(_time_point=TimePoint(time_us=1620859498700514), _oriented_box=<nuplan.common.actor_state.oriented_box.OrientedBox object at 0x7fe2fb731c40>, _velocity=x: 1.0, y: 0.0), Waypoint(_time_point=TimePoint(time_us=1620859498800514), _oriented_box=<nuplan.common.actor_state.oriented_box.OrientedBox object at 0x7fe2fafdf070>, _velocity=x: 1.0, y: 0.0), Waypoint(_time_point=TimePoint(time_us=1620859498900514), _oriented_box=<nuplan.common.actor_state.oriented_box.OrientedBox object at 0x7fe36ec78310>, _velocity=x: 1.0, y: 0.0)]\n",
      "Step 1\n",
      "State: State(ego_pos=Position(x=0.05000800000000005, y=0.050008, z=0, heading=0.0), vehicle_pos_list=[Position(x=664422.557474134, y=3998309.6080073467, z=0, heading=1.6492447952368838), Position(x=664423.7838124016, y=3998268.9831958273, z=0, heading=1.5222890384003476), Position(x=664424.5871124974, y=3998268.986899235, z=0, heading=1.529135577706155), Position(x=664468.270845567, y=3998276.9187248894, z=0, heading=0.23865416013631702), Position(x=664461.6414272254, y=3998271.491280191, z=0, heading=-0.49047337672501), Position(x=664472.6506351741, y=3998288.041882557, z=0, heading=1.4919324683199413), Position(x=664470.0855619726, y=3998288.9335994706, z=0, heading=-1.6898720430503178), Position(x=664470.7499947717, y=3998288.721230453, z=0, heading=-1.686632146221038), Position(x=664473.9613018968, y=3998286.280407946, z=0, heading=-1.5830461053046005), Position(x=664471.3247427285, y=3998291.4836220136, z=0, heading=-1.764154302209712), Position(x=664470.5302064423, y=3998291.922157377, z=0, heading=-1.8051554287987503), Position(x=664474.7513268685, y=3998290.3363141725, z=0, heading=-1.5921794584211495), Position(x=664471.6825811857, y=3998291.207522222, z=0, heading=-1.7230422019642675), Position(x=664472.3947951784, y=3998292.8781911638, z=0, heading=-1.7474232903421434), Position(x=664471.244224276, y=3998293.417040783, z=0, heading=-1.7672027411408835), Position(x=664474.894159344, y=3998293.099769868, z=0, heading=-1.6679743222811139), Position(x=664474.1872969865, y=3998293.5235490343, z=0, heading=-1.7557352778917612), Position(x=664476.1375004454, y=3998292.215019712, z=0, heading=-1.6198635901554934), Position(x=664421.6347298671, y=3998310.0151387085, z=0, heading=-0.3521097412532779), Position(x=664425.0005331244, y=3998281.8568861866, z=0, heading=1.7495150787415765), Position(x=664420.3807995004, y=3998242.3738135877, z=0, heading=0.861770617253022), Position(x=664432.4853972042, y=3998280.87295385, z=0, heading=-1.5359823909318127), Position(x=664438.4532643792, y=3998306.3114567087, z=0, heading=-1.5492927524105877), Position(x=664432.170390463, y=3998302.675173049, z=0, heading=-1.5396265308240413), Position(x=664436.1700951254, y=3998256.9688827703, z=0, heading=-1.551620069255477), Position(x=664434.7555739315, y=3998314.737542424, z=0, heading=-1.5237252507590948), Position(x=664435.7203117295, y=3998269.9331566896, z=0, heading=-1.5505735889475847), Position(x=664435.4147251451, y=3998288.6903365934, z=0, heading=-1.549424766950632), Position(x=664436.3284555543, y=3998242.3429468423, z=0, heading=-1.5519950200451467), Position(x=664438.5232676814, y=3998294.3563282927, z=0, heading=-1.5421348623447533), Position(x=664438.9804724895, y=3998270.4415227915, z=0, heading=-1.5506937325619716), Position(x=664431.8594060789, y=3998314.886316468, z=0, heading=-1.508458096443018), Position(x=664435.0166508781, y=3998305.500363925, z=0, heading=-1.5528914616258773), Position(x=664445.1926181067, y=3998271.7118312153, z=0, heading=-1.5477936704251432), Position(x=664434.2008379931, y=3998323.621954266, z=0, heading=-1.560916869099221), Position(x=664432.6536840645, y=3998263.4286534204, z=0, heading=-1.5409141383472764), Position(x=664432.7878605346, y=3998245.5953294015, z=0, heading=-1.5485302824924105), Position(x=664442.2304800991, y=3998264.851970829, z=0, heading=-1.5475846496854422), Position(x=664440.1784447702, y=3998223.4298725766, z=0, heading=-1.516751999740358), Position(x=664439.3693809225, y=3998257.80742144, z=0, heading=-1.556845473831935), Position(x=664442.3740989203, y=3998256.2608551276, z=0, heading=-1.5626905328170575), Position(x=664430.7969998377, y=3998348.2982534124, z=0, heading=-1.5424956046860867), Position(x=664429.1968956988, y=3998262.5780055714, z=0, heading=-1.530907019885404), Position(x=664431.2114554916, y=3998331.939026798, z=0, heading=-1.5070949110303675), Position(x=664428.700140402, y=3998310.0318875695, z=0, heading=-1.5368576830927048), Position(x=664460.6379486538, y=3998285.062624385, z=0, heading=0.47523128535443643), Position(x=664454.5391898128, y=3998324.7160189617, z=0, heading=1.6052508400117023), Position(x=664427.7168751096, y=3998348.5610737028, z=0, heading=-1.4992835881441129), Position(x=664454.8441691627, y=3998305.024298557, z=0, heading=1.5949981797515667), Position(x=664427.9384042915, y=3998329.928476643, z=0, heading=-1.535300391219793), Position(x=664442.8313388556, y=3998245.140570088, z=0, heading=-1.5328338644127022), Position(x=664455.6686286385, y=3998287.158792436, z=0, heading=1.5958366603881178), Position(x=664455.7049149117, y=3998268.011985763, z=0, heading=1.5932618798143259), Position(x=664433.1437230381, y=3998370.7849372067, z=0, heading=-1.508453102513689), Position(x=664438.5245921554, y=3998314.5167137478, z=0, heading=-1.595924663394935), Position(x=664468.2399898783, y=3998276.9007486715, z=0, heading=0.8352172570774483)], timestamp=TimePoint(time_us=1620859498050522), image_idx=0)\n"
     ]
    },
    {
     "name": "stderr",
     "output_type": "stream",
     "text": [
      "/tmp/ipykernel_755100/1436191402.py:256: UserWarning: To copy construct from a tensor, it is recommended to use sourceTensor.clone().detach() or sourceTensor.clone().detach().requires_grad_(True), rather than torch.tensor(sourceTensor).\n",
      "  position_tensor = torch.tensor(position, dtype=torch.float32, device=self.device)\n"
     ]
    },
    {
     "name": "stdout",
     "output_type": "stream",
     "text": [
      "Sensor Output: {'rgb_image': (array([[[0.49036193, 0.48666072, 0.3755423 ],\n",
      "        [0.49077693, 0.48707497, 0.37577152],\n",
      "        [0.49119186, 0.487489  , 0.37600082],\n",
      "        ...,\n",
      "        [0.5822311 , 0.5734006 , 0.44088343],\n",
      "        [0.5820368 , 0.57318974, 0.4407855 ],\n",
      "        [0.581843  , 0.5729784 , 0.44068736]],\n",
      "\n",
      "       [[0.49067214, 0.4869652 , 0.37580684],\n",
      "        [0.49108675, 0.48737922, 0.37603563],\n",
      "        [0.4915014 , 0.487793  , 0.37626466],\n",
      "        ...,\n",
      "        [0.5824268 , 0.57349753, 0.44101858],\n",
      "        [0.5822339 , 0.57328683, 0.44092107],\n",
      "        [0.58204097, 0.5730768 , 0.44082353]],\n",
      "\n",
      "       [[0.49114522, 0.48744956, 0.37637162],\n",
      "        [0.49150893, 0.48781836, 0.37655675],\n",
      "        [0.49192595, 0.4882371 , 0.3767867 ],\n",
      "        ...,\n",
      "        [0.5821595 , 0.5731042 , 0.44071895],\n",
      "        [0.5819315 , 0.57286155, 0.44060206],\n",
      "        [0.5817021 , 0.57262284, 0.44049966]],\n",
      "\n",
      "       ...,\n",
      "\n",
      "       [[0.35115534, 0.34683046, 0.26555616],\n",
      "        [0.35107848, 0.34675437, 0.2655037 ],\n",
      "        [0.3510012 , 0.34667808, 0.26545092],\n",
      "        ...,\n",
      "        [0.21927242, 0.22029603, 0.19484997],\n",
      "        [0.21924087, 0.22027051, 0.1948471 ],\n",
      "        [0.21920961, 0.22024518, 0.1948446 ]],\n",
      "\n",
      "       [[0.35040843, 0.34604403, 0.26502755],\n",
      "        [0.35033134, 0.34596786, 0.26497507],\n",
      "        [0.3502541 , 0.3458916 , 0.26492226],\n",
      "        ...,\n",
      "        [0.21884929, 0.2198052 , 0.19447039],\n",
      "        [0.21881786, 0.21977973, 0.19446756],\n",
      "        [0.21878678, 0.2197546 , 0.19446509]],\n",
      "\n",
      "       [[0.34966207, 0.34525794, 0.26449907],\n",
      "        [0.34958488, 0.34518185, 0.2644465 ],\n",
      "        [0.34950736, 0.34510523, 0.26439372],\n",
      "        ...,\n",
      "        [0.218427  , 0.21931535, 0.19409147],\n",
      "        [0.21839559, 0.2192899 , 0.19408849],\n",
      "        [0.21836475, 0.21926501, 0.19408606]]], dtype=float32), array([[[0.10424239],\n",
      "        [0.10424367],\n",
      "        [0.10424487],\n",
      "        ...,\n",
      "        [0.10942516],\n",
      "        [0.10942888],\n",
      "        [0.10943264]],\n",
      "\n",
      "       [[0.1042384 ],\n",
      "        [0.10423964],\n",
      "        [0.10424086],\n",
      "        ...,\n",
      "        [0.10941516],\n",
      "        [0.10941885],\n",
      "        [0.10942253]],\n",
      "\n",
      "       [[0.10423371],\n",
      "        [0.1042357 ],\n",
      "        [0.1042369 ],\n",
      "        ...,\n",
      "        [0.10940525],\n",
      "        [0.10940894],\n",
      "        [0.10941259]],\n",
      "\n",
      "       ...,\n",
      "\n",
      "       [[0.140272  ],\n",
      "        [0.14028758],\n",
      "        [0.1403031 ],\n",
      "        ...,\n",
      "        [0.1557258 ],\n",
      "        [0.15571481],\n",
      "        [0.15570423]],\n",
      "\n",
      "       [[0.14038467],\n",
      "        [0.14040025],\n",
      "        [0.14041574],\n",
      "        ...,\n",
      "        [0.15583764],\n",
      "        [0.15582655],\n",
      "        [0.15581594]],\n",
      "\n",
      "       [[0.14049722],\n",
      "        [0.14051281],\n",
      "        [0.14052834],\n",
      "        ...,\n",
      "        [0.15594913],\n",
      "        [0.15593797],\n",
      "        [0.1559273 ]]], dtype=float32))}\n",
      "Action: [Waypoint(_time_point=TimePoint(time_us=1620859498050522), _oriented_box=<nuplan.common.actor_state.oriented_box.OrientedBox object at 0x7fe36e771940>, _velocity=x: 1.0, y: 0.0), Waypoint(_time_point=TimePoint(time_us=1620859498150522), _oriented_box=<nuplan.common.actor_state.oriented_box.OrientedBox object at 0x7fe36e7719d0>, _velocity=x: 1.0, y: 0.0), Waypoint(_time_point=TimePoint(time_us=1620859498250522), _oriented_box=<nuplan.common.actor_state.oriented_box.OrientedBox object at 0x7fe36e771be0>, _velocity=x: 1.0, y: 0.0), Waypoint(_time_point=TimePoint(time_us=1620859498350522), _oriented_box=<nuplan.common.actor_state.oriented_box.OrientedBox object at 0x7fe36e771ca0>, _velocity=x: 1.0, y: 0.0), Waypoint(_time_point=TimePoint(time_us=1620859498450522), _oriented_box=<nuplan.common.actor_state.oriented_box.OrientedBox object at 0x7fe36e771dc0>, _velocity=x: 1.0, y: 0.0), Waypoint(_time_point=TimePoint(time_us=1620859498550522), _oriented_box=<nuplan.common.actor_state.oriented_box.OrientedBox object at 0x7fe36e771ee0>, _velocity=x: 1.0, y: 0.0), Waypoint(_time_point=TimePoint(time_us=1620859498650522), _oriented_box=<nuplan.common.actor_state.oriented_box.OrientedBox object at 0x7fe36e771fd0>, _velocity=x: 1.0, y: 0.0), Waypoint(_time_point=TimePoint(time_us=1620859498750522), _oriented_box=<nuplan.common.actor_state.oriented_box.OrientedBox object at 0x7fe2fafdf340>, _velocity=x: 1.0, y: 0.0), Waypoint(_time_point=TimePoint(time_us=1620859498850522), _oriented_box=<nuplan.common.actor_state.oriented_box.OrientedBox object at 0x7fe2fafdf760>, _velocity=x: 1.0, y: 0.0), Waypoint(_time_point=TimePoint(time_us=1620859498950522), _oriented_box=<nuplan.common.actor_state.oriented_box.OrientedBox object at 0x7fe2fafdf610>, _velocity=x: 1.0, y: 0.0)]\n",
      "Step 2\n",
      "State: State(ego_pos=Position(x=0.05001100000000003, y=0.050011, z=0, heading=0.0), vehicle_pos_list=[Position(x=664422.557557513, y=3998309.647970365, z=0, heading=1.6452568120545914), Position(x=664423.7857212065, y=3998269.0515347095, z=0, heading=1.522408956367613), Position(x=664424.5887893157, y=3998269.057986373, z=0, heading=1.5309885188159722), Position(x=664468.2673145415, y=3998276.9167168397, z=0, heading=0.23865416013631702), Position(x=664461.644940855, y=3998271.505268418, z=0, heading=-0.516791559483897), Position(x=664472.6579576771, y=3998288.0995937814, z=0, heading=1.4962759539489188), Position(x=664470.0653011833, y=3998288.881357203, z=0, heading=-1.689578998611831), Position(x=664470.7575405095, y=3998288.714497598, z=0, heading=-1.6794346288791304), Position(x=664473.9698180046, y=3998286.2065321133, z=0, heading=-1.577988688168791), Position(x=664471.3099443511, y=3998291.4154654806, z=0, heading=-1.7677327732910366), Position(x=664470.5040835593, y=3998291.862945483, z=0, heading=-1.8126875122902673), Position(x=664474.7496365297, y=3998290.276536892, z=0, heading=-1.5969126140127796), Position(x=664471.6709493111, y=3998291.148501389, z=0, heading=-1.7230422019642675), Position(x=664472.3873558092, y=3998292.815756891, z=0, heading=-1.7502871829006421), Position(x=664471.2353955033, y=3998293.3412242043, z=0, heading=-1.7750478915544148), Position(x=664474.9191388368, y=3998293.031895599, z=0, heading=-1.6759311321335493), Position(x=664474.1723056467, y=3998293.4764423086, z=0, heading=-1.7648324651907503), Position(x=664476.1366905005, y=3998292.158874864, z=0, heading=-1.6304512542963763), Position(x=664421.6559869384, y=3998310.008386828, z=0, heading=-0.3677028882632736), Position(x=664424.9976664888, y=3998281.8727549748, z=0, heading=1.7495150787415765), Position(x=664420.4216979038, y=3998242.4214898376, z=0, heading=0.861770617253022), Position(x=664432.496888453, y=3998280.645564344, z=0, heading=-1.535058939975894), Position(x=664438.4396965385, y=3998306.256076367, z=0, heading=-1.5468532396817904), Position(x=664432.1743501514, y=3998302.5844257786, z=0, heading=-1.5406167076911779), Position(x=664436.1810974416, y=3998256.5817104843, z=0, heading=-1.5498057141016675), Position(x=664434.7545633701, y=3998314.6787117817, z=0, heading=-1.523848809209135), Position(x=664435.7278370524, y=3998269.5471828226, z=0, heading=-1.5471668067937683), Position(x=664435.4174469018, y=3998288.494377337, z=0, heading=-1.5510237324179021), Position(x=664436.3414122085, y=3998242.004471834, z=0, heading=-1.5478027449491043), Position(x=664438.519540095, y=3998294.156108445, z=0, heading=-1.5441255531870444), Position(x=664438.9743625321, y=3998270.094466378, z=0, heading=-1.5501354705018957), Position(x=664431.8581241125, y=3998314.834956023, z=0, heading=-1.510749551964086), Position(x=664435.020521364, y=3998305.419308958, z=0, heading=-1.5551974648892686), Position(x=664445.1981486873, y=3998271.5782637084, z=0, heading=-1.5494463957631122), Position(x=664434.1873603199, y=3998323.6110913167, z=0, heading=-1.561305466956802), Position(x=664432.6615283727, y=3998263.071552181, z=0, heading=-1.539577572904156), Position(x=664432.8150549737, y=3998245.119461614, z=0, heading=-1.5504850495141729), Position(x=664442.2406733668, y=3998264.8487658603, z=0, heading=-1.5468585792594995), Position(x=664440.184507314, y=3998222.940044614, z=0, heading=-1.5108062903721546), Position(x=664439.3815060967, y=3998257.5017378544, z=0, heading=-1.5515475207340956), Position(x=664442.3860105257, y=3998256.236513852, z=0, heading=-1.5646735502226852), Position(x=664430.7760585005, y=3998348.356597533, z=0, heading=-1.558442466811984), Position(x=664429.2012240833, y=3998262.2508812514, z=0, heading=-1.53064248915514), Position(x=664431.2004381171, y=3998331.8206845294, z=0, heading=-1.5112891502793422), Position(x=664428.7095675598, y=3998309.8944951603, z=0, heading=-1.5370573495511026), Position(x=664460.6460778257, y=3998285.0789918574, z=0, heading=0.4695037538365316), Position(x=664454.5010199805, y=3998325.229850843, z=0, heading=1.6089599068184954), Position(x=664427.6619467816, y=3998348.320371218, z=0, heading=-1.5034316144275317), Position(x=664454.8272472935, y=3998305.335345867, z=0, heading=1.5942594824572298), Position(x=664427.9456681563, y=3998329.635988413, z=0, heading=-1.5319540203359723), Position(x=664442.7879059841, y=3998245.1587338634, z=0, heading=-1.5421474906250732), Position(x=664455.6583791417, y=3998287.5206416873, z=0, heading=1.592602537450228), Position(x=664455.6913209177, y=3998268.2284994717, z=0, heading=1.5900911400142028), Position(x=664433.202603796, y=3998370.385647799, z=0, heading=-1.5136812640632056), Position(x=664445.5160868515, y=3998256.4049847308, z=0, heading=-1.5880021234967434), Position(x=664438.5243566312, y=3998314.5107447216, z=0, heading=-1.6382335277715598), Position(x=664468.2448590331, y=3998276.901278083, z=0, heading=0.8352172570774483)], timestamp=TimePoint(time_us=1620859498100533), image_idx=0)\n",
      "Sensor Output: {'rgb_image': (array([[[0.49034393, 0.48664257, 0.3755324 ],\n",
      "        [0.4907589 , 0.4870569 , 0.37576157],\n",
      "        [0.49117386, 0.487471  , 0.375991  ],\n",
      "        ...,\n",
      "        [0.5822385 , 0.57340896, 0.4408872 ],\n",
      "        [0.5820445 , 0.5731981 , 0.44078952],\n",
      "        [0.5818506 , 0.5729869 , 0.4406913 ]],\n",
      "\n",
      "       [[0.49065405, 0.4869473 , 0.3757968 ],\n",
      "        [0.4910687 , 0.48736125, 0.37602574],\n",
      "        [0.49148324, 0.48777488, 0.37625477],\n",
      "        ...,\n",
      "        [0.58243454, 0.5735055 , 0.44102252],\n",
      "        [0.58224154, 0.5732953 , 0.4409249 ],\n",
      "        [0.5820483 , 0.57308507, 0.44082734]],\n",
      "\n",
      "       [[0.4911272 , 0.48743153, 0.37636173],\n",
      "        [0.49149087, 0.48780036, 0.37654692],\n",
      "        [0.49190798, 0.4882192 , 0.37677675],\n",
      "        ...,\n",
      "        [0.5821665 , 0.57311225, 0.44072264],\n",
      "        [0.581939  , 0.57286966, 0.4406058 ],\n",
      "        [0.58170956, 0.5726312 , 0.44050333]],\n",
      "\n",
      "       ...,\n",
      "\n",
      "       [[0.35116208, 0.34683704, 0.2655605 ],\n",
      "        [0.35108516, 0.34676108, 0.265508  ],\n",
      "        [0.35100776, 0.34668466, 0.26545534],\n",
      "        ...,\n",
      "        [0.21927701, 0.22030038, 0.1948522 ],\n",
      "        [0.21924539, 0.22027472, 0.19484925],\n",
      "        [0.21921411, 0.22024944, 0.19484675]],\n",
      "\n",
      "       [[0.35041505, 0.34605053, 0.2650319 ],\n",
      "        [0.35033813, 0.34597448, 0.26497945],\n",
      "        [0.3502607 , 0.3458981 , 0.2649266 ],\n",
      "        ...,\n",
      "        [0.21885385, 0.21980944, 0.1944727 ],\n",
      "        [0.21882243, 0.21978396, 0.19446978],\n",
      "        [0.21879119, 0.21975881, 0.19446717]],\n",
      "\n",
      "       [[0.34966868, 0.34526458, 0.2645034 ],\n",
      "        [0.34959146, 0.34518853, 0.2644509 ],\n",
      "        [0.34951407, 0.34511194, 0.26439804],\n",
      "        ...,\n",
      "        [0.21843159, 0.21931967, 0.1940938 ],\n",
      "        [0.21840014, 0.21929418, 0.19409071],\n",
      "        [0.21836933, 0.21926926, 0.1940883 ]]], dtype=float32), array([[[0.10424232],\n",
      "        [0.10424357],\n",
      "        [0.10424484],\n",
      "        ...,\n",
      "        [0.10942496],\n",
      "        [0.10942874],\n",
      "        [0.10943245]],\n",
      "\n",
      "       [[0.10423838],\n",
      "        [0.10423961],\n",
      "        [0.10424079],\n",
      "        ...,\n",
      "        [0.10941501],\n",
      "        [0.10941872],\n",
      "        [0.10942239]],\n",
      "\n",
      "       [[0.10423365],\n",
      "        [0.10423566],\n",
      "        [0.10423685],\n",
      "        ...,\n",
      "        [0.10940504],\n",
      "        [0.10940875],\n",
      "        [0.10941246]],\n",
      "\n",
      "       ...,\n",
      "\n",
      "       [[0.14027102],\n",
      "        [0.14028656],\n",
      "        [0.14030214],\n",
      "        ...,\n",
      "        [0.15572588],\n",
      "        [0.15571488],\n",
      "        [0.15570416]],\n",
      "\n",
      "       [[0.14038368],\n",
      "        [0.1403992 ],\n",
      "        [0.14041477],\n",
      "        ...,\n",
      "        [0.15583768],\n",
      "        [0.1558266 ],\n",
      "        [0.15581596]],\n",
      "\n",
      "       [[0.14049624],\n",
      "        [0.14051183],\n",
      "        [0.14052743],\n",
      "        ...,\n",
      "        [0.15594919],\n",
      "        [0.15593807],\n",
      "        [0.15592735]]], dtype=float32))}\n",
      "Action: [Waypoint(_time_point=TimePoint(time_us=1620859498100533), _oriented_box=<nuplan.common.actor_state.oriented_box.OrientedBox object at 0x7fe2fafd8df0>, _velocity=x: 1.0, y: 0.0), Waypoint(_time_point=TimePoint(time_us=1620859498200533), _oriented_box=<nuplan.common.actor_state.oriented_box.OrientedBox object at 0x7fe2fafd8190>, _velocity=x: 1.0, y: 0.0), Waypoint(_time_point=TimePoint(time_us=1620859498300533), _oriented_box=<nuplan.common.actor_state.oriented_box.OrientedBox object at 0x7fe2fafd82b0>, _velocity=x: 1.0, y: 0.0), Waypoint(_time_point=TimePoint(time_us=1620859498400533), _oriented_box=<nuplan.common.actor_state.oriented_box.OrientedBox object at 0x7fe2fafd83d0>, _velocity=x: 1.0, y: 0.0), Waypoint(_time_point=TimePoint(time_us=1620859498500533), _oriented_box=<nuplan.common.actor_state.oriented_box.OrientedBox object at 0x7fe2fafd84f0>, _velocity=x: 1.0, y: 0.0), Waypoint(_time_point=TimePoint(time_us=1620859498600533), _oriented_box=<nuplan.common.actor_state.oriented_box.OrientedBox object at 0x7fe2fafd8610>, _velocity=x: 1.0, y: 0.0), Waypoint(_time_point=TimePoint(time_us=1620859498700533), _oriented_box=<nuplan.common.actor_state.oriented_box.OrientedBox object at 0x7fe2fafd8730>, _velocity=x: 1.0, y: 0.0), Waypoint(_time_point=TimePoint(time_us=1620859498800533), _oriented_box=<nuplan.common.actor_state.oriented_box.OrientedBox object at 0x7fe2fafd8850>, _velocity=x: 1.0, y: 0.0), Waypoint(_time_point=TimePoint(time_us=1620859498900533), _oriented_box=<nuplan.common.actor_state.oriented_box.OrientedBox object at 0x7fe2fafd8970>, _velocity=x: 1.0, y: 0.0), Waypoint(_time_point=TimePoint(time_us=1620859499000533), _oriented_box=<nuplan.common.actor_state.oriented_box.OrientedBox object at 0x7fe2fafd8a90>, _velocity=x: 1.0, y: 0.0)]\n",
      "Error History: [State(ego_pos=Position(x=0.05000800000000005, y=0.050008, z=0, heading=0.0), vehicle_pos_list=[Position(x=664422.557474134, y=3998309.6080073467, z=0, heading=1.6492447952368838), Position(x=664423.7838124016, y=3998268.9831958273, z=0, heading=1.5222890384003476), Position(x=664424.5871124974, y=3998268.986899235, z=0, heading=1.529135577706155), Position(x=664468.270845567, y=3998276.9187248894, z=0, heading=0.23865416013631702), Position(x=664461.6414272254, y=3998271.491280191, z=0, heading=-0.49047337672501), Position(x=664472.6506351741, y=3998288.041882557, z=0, heading=1.4919324683199413), Position(x=664470.0855619726, y=3998288.9335994706, z=0, heading=-1.6898720430503178), Position(x=664470.7499947717, y=3998288.721230453, z=0, heading=-1.686632146221038), Position(x=664473.9613018968, y=3998286.280407946, z=0, heading=-1.5830461053046005), Position(x=664471.3247427285, y=3998291.4836220136, z=0, heading=-1.764154302209712), Position(x=664470.5302064423, y=3998291.922157377, z=0, heading=-1.8051554287987503), Position(x=664474.7513268685, y=3998290.3363141725, z=0, heading=-1.5921794584211495), Position(x=664471.6825811857, y=3998291.207522222, z=0, heading=-1.7230422019642675), Position(x=664472.3947951784, y=3998292.8781911638, z=0, heading=-1.7474232903421434), Position(x=664471.244224276, y=3998293.417040783, z=0, heading=-1.7672027411408835), Position(x=664474.894159344, y=3998293.099769868, z=0, heading=-1.6679743222811139), Position(x=664474.1872969865, y=3998293.5235490343, z=0, heading=-1.7557352778917612), Position(x=664476.1375004454, y=3998292.215019712, z=0, heading=-1.6198635901554934), Position(x=664421.6347298671, y=3998310.0151387085, z=0, heading=-0.3521097412532779), Position(x=664425.0005331244, y=3998281.8568861866, z=0, heading=1.7495150787415765), Position(x=664420.3807995004, y=3998242.3738135877, z=0, heading=0.861770617253022), Position(x=664432.4853972042, y=3998280.87295385, z=0, heading=-1.5359823909318127), Position(x=664438.4532643792, y=3998306.3114567087, z=0, heading=-1.5492927524105877), Position(x=664432.170390463, y=3998302.675173049, z=0, heading=-1.5396265308240413), Position(x=664436.1700951254, y=3998256.9688827703, z=0, heading=-1.551620069255477), Position(x=664434.7555739315, y=3998314.737542424, z=0, heading=-1.5237252507590948), Position(x=664435.7203117295, y=3998269.9331566896, z=0, heading=-1.5505735889475847), Position(x=664435.4147251451, y=3998288.6903365934, z=0, heading=-1.549424766950632), Position(x=664436.3284555543, y=3998242.3429468423, z=0, heading=-1.5519950200451467), Position(x=664438.5232676814, y=3998294.3563282927, z=0, heading=-1.5421348623447533), Position(x=664438.9804724895, y=3998270.4415227915, z=0, heading=-1.5506937325619716), Position(x=664431.8594060789, y=3998314.886316468, z=0, heading=-1.508458096443018), Position(x=664435.0166508781, y=3998305.500363925, z=0, heading=-1.5528914616258773), Position(x=664445.1926181067, y=3998271.7118312153, z=0, heading=-1.5477936704251432), Position(x=664434.2008379931, y=3998323.621954266, z=0, heading=-1.560916869099221), Position(x=664432.6536840645, y=3998263.4286534204, z=0, heading=-1.5409141383472764), Position(x=664432.7878605346, y=3998245.5953294015, z=0, heading=-1.5485302824924105), Position(x=664442.2304800991, y=3998264.851970829, z=0, heading=-1.5475846496854422), Position(x=664440.1784447702, y=3998223.4298725766, z=0, heading=-1.516751999740358), Position(x=664439.3693809225, y=3998257.80742144, z=0, heading=-1.556845473831935), Position(x=664442.3740989203, y=3998256.2608551276, z=0, heading=-1.5626905328170575), Position(x=664430.7969998377, y=3998348.2982534124, z=0, heading=-1.5424956046860867), Position(x=664429.1968956988, y=3998262.5780055714, z=0, heading=-1.530907019885404), Position(x=664431.2114554916, y=3998331.939026798, z=0, heading=-1.5070949110303675), Position(x=664428.700140402, y=3998310.0318875695, z=0, heading=-1.5368576830927048), Position(x=664460.6379486538, y=3998285.062624385, z=0, heading=0.47523128535443643), Position(x=664454.5391898128, y=3998324.7160189617, z=0, heading=1.6052508400117023), Position(x=664427.7168751096, y=3998348.5610737028, z=0, heading=-1.4992835881441129), Position(x=664454.8441691627, y=3998305.024298557, z=0, heading=1.5949981797515667), Position(x=664427.9384042915, y=3998329.928476643, z=0, heading=-1.535300391219793), Position(x=664442.8313388556, y=3998245.140570088, z=0, heading=-1.5328338644127022), Position(x=664455.6686286385, y=3998287.158792436, z=0, heading=1.5958366603881178), Position(x=664455.7049149117, y=3998268.011985763, z=0, heading=1.5932618798143259), Position(x=664433.1437230381, y=3998370.7849372067, z=0, heading=-1.508453102513689), Position(x=664438.5245921554, y=3998314.5167137478, z=0, heading=-1.595924663394935), Position(x=664468.2399898783, y=3998276.9007486715, z=0, heading=0.8352172570774483)], timestamp=TimePoint(time_us=1620859498050522), image_idx=0), State(ego_pos=Position(x=0.05001100000000003, y=0.050011, z=0, heading=0.0), vehicle_pos_list=[Position(x=664422.557557513, y=3998309.647970365, z=0, heading=1.6452568120545914), Position(x=664423.7857212065, y=3998269.0515347095, z=0, heading=1.522408956367613), Position(x=664424.5887893157, y=3998269.057986373, z=0, heading=1.5309885188159722), Position(x=664468.2673145415, y=3998276.9167168397, z=0, heading=0.23865416013631702), Position(x=664461.644940855, y=3998271.505268418, z=0, heading=-0.516791559483897), Position(x=664472.6579576771, y=3998288.0995937814, z=0, heading=1.4962759539489188), Position(x=664470.0653011833, y=3998288.881357203, z=0, heading=-1.689578998611831), Position(x=664470.7575405095, y=3998288.714497598, z=0, heading=-1.6794346288791304), Position(x=664473.9698180046, y=3998286.2065321133, z=0, heading=-1.577988688168791), Position(x=664471.3099443511, y=3998291.4154654806, z=0, heading=-1.7677327732910366), Position(x=664470.5040835593, y=3998291.862945483, z=0, heading=-1.8126875122902673), Position(x=664474.7496365297, y=3998290.276536892, z=0, heading=-1.5969126140127796), Position(x=664471.6709493111, y=3998291.148501389, z=0, heading=-1.7230422019642675), Position(x=664472.3873558092, y=3998292.815756891, z=0, heading=-1.7502871829006421), Position(x=664471.2353955033, y=3998293.3412242043, z=0, heading=-1.7750478915544148), Position(x=664474.9191388368, y=3998293.031895599, z=0, heading=-1.6759311321335493), Position(x=664474.1723056467, y=3998293.4764423086, z=0, heading=-1.7648324651907503), Position(x=664476.1366905005, y=3998292.158874864, z=0, heading=-1.6304512542963763), Position(x=664421.6559869384, y=3998310.008386828, z=0, heading=-0.3677028882632736), Position(x=664424.9976664888, y=3998281.8727549748, z=0, heading=1.7495150787415765), Position(x=664420.4216979038, y=3998242.4214898376, z=0, heading=0.861770617253022), Position(x=664432.496888453, y=3998280.645564344, z=0, heading=-1.535058939975894), Position(x=664438.4396965385, y=3998306.256076367, z=0, heading=-1.5468532396817904), Position(x=664432.1743501514, y=3998302.5844257786, z=0, heading=-1.5406167076911779), Position(x=664436.1810974416, y=3998256.5817104843, z=0, heading=-1.5498057141016675), Position(x=664434.7545633701, y=3998314.6787117817, z=0, heading=-1.523848809209135), Position(x=664435.7278370524, y=3998269.5471828226, z=0, heading=-1.5471668067937683), Position(x=664435.4174469018, y=3998288.494377337, z=0, heading=-1.5510237324179021), Position(x=664436.3414122085, y=3998242.004471834, z=0, heading=-1.5478027449491043), Position(x=664438.519540095, y=3998294.156108445, z=0, heading=-1.5441255531870444), Position(x=664438.9743625321, y=3998270.094466378, z=0, heading=-1.5501354705018957), Position(x=664431.8581241125, y=3998314.834956023, z=0, heading=-1.510749551964086), Position(x=664435.020521364, y=3998305.419308958, z=0, heading=-1.5551974648892686), Position(x=664445.1981486873, y=3998271.5782637084, z=0, heading=-1.5494463957631122), Position(x=664434.1873603199, y=3998323.6110913167, z=0, heading=-1.561305466956802), Position(x=664432.6615283727, y=3998263.071552181, z=0, heading=-1.539577572904156), Position(x=664432.8150549737, y=3998245.119461614, z=0, heading=-1.5504850495141729), Position(x=664442.2406733668, y=3998264.8487658603, z=0, heading=-1.5468585792594995), Position(x=664440.184507314, y=3998222.940044614, z=0, heading=-1.5108062903721546), Position(x=664439.3815060967, y=3998257.5017378544, z=0, heading=-1.5515475207340956), Position(x=664442.3860105257, y=3998256.236513852, z=0, heading=-1.5646735502226852), Position(x=664430.7760585005, y=3998348.356597533, z=0, heading=-1.558442466811984), Position(x=664429.2012240833, y=3998262.2508812514, z=0, heading=-1.53064248915514), Position(x=664431.2004381171, y=3998331.8206845294, z=0, heading=-1.5112891502793422), Position(x=664428.7095675598, y=3998309.8944951603, z=0, heading=-1.5370573495511026), Position(x=664460.6460778257, y=3998285.0789918574, z=0, heading=0.4695037538365316), Position(x=664454.5010199805, y=3998325.229850843, z=0, heading=1.6089599068184954), Position(x=664427.6619467816, y=3998348.320371218, z=0, heading=-1.5034316144275317), Position(x=664454.8272472935, y=3998305.335345867, z=0, heading=1.5942594824572298), Position(x=664427.9456681563, y=3998329.635988413, z=0, heading=-1.5319540203359723), Position(x=664442.7879059841, y=3998245.1587338634, z=0, heading=-1.5421474906250732), Position(x=664455.6583791417, y=3998287.5206416873, z=0, heading=1.592602537450228), Position(x=664455.6913209177, y=3998268.2284994717, z=0, heading=1.5900911400142028), Position(x=664433.202603796, y=3998370.385647799, z=0, heading=-1.5136812640632056), Position(x=664445.5160868515, y=3998256.4049847308, z=0, heading=-1.5880021234967434), Position(x=664438.5243566312, y=3998314.5107447216, z=0, heading=-1.6382335277715598), Position(x=664468.2448590331, y=3998276.901278083, z=0, heading=0.8352172570774483)], timestamp=TimePoint(time_us=1620859498100533), image_idx=0), State(ego_pos=Position(x=0.050013000000000085, y=0.050012999999999995, z=0, heading=0.0), vehicle_pos_list=[Position(x=664422.566557566, y=3998309.6919924887, z=0, heading=1.6219900322573206), Position(x=664423.7917210081, y=3998269.1214798, z=0, heading=1.5218390499127512), Position(x=664424.5945580247, y=3998269.1261943975, z=0, heading=1.5300134319766858), Position(x=664468.2637833748, y=3998276.91470871, z=0, heading=0.23865416013631702), Position(x=664461.6536047189, y=3998271.5115452083, z=0, heading=-0.5363030546448497), Position(x=664472.660544885, y=3998288.163655068, z=0, heading=1.4994181807468268), Position(x=664470.0477234047, y=3998288.821350006, z=0, heading=-1.6838798156741561), Position(x=664470.760144818, y=3998288.685934181, z=0, heading=-1.6647150385894531), Position(x=664473.9752897375, y=3998286.1296772277, z=0, heading=-1.5781183174541595), Position(x=664471.3030453428, y=3998291.346097199, z=0, heading=-1.7623004553492458), Position(x=664470.4820987335, y=3998291.8010190073, z=0, heading=-1.8141718500318766), Position(x=664474.7490480271, y=3998290.223341676, z=0, heading=-1.6002983436580636), Position(x=664471.6593169713, y=3998291.089478196, z=0, heading=-1.7230422019642675), Position(x=664472.3752770774, y=3998292.754451914, z=0, heading=-1.7550862563286571), Position(x=664471.2330768679, y=3998293.2681184667, z=0, heading=-1.7722127701406278), Position(x=664474.9215476507, y=3998292.9793035844, z=0, heading=-1.67541367998293), Position(x=664474.1718404747, y=3998293.4139061174, z=0, heading=-1.761088903575964), Position(x=664476.1424886847, y=3998292.100109387, z=0, heading=-1.6302065145602824), Position(x=664421.6846420092, y=3998309.9998990293, z=0, heading=-0.38062233064336803), Position(x=664425.008373562, y=3998281.905686148, z=0, heading=1.6965904238961906), Position(x=664420.4625979427, y=3998242.4691679943, z=0, heading=0.861770617253022), Position(x=664432.508294478, y=3998280.4025333836, z=0, heading=-1.534060217598092), Position(x=664438.4544394385, y=3998306.2341321497, z=0, heading=-1.547534942975725), Position(x=664432.20432573, y=3998302.5056340517, z=0, heading=-1.5407643032065248), Position(x=664436.1903109038, y=3998256.1394234714, z=0, heading=-1.5527724788184136), Position(x=664434.7618513808, y=3998314.616808186, z=0, heading=-1.5245394048259902), Position(x=664435.7289322336, y=3998269.1578006665, z=0, heading=-1.5491756754184258), Position(x=664435.4257144134, y=3998288.302577544, z=0, heading=-1.550766559520227), Position(x=664436.3377200261, y=3998241.663788175, z=0, heading=-1.5511359409139214), Position(x=664438.5237722632, y=3998293.993859209, z=0, heading=-1.5410856648090359), Position(x=664438.9806577947, y=3998269.7693580016, z=0, heading=-1.5531599754904848), Position(x=664431.8618885743, y=3998314.767675623, z=0, heading=-1.5066901875603766), Position(x=664435.0301059076, y=3998305.3814417897, z=0, heading=-1.5523403362822674), Position(x=664445.1986789055, y=3998271.4316416066, z=0, heading=-1.5481966511547538), Position(x=664434.18794275, y=3998323.5723982616, z=0, heading=-1.5585696016088542), Position(x=664432.6666262633, y=3998262.7079346203, z=0, heading=-1.5412363460983431), Position(x=664432.8354407132, y=3998244.7585179354, z=0, heading=-1.5514104523315828), Position(x=664442.234807685, y=3998264.8457725802, z=0, heading=-1.5398756655609538), Position(x=664440.1969266378, y=3998222.5283097327, z=0, heading=-1.5002556379876089), Position(x=664439.3891421567, y=3998257.1825381266, z=0, heading=-1.5509262648391338), Position(x=664442.3900940185, y=3998256.239860382, z=0, heading=-1.5632190137340936), Position(x=664430.7831311489, y=3998348.3352537933, z=0, heading=-1.5647679588461363), Position(x=664429.198560783, y=3998261.942549494, z=0, heading=-1.5335053282224582), Position(x=664431.2065568336, y=3998331.7527046045, z=0, heading=-1.5101837437466454), Position(x=664428.728596799, y=3998309.582419694, z=0, heading=-1.5342572954094884), Position(x=664460.6194926267, y=3998285.0744602517, z=0, heading=0.47079771600381143), Position(x=664454.4751970861, y=3998325.65052835, z=0, heading=1.6086267400290535), Position(x=664427.6562439688, y=3998348.0520583144, z=0, heading=-1.4992209971114607), Position(x=664454.8174881508, y=3998305.609892955, z=0, heading=1.594330364852544), Position(x=664427.9787061006, y=3998329.404735954, z=0, heading=-1.5292111400826867), Position(x=664442.785988827, y=3998245.1653878684, z=0, heading=-1.533985885479941), Position(x=664455.657642896, y=3998287.877046992, z=0, heading=1.5966844496112162), Position(x=664455.6909135391, y=3998268.4818427353, z=0, heading=1.5953383684400586), Position(x=664433.2427648674, y=3998370.0054730303, z=0, heading=-1.5163111730685102), Position(x=664445.4396937073, y=3998256.42213525, z=0, heading=-1.5975055922700745), Position(x=664438.5278329968, y=3998314.5016714344, z=0, heading=-1.632989382090611), Position(x=664468.2497283828, y=3998276.9018075163, z=0, heading=0.8352172570774483)], timestamp=TimePoint(time_us=1620859498150546), image_idx=0)]\n"
     ]
    }
   ],
   "source": [
    "\n",
    "error_history = []\n",
    "sensor_outputs = []\n",
    "\n",
    "for i in range(3):\n",
    "    print(\"Step\", i)\n",
    "    state = simulator.get_state()\n",
    "    print(\"State:\", state)\n",
    "    sensor_output = environment_model.get_sensor_output(state)\n",
    "    sensor_outputs.append(sensor_output)\n",
    "    print(\"Sensor Output:\", sensor_output)\n",
    "    action = agent.get_action(sensor_output, state.timestamp)\n",
    "    print(\"Action:\", action)\n",
    "    simulator.do_action(action)\n",
    "    error_history.append(simulator.get_state())\n",
    "\n",
    "print(\"Error History:\", error_history)\n"
   ]
  },
  {
   "cell_type": "code",
   "execution_count": null,
   "id": "d70f32e2",
   "metadata": {},
   "outputs": [],
   "source": [
    "def print_rgb_image(rgb_image):\n",
    "    \"\"\"\n",
    "    Print the RGB image to the console.\n",
    "    \n",
    "    Args:\n",
    "        rgb_image (np.ndarray): The RGB image to print\n",
    "    \"\"\"\n",
    "    # Assuming rgb_image is a numpy array of shape (H, W, 3)\n",
    "    import matplotlib.pyplot as plt\n",
    "    \n",
    "    plt.imshow(rgb_image)\n",
    "    plt.axis('off')  # Hide axes\n",
    "    plt.show()\n",
    "# Example usage\n",
    "\n",
    "for sensor_output in sensor_outputs:\n",
    "    rgb_image = sensor_output[\"rgb_image\"]\n",
    "    print_rgb_image(rgb_image)"
   ]
  }
 ],
 "metadata": {
  "kernelspec": {
   "display_name": "Python 3",
   "language": "python",
   "name": "python3"
  },
  "language_info": {
   "codemirror_mode": {
    "name": "ipython",
    "version": 3
   },
   "file_extension": ".py",
   "mimetype": "text/x-python",
   "name": "python",
   "nbconvert_exporter": "python",
   "pygments_lexer": "ipython3",
   "version": "3.9.21"
  }
 },
 "nbformat": 4,
 "nbformat_minor": 5
}
