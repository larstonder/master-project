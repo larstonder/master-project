{
 "cells": [
  {
   "cell_type": "code",
   "execution_count": 1,
   "metadata": {},
   "outputs": [],
   "source": [
    "import os\n",
    "from omegaconf import OmegaConf\n",
    "from nuplan.common.actor_state.vehicle_parameters import get_pacifica_parameters\n",
    "from nuplan.planning.scenario_builder.nuplan_db.nuplan_scenario_builder import NuPlanScenarioBuilder\n",
    "from nuplan.planning.scenario_builder.scenario_filter import ScenarioFilter\n",
    "from nuplan.planning.scenario_builder.abstract_scenario import AbstractScenario\n",
    "from nuplan.planning.simulation.controller.abstract_controller import AbstractEgoController\n",
    "from nuplan.planning.simulation.observation.tracks_observation import TracksObservation\n",
    "from nuplan.planning.simulation.planner.abstract_planner import AbstractPlanner\n",
    "from nuplan.planning.simulation.simulation_time_controller.step_simulation_time_controller import (\n",
    "    StepSimulationTimeController,\n",
    ")\n",
    "from nuplan.planning.simulation.simulation import Simulation\n",
    "from nuplan.planning.simulation.simulation_setup import SimulationSetup\n",
    "from nuplan.planning.script.builders.worker_pool_builder import build_worker\n",
    "from nuplan.planning.simulation.controller.perfect_tracking import PerfectTrackingController\n",
    "\n",
    "NUPLAN_DATA_ROOT = os.getenv('NUPLAN_DATA_ROOT', '/data/sets/nuplan')\n",
    "NUPLAN_MAPS_ROOT = os.getenv('NUPLAN_MAPS_ROOT', '/data/sets/nuplan/maps')\n",
    "NUPLAN_DB_FILES = os.getenv('NUPLAN_DB_FILES', '/data/sets/nuplan/nuplan-v1.1/splits/mini')\n",
    "NUPLAN_MAP_VERSION = os.getenv('NUPLAN_MAP_VERSION', 'nuplan-maps-v1.0')\n",
    "NUPLAN_SENSOR_ROOT = f\"{NUPLAN_DATA_ROOT}/nuplan-v1.1/sensor_blobs\"\n",
    "DB_FILE = f\"{NUPLAN_DATA_ROOT}/nuplan-v1.1/splits/mini/2021.05.12.22.28.35_veh-35_00620_01164.db\"\n",
    "MAP_NAME = \"us-nv-las-vegas\""
   ]
  },
  {
   "cell_type": "code",
   "execution_count": 29,
   "metadata": {},
   "outputs": [
    {
     "name": "stdout",
     "output_type": "stream",
     "text": [
      "Number of scenarios:  9600\n",
      "Scenario type:  <class 'nuplan.planning.scenario_builder.nuplan_db.nuplan_scenario.NuPlanScenario'>\n",
      "NuPlan initialized.\n"
     ]
    }
   ],
   "source": [
    "scenario_builder = NuPlanScenarioBuilder(\n",
    "    data_root=NUPLAN_DATA_ROOT,\n",
    "    map_root=NUPLAN_MAPS_ROOT,\n",
    "    sensor_root=NUPLAN_SENSOR_ROOT,\n",
    "    db_files=[DB_FILE],\n",
    "    map_version=NUPLAN_MAP_VERSION,\n",
    "    vehicle_parameters=get_pacifica_parameters(),\n",
    "    include_cameras=False,\n",
    "    verbose=True\n",
    ")\n",
    "\n",
    "scenario_filter = ScenarioFilter(\n",
    "    log_names = [\"2021.05.12.22.28.35_veh-35_00620_01164\"],\n",
    "    scenario_types = None,\n",
    "    scenario_tokens = None,\n",
    "    map_names = None,\n",
    "    num_scenarios_per_type = None,\n",
    "    limit_total_scenarios = None,\n",
    "    timestamp_threshold_s = None,\n",
    "    ego_displacement_minimum_m = None,\n",
    "    expand_scenarios = False,\n",
    "    remove_invalid_goals = False,\n",
    "    shuffle = False\n",
    ")\n",
    "\n",
    "worker_config = OmegaConf.create({\n",
    "    'worker': {\n",
    "        '_target_': 'nuplan.planning.utils.multithreading.worker_sequential.Sequential',  # Specify the worker class\n",
    "        # 'num_workers': 4,  # Number of workers\n",
    "        # '_target_': \"nuplan.planning.utils.multithreading.worker_parallel.SingleMachineParallelExecutor\",  # Specify the worker class\n",
    "        # '_target_': 'nuplan.planning.script.builders.worker_pool.Sequental',  # Specify the worker class\n",
    "    }\n",
    "})\n",
    "\n",
    "worker = build_worker(worker_config)\n",
    "scenarios = scenario_builder.get_scenarios(scenario_filter, worker)\n",
    "\n",
    "# Print the number of scenarios\n",
    "print(\"Number of scenarios: \", len(scenarios))\n",
    "scenario = scenarios[0]  # Get the first scenario\n",
    "# print the type of the scenario\n",
    "print(\"Scenario type: \", type(scenario))\n",
    "\n",
    "# print(\"Number of scenarios: \", len(scenario))\n",
    "\n",
    "time_controller = StepSimulationTimeController(scenario)\n",
    "observation = TracksObservation(scenario)\n",
    "# observations = build_observations(observation, scenario=scenario)\n",
    "controller = PerfectTrackingController(scenario)\n",
    "\n",
    "simulation_setup = SimulationSetup(\n",
    "    time_controller=time_controller,  # Required simulation time controller\n",
    "    observations=observation,  # Required observation\n",
    "    ego_controller=controller,  # Required ego controller\n",
    "    scenario=scenario  # Required scenario\n",
    ")\n",
    "\n",
    "simulation = Simulation(\n",
    "    simulation_setup=simulation_setup,  # Required simulation setup\n",
    "    callback=None,  # Optional callback functions\n",
    "    simulation_history_buffer_duration=2.0  # Optional history buffer duration\n",
    ")\n",
    "\n",
    "simulation.initialize()\n",
    "\n",
    "print(\"NuPlan initialized.\")"
   ]
  },
  {
   "cell_type": "code",
   "execution_count": 11,
   "metadata": {},
   "outputs": [
    {
     "name": "stdout",
     "output_type": "stream",
     "text": [
      "\n",
      "Planner attributes:\n",
      "history\n",
      "iteration\n",
      "traffic_light_data\n",
      "\n",
      "History attributes:\n",
      "_ego_state_buffer\n",
      "_observations_buffer\n",
      "_sample_interval\n",
      "append\n",
      "current_state\n",
      "duration\n",
      "ego_state_buffer\n",
      "ego_states\n",
      "extend\n",
      "initialize_from_list\n",
      "initialize_from_scenario\n",
      "observation_buffer\n",
      "observations\n",
      "sample_interval\n",
      "size\n",
      "\n",
      "Iteration attributes:\n",
      "index\n",
      "time_point\n",
      "time_s\n",
      "time_us\n"
     ]
    }
   ],
   "source": [
    "planner_input = simulation.get_planner_input()\n",
    "\n",
    "# print all the attributes of the planner input\n",
    "print(\"\\nPlanner attributes:\")\n",
    "for attr in dir(planner_input):\n",
    "    if not attr.startswith('__'):\n",
    "        print(attr)\n",
    "\n",
    "# history is of type SimulationHistoryBuffer\n",
    "history = planner_input.history\n",
    "# print all the attributes of the history\n",
    "\n",
    "print(\"\\nHistory attributes:\")\n",
    "for attr in dir(history):\n",
    "    if not attr.startswith('__'):\n",
    "        print(attr)\n",
    "\n",
    "# iteration is of type SimulationIteration\n",
    "iteration = planner_input.iteration\n",
    "\n",
    "# print all the attributes of the iteration that do not start with '__'\n",
    "print(\"\\nIteration attributes:\")\n",
    "for attr in dir(iteration):\n",
    "    if not attr.startswith('__'):\n",
    "        print(attr)"
   ]
  },
  {
   "cell_type": "code",
   "execution_count": 27,
   "metadata": {},
   "outputs": [
    {
     "name": "stdout",
     "output_type": "stream",
     "text": [
      "Last ego position: StateSE2(x=664431.8721475152, y=3998295.4482887965, heading=-1.521316690939634)\n",
      "Ego position: StateSE2(x=664431.9236408463, y=3998294.590372303, heading=-1.5198627795173558)\n",
      "Agent position: StateSE2(x=664422.5570504119, y=3998309.3846771335, heading=1.733215541888221)\n"
     ]
    }
   ],
   "source": [
    "last_ego_state = history.ego_state_buffer[-10]\n",
    "ego_state, observation_state = history.current_state\n",
    "\n",
    "last_ego_position = last_ego_state.waypoint.center\n",
    "ego_postition = ego_state.waypoint.center\n",
    "\n",
    "agents = observation_state.tracked_objects.get_agents()\n",
    "first_agent = agents[0]\n",
    "\n",
    "print(\"Last ego position: \" + str(last_ego_position))\n",
    "print(\"Ego position: \" + str(ego_postition))\n",
    "\n",
    "print(\"Agent position: \" + str(first_agent.center))"
   ]
  },
  {
   "cell_type": "code",
   "execution_count": null,
   "metadata": {},
   "outputs": [],
   "source": []
  }
 ],
 "metadata": {
  "kernelspec": {
   "display_name": "Python 3",
   "language": "python",
   "name": "python3"
  },
  "language_info": {
   "codemirror_mode": {
    "name": "ipython",
    "version": 3
   },
   "file_extension": ".py",
   "mimetype": "text/x-python",
   "name": "python",
   "nbconvert_exporter": "python",
   "pygments_lexer": "ipython3",
   "version": "3.9.20"
  }
 },
 "nbformat": 4,
 "nbformat_minor": 2
}
